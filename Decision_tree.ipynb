{
  "cells": [
    {
      "cell_type": "markdown",
      "metadata": {
        "id": "view-in-github",
        "colab_type": "text"
      },
      "source": [
        "<a href=\"https://colab.research.google.com/github/sidharth00/Python/blob/main/Decision_tree.ipynb\" target=\"_parent\"><img src=\"https://colab.research.google.com/assets/colab-badge.svg\" alt=\"Open In Colab\"/></a>"
      ]
    },
    {
      "cell_type": "markdown",
      "id": "1368eb12",
      "metadata": {
        "id": "1368eb12"
      },
      "source": [
        "### Question 1: What is a Decision Tree, and how does it work in the context of classification?\n",
        "\n",
        "A Decision Tree is a type of supervised machine learning algorithm that is mainly used for classification and regression tasks. In classification, it helps predict the category or class of a data point based on input features.\n",
        "\n",
        "The structure of a decision tree is similar to a flowchart. It starts at the top with a root node, which represents the entire dataset. From there, the data is split into branches using decision rules based on feature values. Each split leads to a new internal node or a leaf node, which holds the final prediction.\n",
        "\n",
        "How it works:\n",
        "1. The algorithm looks for the feature that best divides the data into classes.\n",
        "2. It uses metrics like Gini Impurity or Information Gain to determine the best splits.\n",
        "3. This process continues recursively, creating new branches until stopping criteria are met (like maximum depth or pure leaves).\n",
        "\n",
        "Example: Suppose we want to classify whether a person will buy a product or not based on their age and income. The tree might first split by age (>30 or <=30), then by income level.\n",
        "\n",
        "Conclusion: Decision Trees are easy to understand and interpret. They mimic human decision-making, making them popular in business and educational settings."
      ]
    },
    {
      "cell_type": "markdown",
      "id": "8bcbbaf6",
      "metadata": {
        "id": "8bcbbaf6"
      },
      "source": [
        "### Question 2: Explain the concepts of Gini Impurity and Entropy as impurity measures. How do they impact the splits in a Decision Tree?\n",
        "\n",
        "In a decision tree, Gini Impurity and Entropy are used to measure how mixed the classes are in a dataset. These help the algorithm decide where to split the data for the best classification.\n",
        "\n",
        "1. Gini Impurity:\n",
        "Measures the probability of wrongly classifying a randomly chosen element.\n",
        "Formula: Gini = 1 - Σ(p_i^2), where p_i is the probability of class i.\n",
        "A Gini value of 0 means perfect classification.\n",
        "\n",
        "2. Entropy:\n",
        "- Comes from information theory. Measures disorder or uncertainty.\n",
        "- Formula: Entropy = -Σ(p_i * log2(p_i))\n",
        "- Entropy is highest when classes are equally mixed.\n",
        "\n",
        "Impact on Splits:\n",
        "- The decision tree selects the feature and threshold that results in the greatest reduction in impurity (either Gini or Entropy).\n",
        "- This helps create pure child nodes where samples mostly belong to one class.\n",
        "\n",
        "Example: If a node has 10 class A and 10 class B samples, impurity is high. A good split will create child nodes like one with 9A, 1B and another with 1A, 9B."
      ]
    },
    {
      "cell_type": "markdown",
      "id": "6a942929",
      "metadata": {
        "id": "6a942929"
      },
      "source": [
        "### Question 3: What is the difference between Pre-Pruning and Post-Pruning in Decision Trees? Give one practical advantage of using each.\n",
        "\n",
        "Pre-Pruning (Early Stopping):\n",
        "- Stops the tree from growing too large during training.\n",
        "- It uses rules like max_depth, min_samples_split, or min_samples_leaf to limit growth.\n",
        "- Prevents overfitting by simplifying the tree early.\n",
        "\n",
        "Advantage:\n",
        "- Faster training time since it avoids building a large tree unnecessarily.\n",
        "\n",
        "Post-Pruning:\n",
        "- First builds a full tree, then removes branches that do not improve accuracy.\n",
        "- Also called cost-complexity pruning.\n",
        "\n",
        "Advantage:\n",
        "- Leads to a more accurate and generalized model, since pruning is done after seeing the full data.\n",
        "\n",
        "Conclusion: Both methods help avoid overfitting. Pre-pruning saves time, while post pruning improves model performance."
      ]
    },
    {
      "cell_type": "markdown",
      "id": "e638fad5",
      "metadata": {
        "id": "e638fad5"
      },
      "source": [
        "### Question 4: What is Information Gain in Decision Trees, and why is it important for choosing the best split?\n",
        "\n",
        "Information Gain is a metric used to choose the feature that best splits the dataset in a Decision Tree.\n",
        "\n",
        "It measures the reduction in entropy after a dataset is split based on a feature. The idea is that a good split gives us more “pure” groups.\n",
        "\n",
        "Formula: IG = Entropy(parent) - Entropy(child)\n",
        "\n",
        "Why it’s important:\n",
        "- A higher information gain means better separation between classes.\n",
        "- The tree selects the feature with the highest information gain at each step.\n",
        "\n",
        "Example:\n",
        "If we split data by the feature “Age > 30”, and this split results in two child nodes where each node has mostly one class, the entropy decreases and information gain increases.\n",
        "\n",
        "Conclusion: Information Gain helps build trees that make better decisions by focusing on the most informative features."
      ]
    },
    {
      "cell_type": "markdown",
      "id": "28ba78a2",
      "metadata": {
        "id": "28ba78a2"
      },
      "source": [
        "### Question 5: What are some common real-world applications of Decision Trees, and what are their main advantages and limitations?\n",
        "\n",
        "Applications:\n",
        "1. Healthcare: Diagnosing diseases based on symptoms.\n",
        "2. Finance: Approving loans based on credit score, income.\n",
        "3. Marketing: Predicting customer churn or product purchase.\n",
        "4. Education: Predicting student performance.\n",
        "\n",
        "Advantages:\n",
        "- Easy to understand and visualize\n",
        "- Can handle both numerical and categorical data\n",
        "- Requires little data preprocessing (no need for normalization)\n",
        "\n",
        "Limitations:\n",
        "- Prone to overfitting on noisy data\n",
        "- Small changes in data can change the structure drastically\n",
        "- Greedy approach may not lead to the optimal tree\n",
        "\n",
        "Conclusion:\n",
        "Decision Trees are powerful tools for classification and regression tasks, especially when interpretability is important."
      ]
    },
    {
      "cell_type": "code",
      "source": [
        "#Question 6: Python Program – Load Iris Dataset and Train Decision Tree with Gini\n",
        "from sklearn.datasets import load_iris\n",
        "from sklearn.tree import DecisionTreeClassifier\n",
        "from sklearn.model_selection import train_test_split\n",
        "from sklearn.metrics import accuracy_score\n",
        "import pandas as pd\n",
        "# Load dataset\n",
        "iris = load_iris()\n",
        "X = iris.data\n",
        "y = iris.target\n",
        "# Split into train and test\n",
        "X_train, X_test, y_train, y_test = train_test_split(X, y, test_size=0.3,\n",
        "random_state=1)\n",
        "# Train Decision Tree with Gini criterion\n",
        "model = DecisionTreeClassifier(criterion=\"gini\", random_state=42)\n",
        "model.fit(X_train, y_train)\n",
        "# Predict and evaluate\n",
        "y_pred = model.predict(X_test)\n",
        "accuracy = accuracy_score(y_test, y_pred)\n",
        "# Print results\n",
        "print(\"Accuracy:\", accuracy)\n",
        "print(\"Feature Importances:\", model.feature_importances_)"
      ],
      "metadata": {
        "colab": {
          "base_uri": "https://localhost:8080/"
        },
        "id": "2GGBpA21K_2n",
        "outputId": "362d380e-b497-405b-c3fd-2628eab08c01"
      },
      "id": "2GGBpA21K_2n",
      "execution_count": null,
      "outputs": [
        {
          "output_type": "stream",
          "name": "stdout",
          "text": [
            "Accuracy: 0.9555555555555556\n",
            "Feature Importances: [0.02146947 0.02146947 0.57196476 0.38509631]\n"
          ]
        }
      ]
    },
    {
      "cell_type": "code",
      "source": [
        "# Question 7: Python Program – Compare Depth-Limited vs Fully Grown Tree\n",
        "\n",
        "# Model with max_depth=3\n",
        "limited_model = DecisionTreeClassifier(max_depth=3, random_state=42)\n",
        "limited_model.fit(X_train, y_train)\n",
        "limited_pred = limited_model.predict(X_test)\n",
        "# Fully grown model\n",
        "full_model = DecisionTreeClassifier(random_state=1)\n",
        "full_model.fit(X_train, y_train)\n",
        "full_pred = full_model.predict(X_test)\n",
        "# Accuracy comparison\n",
        "limited_acc = accuracy_score(y_test, limited_pred)\n",
        "full_acc = accuracy_score(y_test, full_pred)\n",
        "print(\"Accuracy (max_depth=3):\", limited_acc)\n",
        "print(\"Accuracy (full tree):\", full_acc)"
      ],
      "metadata": {
        "colab": {
          "base_uri": "https://localhost:8080/"
        },
        "id": "DF5MggVjLAPU",
        "outputId": "90e5866e-ce9a-455d-f725-646ecf1bd7d4"
      },
      "id": "DF5MggVjLAPU",
      "execution_count": null,
      "outputs": [
        {
          "output_type": "stream",
          "name": "stdout",
          "text": [
            "Accuracy (max_depth=3): 0.9555555555555556\n",
            "Accuracy (full tree): 0.9555555555555556\n"
          ]
        }
      ]
    },
    {
      "cell_type": "code",
      "source": [
        "#Question 8: Python Program – Train Decision Tree on Boston Housing Dataset\n",
        "\n",
        "from sklearn.datasets import fetch_california_housing\n",
        "from sklearn.tree import DecisionTreeRegressor\n",
        "from sklearn.metrics import mean_squared_error\n",
        "# Load dataset (Boston deprecated, use California Housing instead)\n",
        "data = fetch_california_housing()\n",
        "X = data.data\n",
        "y = data.target\n",
        "# Split data\n",
        "X_train, X_test, y_train, y_test = train_test_split(X, y, test_size=0.3,\n",
        "random_state=42)\n",
        "# Train model\n",
        "model = DecisionTreeRegressor(random_state=42)\n",
        "model.fit(X_train, y_train)\n",
        "# Predict and evaluate\n",
        "predictions = model.predict(X_test)\n",
        "mse = mean_squared_error(y_test, predictions)\n",
        "print(\"MSE:\", mse)\n",
        "print(\"Feature Importances:\", model.feature_importances_)"
      ],
      "metadata": {
        "colab": {
          "base_uri": "https://localhost:8080/"
        },
        "id": "UWBmQh7rLAYA",
        "outputId": "f1048ce2-1b80-4482-9920-941041e27fab"
      },
      "id": "UWBmQh7rLAYA",
      "execution_count": null,
      "outputs": [
        {
          "output_type": "stream",
          "name": "stdout",
          "text": [
            "MSE: 0.5280096503174904\n",
            "Feature Importances: [0.52345628 0.05213495 0.04941775 0.02497426 0.03220553 0.13901245\n",
            " 0.08999238 0.08880639]\n"
          ]
        }
      ]
    },
    {
      "cell_type": "code",
      "source": [
        "#Question 9: Python Program – Hyperparameter Tuning with GridSearchCV\n",
        "from sklearn.model_selection import GridSearchCV\n",
        "from sklearn.tree import DecisionTreeRegressor # Import DecisionTreeRegressor\n",
        "\n",
        "# Define parameter grid\n",
        "param_grid = {\n",
        "    'max_depth': [2, 3, 4, 5],\n",
        "    'min_samples_split': [2, 4, 6]\n",
        "}\n",
        "\n",
        "# Initialize model - Use DecisionTreeRegressor for regression task\n",
        "dt = DecisionTreeRegressor(random_state=42)\n",
        "\n",
        "# Grid search\n",
        "grid = GridSearchCV(dt, param_grid, cv=3)\n",
        "grid.fit(X_train, y_train)\n",
        "\n",
        "# Results\n",
        "print(\"Best Parameters:\", grid.best_params_)\n",
        "print(\"Best MSE:\", -grid.best_score_) # Print negative of best score for MSE"
      ],
      "metadata": {
        "colab": {
          "base_uri": "https://localhost:8080/"
        },
        "id": "rqVYUz8BLAc9",
        "outputId": "d8022112-dab9-4e60-b0de-526acfbf6a2f"
      },
      "id": "rqVYUz8BLAc9",
      "execution_count": null,
      "outputs": [
        {
          "output_type": "stream",
          "name": "stdout",
          "text": [
            "Best Parameters: {'max_depth': 5, 'min_samples_split': 4}\n",
            "Best MSE: -0.6091798720196308\n"
          ]
        }
      ]
    },
    {
      "cell_type": "markdown",
      "id": "8e492877",
      "metadata": {
        "id": "8e492877"
      },
      "source": [
        "### Question 10: Step-by-step process for building a Decision Tree Model in Healthcare domain.\n",
        "\n",
        "Step-by-Step Process:\n",
        "1. Handling Missing Values:\n",
        "   - Use imputation methods like SimpleImputer to fill missing values.\n",
        "   - Mean for numerical features, most frequent or mode for categorical ones.\n",
        "\n",
        "2. Encoding Categorical Features:\n",
        "   - Use OneHotEncoder or LabelEncoder based on whether features are nominal or ordinal.\n",
        "\n",
        "3. Training Decision Tree Model:\n",
        "   - Use DecisionTreeClassifier() from scikit-learn.\n",
        "   - Train the model on the cleaned dataset.\n",
        "\n",
        "4. Hyperparameter Tuning:\n",
        "   - Use GridSearchCV to find best max_depth, min_samples_split, etc.\n",
        "   - Helps avoid overfitting and underfitting.\n",
        "\n",
        "5. Model Evaluation:\n",
        "   - Use accuracy, confusion matrix, precision-recall, and AUC-ROC to evaluate.\n",
        "   - Perform cross-validation for reliable performance.\n",
        "\n",
        "Business Value:\n",
        "- Helps doctors prioritize patients at risk.\n",
        "- Enables preventive treatment by predicting disease early.\n",
        "- Saves cost for hospitals and improves patient care.\n",
        "- Interpretable models build trust with medical professionals.\n",
        "\n",
        "Conclusion:\n",
        "A well-tuned decision tree in healthcare can greatly improve diagnosis efficiency and drive data-based decision-making."
      ]
    }
  ],
  "metadata": {
    "colab": {
      "provenance": [],
      "include_colab_link": true
    },
    "language_info": {
      "name": "python"
    },
    "kernelspec": {
      "name": "python3",
      "display_name": "Python 3"
    }
  },
  "nbformat": 4,
  "nbformat_minor": 5
}