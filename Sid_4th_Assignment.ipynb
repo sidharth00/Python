{
  "nbformat": 4,
  "nbformat_minor": 0,
  "metadata": {
    "colab": {
      "provenance": [],
      "authorship_tag": "ABX9TyN5EEokzku+FsZyINTo7Q14",
      "include_colab_link": true
    },
    "kernelspec": {
      "name": "python3",
      "display_name": "Python 3"
    },
    "language_info": {
      "name": "python"
    }
  },
  "cells": [
    {
      "cell_type": "markdown",
      "metadata": {
        "id": "view-in-github",
        "colab_type": "text"
      },
      "source": [
        "<a href=\"https://colab.research.google.com/github/sidharth00/Python/blob/main/Sid_4th_Assignment.ipynb\" target=\"_parent\"><img src=\"https://colab.research.google.com/assets/colab-badge.svg\" alt=\"Open In Colab\"/></a>"
      ]
    },
    {
      "cell_type": "markdown",
      "source": [
        "1.\tWhat is Object-Oriented Programming (OOP)?\n",
        "\n",
        "●\tObject-oriented programming (OOP) is a programming paradigm that organizes software design around data, or objects, rather than functions and logic.\n",
        "2.\tWhat is a class in OOP?\n",
        "\n",
        "●\tA class is a blueprint or template for creating objects in Object-Oriented Programming.\n",
        "●\tThink of a class like a design plan for a house. You can build many houses from the same plan — each house is an object, and the plan is the class\n",
        "3.\tWhat is an object in OOP?\n",
        "\n",
        "●\tAn object is an instance of a class. When a class is like a blueprint, an object is the real thing created from that blueprint.\n",
        "4.\tWhat is the difference between abstraction and encapsulation?\n",
        "\n",
        "-🧠 a.). Abstraction – “Hiding Complexity, Showing Only Essentials” Focus: What an object does.\n",
        "\n",
        "●\tGoal: Hide unnecessary details and show only the relevant features.\n",
        "●\tExample:\n",
        "●\tWhen you use a phone, you just tap to call. You don’t need to know the internal circuits or code running inside.\n",
        "Example\n",
        "from abc import ABC, abstractmethod class Vehicle(ABC):\n",
        "@abstractmethod def start(self):\n",
        "pass\n",
        "\n",
        "\n"
      ],
      "metadata": {
        "id": "ngdX283XyBe_"
      }
    },
    {
      "cell_type": "code",
      "source": [],
      "metadata": {
        "id": "4jzUfu16yETl"
      },
      "execution_count": null,
      "outputs": []
    },
    {
      "cell_type": "markdown",
      "source": [
        "🔐 b.). Encapsulation – “Protecting Data Inside a Capsule” Focus: How data is protected.\n",
        "\n",
        "●\tGoal: Restrict direct access to some parts of the object (data hiding).\n",
        "●\tExample:\n",
        "●\tYou can’t directly change someone’s bank balance. You must go through secure methods (like deposit() or withdraw()).\n"
      ],
      "metadata": {
        "id": "KTpDoAQVyUJg"
      }
    },
    {
      "cell_type": "code",
      "source": [
        "class BankAccount:\n",
        "  def __init__(self):\n",
        "    self.balance = 0\t # private variable\n",
        "  def deposit(self, amount):\n",
        "    if amount > 0:\n",
        "      self.balance += amount"
      ],
      "metadata": {
        "id": "wgqzMaUuyVSJ"
      },
      "execution_count": 30,
      "outputs": []
    },
    {
      "cell_type": "markdown",
      "source": [
        "5.\tWhat are dunder methods in Python?\n",
        "\n",
        "●\t🐍Dunder methods (short for Double UNDERscore) are special methods in Python that have two underscores before and after their names, like init, str, etc.\n",
        "They’re also called:\n",
        "\n",
        "●\tMagic methods\n",
        "●\tSpecial methods\n",
        "●\t🧠 Purpose: Dunder methods let you define how objects behave with built-in Python operations like:\n",
        "●\tPrinting\n",
        "●\tAdding\n",
        "●\tComparing\n",
        "●\tCreating objects\n",
        "6.\tExplain the concept of inheritance in OOP.\n",
        "\n",
        "●\t🧬 Inheritance is a fundamental concept in OOP that allows a class (child/subclass) to inherit properties and methods from another class (parent/superclass).\n",
        "-🧠 In Simple Words:\n",
        "\n",
        "●\tInheritance lets you reuse code by allowing one class to take on the characteristics and behavior of another.\n",
        "-🔗 Real-life Example:\n",
        "\n",
        "●\tVehicle → Base class\n",
        "●\tCar, Bike, Truck → Child classes All vehicles have common properties like engine, wheels, and start(). Instead of rewriting them in every class, they inherit from Vehicle.\n"
      ],
      "metadata": {
        "id": "qHZuLT_Ky8Jd"
      }
    },
    {
      "cell_type": "code",
      "source": [
        "class Vehicle:\n",
        "    def __init__(self, brand):\n",
        "        self.brand = brand\n",
        "        # The nested class definition is removed as it causes a syntax error.\n",
        "        # If you intend to define another class within the Car class,\n",
        "        # it should be done outside the drive method.\n",
        "        # For example:\n",
        "        # class AnotherClass: ...\n",
        "        print(f\"{self.brand} car is driving.\")\n",
        "        print(f\"{self.brand} vehicle is starting...\")\n",
        "        class Car(Vehicle):\n",
        "          def drive(self):\n",
        "            print(f\"{self.brand} car is driving.\")\n"
      ],
      "metadata": {
        "id": "bfuT_UoLzEfF"
      },
      "execution_count": 35,
      "outputs": []
    },
    {
      "cell_type": "markdown",
      "source": [
        "Why Use Inheritance?\n",
        "\n",
        "●\tReusability 🌀\n",
        "●\tClean and organized code ✨\n",
        "●\tEasier to maintain and extend 🔧\n",
        "7.\tWhat is polymorphism in OOP?\n",
        "\n",
        "●\t🌀 Polymorphism means \"many forms.\" In Object-Oriented Programming, polymorphism allows the same method or function name to behave differently based on the object or\n",
        "context.\n",
        "8.\tHow is encapsulation achieved in Python?\n",
        "\n",
        "●\t🔐 Encapsulation is the process of hiding the internal data of an object and only exposing necessary parts through methods. It helps protect the data from unwanted access and modification.\n"
      ],
      "metadata": {
        "id": "aEWyoJnTzYLm"
      }
    },
    {
      "cell_type": "code",
      "source": [
        "from typing_extensions import Self\n",
        "class Student:\n",
        "  def __init__(self,name, age):\n",
        "    self.name = name\t# public\n",
        "    self._age = age\n",
        "    self._marks=90\n",
        "  def get_marks(self):\n",
        "    return self._marks\t# controlled access\n"
      ],
      "metadata": {
        "id": "I7acKerTzjGm"
      },
      "execution_count": 58,
      "outputs": []
    },
    {
      "cell_type": "markdown",
      "source": [
        "Encapsulation:\n",
        "\n",
        "●\t✅ Data hiding (  private)\n",
        "●\t✅ Getter and setter methods (optional in Python)\n",
        "●\t✅ Controlled access through methods\n",
        "🔐 Benefits of Encapsulation:\n",
        "\n",
        "●\tData security\n",
        "●\tAvoids accidental changes\n",
        "●\tCleaner, more maintainable code\n",
        "9.\tWhat is a constructor in Python?\n",
        "\n",
        "●\t🏗 A constructor in Python is a special method used to initialize objects when a class is created.\n"
      ],
      "metadata": {
        "id": "Iakcmazw1Ann"
      }
    },
    {
      "cell_type": "code",
      "source": [
        "#from os import name\n",
        "class Student:\n",
        "  def __init__(self,name,roll):\n",
        "    self.name = name\n",
        "    self.roll = roll\n",
        "    # The display method is now defined outside the __init__ method\n",
        "  # and properly indented to be an instance method of the Student class.\n",
        "    def display(self):\n",
        "      print(f\"Name: {self.name}, Roll: {self.roll}\")\n",
        "      s1= Student(\"Sidharth\",101)\n",
        "      s1.display()\n",
        "\n",
        "\n"
      ],
      "metadata": {
        "id": "UFAIOeA_1R0j"
      },
      "execution_count": 57,
      "outputs": []
    },
    {
      "cell_type": "markdown",
      "source": [
        "🧪 Key Points:\n",
        "\n",
        "●\tinit is the constructor\n",
        "●\tIt’s called automatically when you create an object\n",
        "●\tIt’s used to assign values to object properties\n"
      ],
      "metadata": {
        "id": "ZCU4z2Eq319e"
      }
    },
    {
      "cell_type": "markdown",
      "source": [
        "10.\tWhat are class and static methods in Python?\n",
        "\n",
        "●\tBoth are special types of methods that are not tied to a specific object, but to the class itself.\n",
        "🔹 1. Class Method\n",
        "\n",
        "●\tBelongs to the class, not the instance.\n",
        "●\tCan access and modify class variables.\n",
        "●\tDefined using the @classmethod decorator.\n",
        "●\tTakes cls as the first parameter instead of self.\n"
      ],
      "metadata": {
        "id": "q8JRJOoA34cT"
      }
    },
    {
      "cell_type": "code",
      "source": [
        "class Student:\n",
        "  school = \"ABC School\"\n",
        "  @classmethod\n",
        "  def get_school(cls):\n",
        "    return cls.school\n",
        "\n",
        "\n",
        "\n",
        "print (Student.get_school())\n",
        "\n",
        "\n"
      ],
      "metadata": {
        "colab": {
          "base_uri": "https://localhost:8080/"
        },
        "id": "XdUO4jAE4JIV",
        "outputId": "f460996f-2df0-4397-ec84-b8777cb58c67"
      },
      "execution_count": 33,
      "outputs": [
        {
          "output_type": "stream",
          "name": "stdout",
          "text": [
            "ABC School\n"
          ]
        }
      ]
    },
    {
      "cell_type": "markdown",
      "source": [
        "🔸 2. Static Method\n",
        "\n",
        "●\tDoesn't access instance (self) or class (cls) variables.\n",
        "●\tUsed when the method doesn’t need object or class context.\n",
        "●\tDefined using the @staticmethod decorator.\n"
      ],
      "metadata": {
        "id": "WT3c4PYnd6JC"
      }
    },
    {
      "cell_type": "code",
      "source": [
        "class math:\n",
        "  @staticmethod\n",
        "  def add(a,b):\n",
        "    return a+b\n",
        "print(math.add(2,3))\n"
      ],
      "metadata": {
        "colab": {
          "base_uri": "https://localhost:8080/"
        },
        "id": "2usDzqpreEfP",
        "outputId": "eaf04285-b01f-4afc-e4d7-46b972f5ab24"
      },
      "execution_count": 1,
      "outputs": [
        {
          "output_type": "stream",
          "name": "stdout",
          "text": [
            "5\n"
          ]
        }
      ]
    },
    {
      "cell_type": "markdown",
      "source": [
        "11.\tWhat is method overloading in Python?\n",
        "\n",
        "●\t🔁 Method Overloading is the ability to define multiple methods with the same name but different parameters in the same class. However, Python does not support traditional method overloading (as seen in languages like Java or C++), because Python uses dynamic typing and does not distinguish methods by the number or types of their parameters.\n",
        "●\tBut, we can still simulate method overloading in Python by using default arguments or variable-length argument lists.\n",
        "🔧 Simulating Method Overloading in Python:\n"
      ],
      "metadata": {
        "id": "UMrZT5WMeYVo"
      }
    },
    {
      "cell_type": "code",
      "source": [
        "class Calculator:\n",
        "  def add(self, a, b=0):\n",
        "    return a + b\n",
        "\n",
        "\n",
        "\n",
        "\n",
        "\n",
        "calc = Calculator()\n",
        "print(calc.add(5))\n",
        "print(calc.add(5, 3))"
      ],
      "metadata": {
        "colab": {
          "base_uri": "https://localhost:8080/"
        },
        "id": "VI4-metJeZpB",
        "outputId": "b6947ffc-702a-4f3e-8123-0fc0f896db61"
      },
      "execution_count": 2,
      "outputs": [
        {
          "output_type": "stream",
          "name": "stdout",
          "text": [
            "5\n",
            "8\n"
          ]
        }
      ]
    },
    {
      "cell_type": "markdown",
      "source": [
        "●\tHere, the add() method can work with one or two arguments, simulating overloading.\n",
        "2. Using args (Variable-Length Arguments):\n"
      ],
      "metadata": {
        "id": "9Ps_rJN9ex1o"
      }
    },
    {
      "cell_type": "code",
      "source": [
        "class Calculator:\n",
        "  def add(self, *args):\n",
        "    return sum(args)\n",
        "\n",
        "\n",
        "\n",
        "\n",
        "\n",
        "calc = Calculator()\n",
        "print(calc.add(5, 3))\n",
        "print(calc.add(1, 2, 3, 4))\n"
      ],
      "metadata": {
        "colab": {
          "base_uri": "https://localhost:8080/"
        },
        "id": "yEJul8qDe3f0",
        "outputId": "93dbbebd-4ef6-44d7-d8d6-97bfe8bfe341"
      },
      "execution_count": 3,
      "outputs": [
        {
          "output_type": "stream",
          "name": "stdout",
          "text": [
            "8\n",
            "10\n"
          ]
        }
      ]
    },
    {
      "cell_type": "markdown",
      "source": [
        "●\t*args allows passing a variable number of arguments, letting the method handle any number of parameters.\n",
        "**3. Using kwargs (Keyword Arguments)\n",
        "\n"
      ],
      "metadata": {
        "id": "8aEccRhUfHiS"
      }
    },
    {
      "cell_type": "code",
      "source": [
        "class Printer:\n",
        "  def print_info(self, **kwargs):\n",
        "    for key, value in kwargs.items():\n",
        "      print(f\"{key}: {value}\")\n",
        "\n",
        "\n",
        "\n",
        "\n",
        "\n",
        "printer = Printer()\n",
        "printer.print_info(name=\"Sidharth\", age=28)\n",
        "\n",
        "\n"
      ],
      "metadata": {
        "colab": {
          "base_uri": "https://localhost:8080/"
        },
        "id": "-Yt974nNfKBr",
        "outputId": "b4b9f64a-2bc6-4c6e-8c34-1e7e64ee326c"
      },
      "execution_count": 5,
      "outputs": [
        {
          "output_type": "stream",
          "name": "stdout",
          "text": [
            "name: Sidharth\n",
            "age: 28\n"
          ]
        }
      ]
    },
    {
      "cell_type": "markdown",
      "source": [
        "12.\tWhat is method overriding in OOP?\n",
        "\n",
        "●\t🔄 Method Overriding is the ability of a child class to provide a specific implementation of a method that is already defined in its parent class. This allows the child class to modify or extend the behavior of the parent class's method.\n",
        "How it Works:\n",
        "\n",
        "●\tThe parent class defines a method.\n",
        "●\tThe child class redefines that method, but with its own implementation.\n",
        "●\tWhen you call the method on an object of the child class, the child's version is executed, not the parent's\n"
      ],
      "metadata": {
        "id": "JoD6-FuZfkT_"
      }
    },
    {
      "cell_type": "code",
      "source": [
        "class Animal:\n",
        "  def sound(self):\n",
        "    print(\"Some animal sound\")\n",
        "\n",
        "class Dog(Animal):\n",
        "  def sound(self):\n",
        "    print(\"Dog barks\")\n",
        "\n",
        "class Cat(Animal):\n",
        "  def sound(self):\n",
        "    print(\"Cat meows\")\n",
        "\n",
        "\n",
        "\n",
        "\n",
        "\n",
        "animal = Animal()\n",
        "dog = Dog()\n",
        "cat = Cat()\n",
        "\n",
        "animal.sound()\n",
        "\n",
        "\n",
        "\n"
      ],
      "metadata": {
        "colab": {
          "base_uri": "https://localhost:8080/"
        },
        "id": "ZdvoEgK4fna0",
        "outputId": "f9d98743-4792-4e10-b984-037ebbde6ed8"
      },
      "execution_count": 6,
      "outputs": [
        {
          "output_type": "stream",
          "name": "stdout",
          "text": [
            "Some animal sound\n"
          ]
        }
      ]
    },
    {
      "cell_type": "markdown",
      "source": [
        "●\tHere, the Dog and Cat classes override the sound() method from the Animal class with their own specific behavior."
      ],
      "metadata": {
        "id": "oNltiJO5gGrs"
      }
    },
    {
      "cell_type": "markdown",
      "source": [
        "13.\tWhat is a property decorator in Python?\n",
        "\n",
        "●\t🏠 A property decorator in Python allows you to define methods that behave like attributes. It enables you to access a method as if it were an attribute, while still allowing for logic or validation to be included in the getter, setter, or deleter methods.\n",
        "🔧 How to Use Property Decorator:\n",
        "\n",
        "●\tGetter: Using @property to define a method that acts as an attribute.\n",
        "●\tSetter: Using @.setter to define how the value should be updated.\n",
        "●\tDeleter: Using @.deleter to define custom deletion behavior.\n",
        "14.\tWhy is polymorphism important in OOP?\n",
        "\n",
        "●\t🌐 Polymorphism is one of the core principles of Object-Oriented Programming (OOP), and it allows different classes to define methods with the same name but with different behaviors. This concept plays a crucial role in making OOP flexible, scalable, and maintainable.\n",
        "🧠 Why is Polymorphism Crucial? Code Reusability:\n",
        "●\tPolymorphism allows you to write generic code that can work with objects of different classes. This means you can reuse the same method in different contexts without rewriting code for each type of object.\n",
        "\n",
        "Maintainability:\n",
        "\n",
        "●\tSince polymorphism enables different classes to have methods with the same name, you only need to update a method in one place (the class). If you want to change how a specific type behaves, you can simply override the method in that class.\n",
        "Simplified Code:\n",
        "\n",
        "●\tIt makes the code cleaner and more readable. You don’t have to deal with different function names for each class—just use the same method name, and the right version gets executed based on the object.\n",
        "Supports Dynamic Behavior:\n",
        "\n",
        "●\tWith polymorphism, Python can determine at runtime which method to call, based on the object type. This leads to more flexible and dynamic behavior.\n",
        "Promotes Flexibility and Extensibility:\n",
        "\n",
        "●\tPolymorphism is great for extending functionality. As you add new classes, you don’t need to modify existing code—just override methods in new classes. The existing polymorphic code will continue to work without changes.\n"
      ],
      "metadata": {
        "id": "6TrGjKnvgHuh"
      }
    },
    {
      "cell_type": "code",
      "source": [
        "class Animal:\n",
        "  def speak(self):\n",
        "    print(\"Animal makes a sound\")\n",
        "\n",
        "class Dog(Animal):\n",
        "  def speak(self):\n",
        "    print(\"Dog barks\")\n",
        "\n",
        "class Cat(Animal):\n",
        "  def speak(self):\n",
        "    print(\"Cat meows\")\n",
        "\n",
        "def animal_sound(animal):\n",
        "  animal.speak()\t# Polymorphism: method call changes based on object type\n",
        "\n",
        "# Creating different objects dog = Dog()\n",
        "cat = Cat()\n",
        "\n",
        "# Same method, different behavior animal_sound(dog)\t# 👉 Dog barks\n",
        "\n",
        "animal_sound(cat)\t# 👉 Cat meows\n",
        "\n",
        "\n",
        "\n"
      ],
      "metadata": {
        "colab": {
          "base_uri": "https://localhost:8080/"
        },
        "id": "u4LBi7P9gUqy",
        "outputId": "7979255d-d6e0-4e16-ee83-f91d60c7c1ad"
      },
      "execution_count": 7,
      "outputs": [
        {
          "output_type": "stream",
          "name": "stdout",
          "text": [
            "Cat meows\n"
          ]
        }
      ]
    },
    {
      "cell_type": "markdown",
      "source": [
        "●\tThe same function animal_sound() can work with any Animal object, whether it's a Dog, Cat, or any other animal subclass. Polymorphism allows flexibility without changing the method."
      ],
      "metadata": {
        "id": "Rx1OAcnTgrip"
      }
    },
    {
      "cell_type": "markdown",
      "source": [
        "15.\tWhat is an abstract class in Python?\n",
        "\n",
        "●\t🏛 An abstract class in Python is a class that cannot be instantiated on its own and is meant to be subclassed by other classes. It serves as a blueprint for other classes, providing a common interface while enforcing the structure of certain methods that must be implemented in any subclass.\n",
        "🔧 How to Create an Abstract Class in Python:\n",
        "\n",
        "●\tTo define an abstract class in Python, we use the abc module (Abstract Base Classes), which provides the base class ABC and the decorator @abstractmethod to mark methods as abstract.\n"
      ],
      "metadata": {
        "id": "5F8PrZGygsa4"
      }
    },
    {
      "cell_type": "code",
      "source": [
        "from abc import ABC, abstractmethod\n",
        "\n",
        "class Animal(ABC):\n",
        "    @abstractmethod\n",
        "    def sound(self):\n",
        "        pass\n",
        "\n",
        "    @abstractmethod\n",
        "    def move(self):\n",
        "        pass\n",
        "\n",
        "class Dog(Animal):\n",
        "    def sound(self):\n",
        "        print(\"Dog barks\")\n",
        "\n",
        "    def move(self):\n",
        "        print(\"Dog runs\")\n",
        "\n",
        "class Bird(Animal):\n",
        "    def sound(self):\n",
        "        print(\"Bird chirps\")\n",
        "\n",
        "    def move(self):\n",
        "        print(\"Bird flies\")\n",
        "\n",
        "# Can't instantiate an abstract class\n",
        "# a = Animal()\t# This will raise an error\n",
        "\n",
        "# Valid instances\n",
        "d = Dog()\n",
        "d.sound()\n",
        "d.move()\n",
        "b = Bird()\n",
        "b.sound()\n",
        "b.move()"
      ],
      "metadata": {
        "colab": {
          "base_uri": "https://localhost:8080/"
        },
        "id": "7KOtH0wzg2eB",
        "outputId": "337009fd-2272-40d6-f544-89bf96bd317c"
      },
      "execution_count": 13,
      "outputs": [
        {
          "output_type": "stream",
          "name": "stdout",
          "text": [
            "Dog barks\n",
            "Dog runs\n",
            "Bird chirps\n",
            "Bird flies\n"
          ]
        }
      ]
    },
    {
      "cell_type": "markdown",
      "source": [
        "usuaKey Points to Note:\n",
        "\n",
        "●\tAbstract class (Animal) cannot be instantiated directly.\n",
        "●\tAbstract methods (sound and move) must be overridden in the subclasses (Dog and Bird).\n",
        "●\tConcrete classes provide their own implementation of abstract methods.\n",
        "16.\tWhat are the advantages of OOP?\n",
        "\n",
        "●\t🏆 Object-Oriented Programming (OOP) brings several key advantages that make software development more efficient, flexible, and manageable. By organizing code into classes and objects, OOP improves reusability, maintainability, and scalability of applications.\n",
        "✅ 1. Modularity:\n",
        "\n",
        "●\tOOP breaks down a program into smaller, manageable parts (objects and classes).\n",
        "●\tEach class is like a module, making the code easier to understand, maintain, and test.\n",
        "●\tThis promotes separation of concerns (i.e., each class handles its own specific functionality).\n",
        "✅ 2. Reusability:\n",
        "\n",
        "●\tThrough inheritance, you can reuse existing code (methods and properties) without having to rewrite it.\n",
        "●\tOnce a class is written and tested, it can be reused in different programs.\n",
        "●\tThis leads to less code duplication and saves time in future development.\n",
        "✅ 3. Flexibility and Extensibility:\n",
        "\n",
        "●\tPolymorphism allows you to use the same method name for different object types.\n",
        "\n",
        "●\tYou can extend existing classes (using inheritance) without altering the original code, making it easy to introduce new features.\n",
        "●\tThis leads to flexible systems that can adapt to new requirements.\n",
        "✅ 4. Encapsulation:\n",
        "\n",
        "●\tEncapsulation keeps the internal state of an object hidden and only exposes a public interface (via methods).\n",
        "●\tThis helps to protect data and ensures that an object’s internal state is not changed unexpectedly.\n",
        "●\tIt also makes it easier to debug since you can isolate issues within individual objects.\n",
        "✅ 5. Abstraction:\n",
        "\n",
        "●\tAbstraction hides complex details and shows only the necessary information.\n",
        "●\tIt allows programmers to interact with objects through simplified interfaces while hiding the implementation details.\n",
        "●\tThis leads to cleaner, more understandable code.\n",
        "✅ 6. Easier Maintenance and Modification:\n",
        "\n",
        "●\tSince OOP encourages the use of modular code, it becomes easier to update and maintain.\n",
        "●\tChanges in one claslly don’t affect others, reducing the risk of introducing bugs.\n",
        "●\tIt’s easy to add or modify features without affecting the whole system, making maintenance more efficient.\n",
        "✅ 7. Improved Productivity:\n",
        "\n",
        "●\tOOP’s organization of code into classes and objects leads to better collaboration among teams of developers.\n",
        "●\tCode can be maintained and extended by different teams working on different modules independently.\n",
        "●\tCode libraries and frameworks often use OOP, giving developers access to tools that make development faster.\n",
        "✅ 8. Increased Security:\n",
        "\n",
        "●\tOOP allows you to control access to data through getter and setter methods, which helps in protecting data integrity.\n",
        "●\tAccess modifiers (e.g., private, protected, public) help in restricting access to an object’s internal state and behavior, enhancing security.\n",
        "17.\tWhat is the difference between a class variable and an instance variable?\n",
        "\n",
        "●\t🔑 In Python, class variables and instance variables are used to store data, but they differ in terms of their scope and behavior within the class and objects. Let’s break down the key differences:\n",
        "\n",
        "🧠 Class Variables:\n",
        "\n",
        "●\tDefined inside the class but outside any methods.\n",
        "●\tShared among all instances (objects) of the class.\n",
        "●\tIf a class variable is modified, the change is reflected across all instances.\n",
        "●\tTypically used for data that should be shared across all objects of the class (like constants or shared resources).\n",
        "🧠 Instance Variables:\n",
        "\n",
        "●\tDefined inside methods (usually the init() constructor) using the self keyword.\n",
        "●\tUnique to each instance (object) of the class.\n",
        "●\tEach object has its own copy of instance variables.\n",
        "●\tUsed for object-specific data that can vary across different instances.\n",
        "18.\tWhat is multiple inheritance in Python?\n",
        "\n",
        "●\t🔄Multiple inheritance in Python is a feature that allows a class to inherit from more than one parent class. This means that a child class can inherit attributes and methods from multiple parent classes, enabling a richer and more flexible class structure.\n",
        "🔧 How Multiple Inheritance Works in Python:\n",
        "\n",
        "●\tPython supports multiple inheritance by allowing a class to inherit from multiple parent classes. When a method is called on an instance of the child class, Python follows the MRO to determine which method to execute, based on the class hierarchy.\n",
        "📦\n"
      ],
      "metadata": {
        "id": "h9XUIKDNizY2"
      }
    },
    {
      "cell_type": "code",
      "source": [
        "class Animal:\n",
        "  def speak(self):\n",
        "    print(\"Animal makes a sound\")\n",
        "\n",
        "class Mammal:\n",
        "  def has_hair(self):\n",
        "    print(\"Mammals have hair\")\n",
        "\n",
        "\n",
        "class Dog(Animal, Mammal):\n",
        "  def bark(self):\n",
        "    print(\"Dog barks\")\n",
        "\n",
        "\n",
        "dog = Dog()\n",
        "dog.bark()\n"
      ],
      "metadata": {
        "colab": {
          "base_uri": "https://localhost:8080/"
        },
        "id": "RdU4Lm8mjA0p",
        "outputId": "c585d159-be07-4768-f0c8-c4ef834b9838"
      },
      "execution_count": 20,
      "outputs": [
        {
          "output_type": "stream",
          "name": "stdout",
          "text": [
            "Dog barks\n"
          ]
        }
      ]
    },
    {
      "cell_type": "markdown",
      "source": [
        "in this example:\n",
        "\n",
        "●\tDog inherits from both Animal and Mammal.\n",
        "●\tIt has access to methods from both parent classes (speak from Animal and has_hair from Mammal), as well as its own method bark.\n",
        "19.\tExplain the purpose of ‘’  str  ’ and ‘  repr  ’ ‘ methods in Python.\n",
        "\n",
        "🎯 Purpose of str and repr Methods in Python\n",
        "\n",
        "●\tIn Python, both the str and repr methods are used to define how an object is represented as a string. However, they serve slightly different purposes:\n",
        "1.\tstr Method:\n",
        "●\tPurpose: The str method is used to define the informal or user-friendly string representation of an object. It is meant to be readable and is called by the str() function or when you print an object.\n",
        "●\tUse case: It should return a string that is easy to read and gives a clear description of the object, useful for end-users.\n",
        "2.\trepr Method:\n",
        "●\tPurpose: The repr method is used to define the formal or official string representation of an object. It is meant to be unambiguous and can often be used to recreate the object. The output of repr is intended for developers, especially for debugging.\n",
        "●\tUse case: It should return a string that, ideally, could be used to recreate the object using the eval() function, though this is not always necessary.\n",
        "\n",
        "\n",
        "\n",
        "\n"
      ],
      "metadata": {
        "id": "5iC4-eb5k8S4"
      }
    },
    {
      "cell_type": "code",
      "source": [
        "class Car:\n",
        "  def init(self, brand, model, year):\n",
        "    self.brand = brand\n",
        "    self.model = model\n",
        "    self.year = year\n",
        "\n",
        "# Informal string representation (for end users)\n",
        "def str (self):\n",
        "  return f\"{self.year} {self.brand} {self.model}\"\n",
        "\n",
        "# Formal string representation (for developers)\n",
        "def repr (self):\n",
        "  return f\"Car('{self.brand}', '{self.model}', {self.year})\"\n",
        "  car = Car(\"Toyota\", \"Corolla\", 2020)\n",
        "  print(str(car))\n",
        "  print(repr(car))\n",
        "\n",
        "\n",
        "\n",
        "\n",
        "\n"
      ],
      "metadata": {
        "id": "oMzVgdf5lInI"
      },
      "execution_count": 33,
      "outputs": []
    },
    {
      "cell_type": "markdown",
      "source": [
        "20.\tWhat is the significance of the ‘super()’ function in Python?\n",
        "\n",
        "●\t🚀 The super() function in Python is used to call a method from a parent class (also known as a superclass) from within a child class (subclass). It is most commonly used in inheritance scenarios to extend or modify the behavior of inherited methods.\n",
        "🧠 Key Uses of super():\n",
        "\n",
        "Calling Methods from the Parent Class:\n",
        "\n",
        "●\tsuper() allows you to call methods from a parent class without explicitly referring to the parent class name.\n",
        "●\tThis is especially useful in multiple inheritance scenarios to ensure that the correct method from the parent class is called, following the Method Resolution Order (MRO).\n",
        "Avoiding Explicit Parent Class Names:\n",
        "\n",
        "●\tUsing super() ensures that the child class code is more maintainable and extensible because it doesn't rely on hardcoded parent class names. This is particularly helpful when you change the parent class or add more levels to the inheritance hierarchy.\n",
        "Ensuring Proper Initialization:\n",
        "\n",
        "●\tsuper() is often used in the init method of a child class to ensure that the parent class’s initialization method is called properly. This allows the child class to inherit and extend functionality from the parent class.\n",
        " Example of super() in Single Inheritance:\n"
      ],
      "metadata": {
        "id": "bh0aLYZem3oO"
      }
    },
    {
      "cell_type": "code",
      "source": [
        "class Animal:\n",
        "  def   init  (self, name):\n",
        "    self.name = name\n",
        "    def speak(self):\n",
        "      print(f\"{self.name} makes a sound\")\n",
        "      class Dog(Animal):\n",
        "        def   init  (self, name, breed):\n",
        "          super().  init  (name)\n",
        "          self.breed = breed\n",
        "          def speak(self):\n",
        "            super().speak()\n",
        "            dog = Dog(\"Buddy\", \"Golden Retriever\")\n",
        "            dog.speak()\n",
        "\n",
        "\n"
      ],
      "metadata": {
        "id": "FeR3tX7Mm6Op"
      },
      "execution_count": 47,
      "outputs": []
    },
    {
      "cell_type": "markdown",
      "source": [
        "21.\tWhat is the significance of the\tdel\tmethod in Python?\n",
        "\n",
        "●\t🗑 The del method in Python is a destructor. It is called automatically when an object is about to be destroyed (i.e., when it is no longer in use and is being garbage collected).\n",
        "🔧 Syntax:\n",
        "\n",
        "def   del  (self): # cleanup code\n",
        "\n",
        "\n",
        "\n",
        "\n",
        "🧠 Purpose of del:\n",
        "\n",
        "●\tTo perform cleanup operations before an object is destroyed.\n",
        "●\tUsed to release external resources like:\n",
        "●\tOpen files\n",
        "●\tDatabase connections\n",
        "●\tNetwork sockets\n",
        "\n",
        "●\tTemporary memory allocations\n",
        "📦\n"
      ],
      "metadata": {
        "id": "YFl6DG8fpMXF"
      }
    },
    {
      "cell_type": "code",
      "source": [
        "class FileHandler:\n",
        "  def __init__(self, filename):\n",
        "    self.file = open(filename, 'w')\n",
        "    print(\"File opened.\")\n",
        "\n",
        "  def write(self, content):\n",
        "    self.file.write(content)\n",
        "\n",
        "  def __del__(self):\n",
        "    self.file.close()\n",
        "    print(\"File closed and object deleted.\")\n",
        "handler = FileHandler(\"sample.txt\")\n",
        "handler.write(\"Hello, Python!\")\n",
        "\n",
        "\n"
      ],
      "metadata": {
        "colab": {
          "base_uri": "https://localhost:8080/"
        },
        "id": "RBo9QFt1NUDg",
        "outputId": "d6fcd12e-8b57-4146-caab-36c8c03dc039"
      },
      "execution_count": 6,
      "outputs": [
        {
          "output_type": "stream",
          "name": "stdout",
          "text": [
            "File opened.\n"
          ]
        }
      ]
    },
    {
      "cell_type": "markdown",
      "source": [
        "22.\tWhat is the difference between @staticmethod and @classmethod in Python?\n",
        "\n",
        "●\t🔍 In Python, both @staticmethod and @classmethod are decorators used to define methods that are not regular instance methods. However, they serve different purposes and behave differently.\n",
        "🔧 @staticmethod:\n",
        "\n",
        "●\tBehaves like a regular function, just placed inside a class.\n",
        "●\tDoes not receive self or cls.\n",
        "●\tCan’t access or modify class or instance state.\n",
        "\n"
      ],
      "metadata": {
        "id": "OiAwWks4SYF5"
      }
    },
    {
      "cell_type": "code",
      "source": [
        "class MathUtils:\n",
        "  @staticmethod\n",
        "  def add(x, y):\n",
        "    return x + y\n",
        "\n",
        "\n",
        "\n",
        "\n",
        "\n",
        "print(MathUtils.add(5, 3))\n"
      ],
      "metadata": {
        "colab": {
          "base_uri": "https://localhost:8080/"
        },
        "id": "TX5Qzoa4SZoV",
        "outputId": "4236227f-a814-4d11-b447-8da27f72fad7"
      },
      "execution_count": 11,
      "outputs": [
        {
          "output_type": "stream",
          "name": "stdout",
          "text": [
            "8\n"
          ]
        }
      ]
    },
    {
      "cell_type": "markdown",
      "source": [
        "@classmethod:\n",
        "\n",
        "●\tReceives the class (cls) as the first argument.\n",
        "●\tCan access and modify class-level variables or create objects.\n",
        "\n"
      ],
      "metadata": {
        "id": "nibHAAhLS1Bn"
      }
    },
    {
      "cell_type": "code",
      "source": [
        "class Person:\n",
        "  species = \"Human\"\n",
        "  def   init  (self, name):\n",
        "    self.name = name\n",
        "  @classmethod\n",
        "  def from_string(cls, info):\n",
        "    name = info.split(\"-\")[0]\n",
        "    return cls(name)\n",
        "  @classmethod\n",
        "  def change_species(cls, new_species):\n",
        "    cls.species = new_species\n",
        "    p = Person.from_string(\"Sidharth-2025\")\n",
        "    print(p.name)\n",
        "    Person.change_species(\"Cyborg\")\n",
        "    print(Person.species)\n",
        "\n",
        "\n",
        "\n",
        "\n",
        "\n"
      ],
      "metadata": {
        "id": "HQDaQvvMS2cN"
      },
      "execution_count": 33,
      "outputs": []
    },
    {
      "cell_type": "markdown",
      "source": [
        "23.\tHow does polymorphism work in Python with inheritance?\n",
        "\n",
        "✅ What is Polymorphism?\n",
        "\n",
        "●\tPolymorphism means “many forms”. In Python, it allows objects of different classes to be treated as objects of a common superclass, especially when they override the same method.\n",
        "●\tWith inheritance, polymorphism lets you use the same method name across multiple subclasses, but with different behaviors.\n",
        "🧬 How It Works:\n",
        "\n",
        "●\tA parent class defines a method.\n",
        "●\tChild classes inherit from it and can override that method.\n",
        "●\tA common interface (like a function or loop) calls that method, and Python decides at runtime which version to run based on the object’s actual class.\n"
      ],
      "metadata": {
        "id": "OZSIFDQ-fg3R"
      }
    },
    {
      "cell_type": "code",
      "source": [
        "class Animal:\n",
        "  def speak(self):\\\n",
        "  print(\"Animal makes a sound\")\n",
        "\n",
        "class Dog(Animal):\n",
        "  def speak(self):\n",
        "    print(\"Dog barks\")\n",
        "\n",
        "class Cat(Animal):\n",
        "  def speak(self):\n",
        "    print(\"Cat meows\")\n",
        "\n",
        "def make_it_speak(animal):\n",
        "  animal.speak()\n",
        "  make_it_speak(Dog())\n",
        "  make_it_speak(Cat())"
      ],
      "metadata": {
        "id": "_FIDel--fo67"
      },
      "execution_count": 2,
      "outputs": []
    },
    {
      "cell_type": "markdown",
      "source": [
        "24.\tWhat is method chaining in Python OOP?\n",
        "\n",
        "●\t🔗Method Chaining is a coding technique where multiple methods are called sequentially on the same object in a single line, using the dot . operator.\n",
        "●\tEach method returns the object itself (usually using return self), which allows the next method to be called on it.\n"
      ],
      "metadata": {
        "id": "mXp_tSSHgTaf"
      }
    },
    {
      "cell_type": "code",
      "source": [
        "class MessageBuilder:\n",
        "  def   init  (self):\n",
        "    self.message = \"\"\n",
        "\n",
        "def greet(self):\n",
        "  self.message += \"Hello \"\n",
        "  return self\t# returning self enables chaining\n",
        "\n",
        "\n",
        "\n",
        "  def name(self, username):\n",
        "    self.message += username\n",
        "    return self\n",
        "\n",
        "\n",
        "    def exclaim(self):\n",
        "      self.message += \"!\"\n",
        "      return self\n",
        "\n",
        "\n",
        "\n",
        "\n",
        "      def show(self):\n",
        "        print(self.message)\n",
        "\n",
        "\n",
        "\n",
        "\n",
        "\n",
        "        MessageBuilder().greet().name(\"Sidharth\").exclaim().show()\n",
        "\n",
        "\n",
        "\n",
        "\n",
        "\n",
        "\n"
      ],
      "metadata": {
        "id": "dii34xlYgUh7"
      },
      "execution_count": 9,
      "outputs": []
    },
    {
      "cell_type": "markdown",
      "source": [
        "25.\tWhat is the purpose of the   call\tmethod in Python?\n",
        "\n",
        "●\t🔄 The call method in Python allows an instance of a class to be called like a function\n"
      ],
      "metadata": {
        "id": "p9EaUjDHiCIC"
      }
    },
    {
      "cell_type": "code",
      "source": [
        "class Greeter:\n",
        "  def   init  (self, name):\n",
        "    self.name = name\n",
        "    def   call  (self, message):\n",
        "\n",
        "\n",
        "      print(f\"{message}, {self.name}!\")\n",
        "      Greeter(\"Sidharth\")(\"Good morning\")\n"
      ],
      "metadata": {
        "id": "s5nWP87TiITY"
      },
      "execution_count": 21,
      "outputs": []
    },
    {
      "cell_type": "code",
      "source": [
        "##1. Create a parent class Animal with a method speak() that prints a generic message. Create a child class Dogthat overrides the speak() method to print \"Bark!\".\n",
        "class Animal:\n",
        "  def speak(self):\n",
        "    print(\"Animal makes a sound\")\n",
        "\n",
        "class Dog(Animal):\n",
        "  def speak(self):\n",
        "    print(\"Dog barks\")\n",
        "    dog = Dog()\n",
        "    dog.speak()\n",
        "\n",
        "\n"
      ],
      "metadata": {
        "id": "YkY33MnBjD4H"
      },
      "execution_count": 29,
      "outputs": []
    },
    {
      "cell_type": "code",
      "source": [
        "#2. Write a program to create an abstract class Shape with a method area(). Derive classes Circle and Rectanglefrom it and implement the area() method in both.\n",
        "\n",
        "from abc import ABC, abstractmethod\n",
        "import math\n",
        "class Shape(ABC):\n",
        "  @abstractmethod\n",
        "  def area(self):\n",
        "    pass\n",
        "    class Circle(Shape):\n",
        "      def   init  (self, radius):\n",
        "        self.radius = radius\n",
        "      def area(self):\n",
        "        return math.pi * self.radius ** 2\n",
        "        class Rectangle(Shape):\n",
        "          def   init  (self, length, width):\n",
        "            self.length = length\n",
        "            self.width = width\n",
        "            def area(self):\n",
        "              return self.length * self.width\n",
        "              circle = Circle(5)\n",
        "              rectangle = Rectangle(4, 6)\n",
        "              print(f\"Circle Area: {circle.area():.2f}\")\n",
        "              print(f\"Rectangle Area: {rectangle.area()}\")\n",
        "\n",
        "\n",
        "\n",
        "\n"
      ],
      "metadata": {
        "id": "dM6DzVPHj1f8"
      },
      "execution_count": 31,
      "outputs": []
    },
    {
      "cell_type": "code",
      "source": [
        "#3. Implement a multi-level inheritance scenario where a class Vehicle has an attribute type. Derive a class Carand further derive a class ElectricCar that adds a battery attribute.\n",
        "\n",
        "class Vehicle:\n",
        "  def   init  (self, vehicle_type):\n",
        "    self.type = vehicle_type\n",
        "    class Car(Vehicle):\n",
        "      def   init  (self, vehicle_type, brand):\n",
        "        super(). init (vehicle_type)\n",
        "        self.brand = brand\n",
        "        class ElectricCar(Car):\n",
        "          def   init  (self, vehicle_type, brand, battery_capacity):\n",
        "            super().  init  (vehicle_type, brand)\n",
        "            self.battery = battery_capacity\n",
        "            def display_info(self):\n",
        "              print(f\"Type: {self.type}\")\n",
        "              print(f\"Brand: {self.brand}\")\n",
        "              print(f\"Battery: {self.battery} kWh\")\n",
        "              tesla = ElectricCar(\"Four-wheeler\", \"Tesla\", 75)\n",
        "              tesla.display_info()\n"
      ],
      "metadata": {
        "id": "onedR25Zk4wv"
      },
      "execution_count": 32,
      "outputs": []
    },
    {
      "cell_type": "code",
      "source": [
        "#4. Demonstrate polymorphism by creating a base class Bird with a method fly(). Create two derived classesSparrow and Penguin that override the fly() method.\n",
        "class Bird:\n",
        "  def fly(self):\n",
        "    print(\"Some birds can fly.\")\n",
        "class Sparrow(Bird):\n",
        "  def fly(self):\n",
        "    print(\"Sparrow flies high in the sky.\")\n",
        "class Penguin(Bird):\n",
        "  def fly(self):\n",
        "    print(\"Penguins can't fly, but they swim well.\")\n",
        "    def bird_fly_test(bird):\n",
        "      bird.fly()\n",
        "      birds = [Sparrow(), Penguin()]\n",
        "      for bird in birds:\n",
        "        bird_fly_test(bird)\n",
        "\n"
      ],
      "metadata": {
        "id": "e7RIWMqdmv-B"
      },
      "execution_count": 47,
      "outputs": []
    },
    {
      "cell_type": "code",
      "source": [
        "#5. Write a program to demonstrate encapsulation by creating a class BankAccount with private attributesbalance and methods to deposit, withdraw, and check balance.\n",
        "\n",
        "class BankAccount:\n",
        "  def __init__(self, initial_balance=0):\n",
        "    self.balance = initial_balance\n",
        "  def deposit(self, amount):\n",
        "    if amount > 0:\n",
        "      self.balance += amount\n",
        "      print(f\"Deposited: {amount}\")\n",
        "    else:\n",
        "      print(\"Deposit amount must be positive.\")\n",
        "  def withdraw(self, amount):\n",
        "    if amount > 0 and amount <= self.balance:\n",
        "      self.balance -= amount\n",
        "      print(f\"Withdrawn: {amount}\")\n",
        "    elif amount > self.balance:\n",
        "      print(\"Insufficient funds.\")\n",
        "    else:\n",
        "      print(\"Withdrawal amount must be positive.\")\n",
        "  def check_balance(self):\n",
        "    print(f\"Current balance: {self.balance}\")\n",
        "\n",
        "account = BankAccount(1000)\n",
        "account.deposit(500)\n",
        "account.withdraw(200)\n",
        "account.check_balance()\n",
        "\n"
      ],
      "metadata": {
        "colab": {
          "base_uri": "https://localhost:8080/"
        },
        "id": "11kx3jKNnMcG",
        "outputId": "e6a37d9a-b6e2-4364-8a0e-ba8199bab518"
      },
      "execution_count": 37,
      "outputs": [
        {
          "output_type": "stream",
          "name": "stdout",
          "text": [
            "Deposited: 500\n",
            "Withdrawn: 200\n",
            "Current balance: 1300\n"
          ]
        }
      ]
    },
    {
      "cell_type": "code",
      "source": [
        "#6. Demonstrate runtime polymorphism using a method play() in a base class Instrument. Derive classes Guitarand Piano that implement their own version of play().\n",
        "\n",
        "class Instrument:\n",
        "  def play(self):\n",
        "    print(\"The instrument is playing.\")\n",
        "\n",
        "class Guitar(Instrument):\n",
        "  def play(self):\n",
        "    print(\"Strumming the guitar strings.\")\n",
        "\n",
        "class Piano(Instrument):\n",
        "  def play(self):\n",
        "    print(\"Playing piano keys.\")\n",
        "\n",
        "def perform_play(instrument):\n",
        "  instrument.play()\n",
        "\n",
        "guitar = Guitar()\n",
        "piano = Piano()\n",
        "perform_play(guitar)\n",
        "perform_play(piano)"
      ],
      "metadata": {
        "colab": {
          "base_uri": "https://localhost:8080/"
        },
        "id": "CZuZFfnjpX-L",
        "outputId": "774dd811-73b1-4b6e-9923-488b75e941a1"
      },
      "execution_count": 39,
      "outputs": [
        {
          "output_type": "stream",
          "name": "stdout",
          "text": [
            "Strumming the guitar strings.\n",
            "Playing piano keys.\n"
          ]
        }
      ]
    },
    {
      "cell_type": "code",
      "source": [
        "#7. Create a class MathOperations with a class method add_numbers() to add two numbers and a staticmethod subtract_numbers() to subtract two numbers.\n",
        "class MathOperations:\n",
        "  @classmethod\n",
        "  def add_numbers(cls, a, b):\n",
        "    return a + b\n",
        "  @staticmethod  # Correct indentation\n",
        "  def subtract_numbers(a, b): # Correct indentation\n",
        "    return a - b\n",
        "sum_result = MathOperations.add_numbers(5, 3)\n",
        "difference_result = MathOperations.subtract_numbers(10, 4)\n",
        "print(f\"Sum: {sum_result}\")\n",
        "print(f\"Difference: {difference_result}\")"
      ],
      "metadata": {
        "colab": {
          "base_uri": "https://localhost:8080/"
        },
        "id": "C4Ce7XqxrLGs",
        "outputId": "1c6b597a-e9a9-49e2-a2d4-7bfc3422626a"
      },
      "execution_count": 49,
      "outputs": [
        {
          "output_type": "stream",
          "name": "stdout",
          "text": [
            "Sum: 8\n",
            "Difference: 6\n"
          ]
        }
      ]
    },
    {
      "cell_type": "code",
      "source": [
        "#8. Implement a class Person with a class method to count the total number of persons created\n",
        "class Person:\n",
        "    count = 0\n",
        "    def __init__(self, name, age):\n",
        "        self.name = name\n",
        "        self.age = age\n",
        "        Person.count += 1\n",
        "    @classmethod\n",
        "    def get_person_count(cls):\n",
        "        return cls.count\n",
        "\n",
        "person1 = Person(\"Alice\", 30)\n",
        "person2 = Person(\"Bob\", 25)\n",
        "person3 = Person(\"Charlie\", 35)\n",
        "print(f\"Total persons created: {Person.get_person_count()}\")\n",
        "# Removed the lines causing the error as they were outside the class/method and didn't have a clear purpose\n",
        "# self.age = age\n",
        "# Person.count += 1\n"
      ],
      "metadata": {
        "colab": {
          "base_uri": "https://localhost:8080/"
        },
        "id": "DTqs1DDjrUiH",
        "outputId": "a59e0245-3a7c-446e-bbf5-953e48f5abd5"
      },
      "execution_count": 58,
      "outputs": [
        {
          "output_type": "stream",
          "name": "stdout",
          "text": [
            "Total persons created: 3\n"
          ]
        }
      ]
    },
    {
      "cell_type": "code",
      "source": [
        "#9. Write a class Fraction with attributes numerator and denominator. Override the str method to display thefraction as \"numerator/denominator\".\n",
        "\n",
        "class Fraction:\n",
        "    def __init__(self, numerator, denominator):\n",
        "        self.numerator = numerator\n",
        "        self.denominator = denominator\n",
        "\n",
        "    def __str__(self):\n",
        "        return f\"{self.numerator}/{self.denominator}\"\n",
        "\n",
        "\n",
        "fraction1 = Fraction(3, 4)\n",
        "fraction2 = Fraction(5, 6)\n",
        "\n",
        "print(f\"Fraction 1: {fraction1}\")\n",
        "print(f\"Fraction 2: {fraction2}\")\n",
        "\n"
      ],
      "metadata": {
        "colab": {
          "base_uri": "https://localhost:8080/"
        },
        "id": "59Vxt_X3tXTQ",
        "outputId": "923b5034-7258-44f1-eb1e-8cca3ebf33ec"
      },
      "execution_count": 60,
      "outputs": [
        {
          "output_type": "stream",
          "name": "stdout",
          "text": [
            "Fraction 1: 3/4\n",
            "Fraction 2: 5/6\n"
          ]
        }
      ]
    },
    {
      "cell_type": "code",
      "source": [
        "#10. Demonstrate operator overloading by creating a class Vector and overriding the add method to add two vectors.\n",
        "class Vector:\n",
        "    def __init__(self, x, y):\n",
        "        self.x = x\n",
        "        self.y = y\n",
        "\n",
        "    def __add__(self, other):\n",
        "        return Vector(self.x + other.x, self.y + other.y)\n",
        "\n",
        "    def __str__(self):\n",
        "        return f\"({self.x}, {self.y})\"\n",
        "\n",
        "\n",
        "vector1 = Vector(2, 3)\n",
        "vector2 = Vector(4, 1)\n",
        "\n",
        "result = vector1 + vector2\n",
        "print(f\"Vector 1: {vector1}\")\n",
        "print(f\"Vector 2: {vector2}\")\n",
        "print(f\"Result of addition: {result}\")\n"
      ],
      "metadata": {
        "colab": {
          "base_uri": "https://localhost:8080/"
        },
        "id": "D69wG43h_JnD",
        "outputId": "40c0997f-8a77-4d80-c06c-717c001ce83a"
      },
      "execution_count": 2,
      "outputs": [
        {
          "output_type": "stream",
          "name": "stdout",
          "text": [
            "Vector 1: (2, 3)\n",
            "Vector 2: (4, 1)\n",
            "Result of addition: (6, 4)\n"
          ]
        }
      ]
    },
    {
      "cell_type": "code",
      "source": [
        "#11. Create a class Person with attributes name and age. Add a method greet() that prints \"Hello, my name is{name} and I am {age} years old.\"\n",
        "class Person:\n",
        "    def __init__(self, name, age):\n",
        "        self.name = name\n",
        "        self.age = age\n",
        "\n",
        "    def greet(self):\n",
        "        print(f\"Hello, my name is {self.name} and I am {self.age} years old.\")\n",
        "\n",
        "\n",
        "person1 = Person(\"Sidharth\", 28)\n",
        "person1.greet()"
      ],
      "metadata": {
        "colab": {
          "base_uri": "https://localhost:8080/"
        },
        "id": "GQ1zW6WY_wen",
        "outputId": "1e6ab77f-1f2f-476c-9ff9-742a856921f7"
      },
      "execution_count": 4,
      "outputs": [
        {
          "output_type": "stream",
          "name": "stdout",
          "text": [
            "Hello, my name is Sidharth and I am 28 years old.\n"
          ]
        }
      ]
    },
    {
      "cell_type": "code",
      "source": [
        "#12. Implement a class Student with attributes name and grades. Create a method average_grade() to compute the average of the grades.\n",
        "class Student:\n",
        "    def __init__(self, name, grades):\n",
        "        self.name = name\n",
        "        self.grades = grades\n",
        "\n",
        "    def average_grade(self):\n",
        "        return sum(self.grades) / len(self.grades) if self.grades else 0\n",
        "\n",
        "\n",
        "student1 = Student(\"Sidharth\", [85, 90, 78, 92, 88])\n",
        "student2 = Student(\"Nisha\", [80, 85, 90, 95, 87])\n",
        "\n",
        "\n",
        "print(f\"{student1.name}'s average grade: {student1.average_grade():.2f}\")\n",
        "print(f\"{student2.name}'s average grade: {student2.average_grade():.2f}\")\n"
      ],
      "metadata": {
        "colab": {
          "base_uri": "https://localhost:8080/"
        },
        "id": "CdnNn_hMACkq",
        "outputId": "5319b2a3-cc44-476d-9c0d-a4eda237198b"
      },
      "execution_count": 6,
      "outputs": [
        {
          "output_type": "stream",
          "name": "stdout",
          "text": [
            "Sidharth's average grade: 86.60\n",
            "Nisha's average grade: 87.40\n"
          ]
        }
      ]
    },
    {
      "cell_type": "code",
      "source": [
        "#13. Create a class Rectangle with methods set_dimensions() to set the dimensions and area() to calculate the area.\n",
        "class Rectangle:\n",
        "    def __init__(self):\n",
        "        self.length = 0\n",
        "        self.width = 0\n",
        "\n",
        "    def set_dimensions(self, length, width):\n",
        "        self.length = length\n",
        "        self.width = width\n",
        "\n",
        "    def area(self):\n",
        "        return self.length * self.width\n",
        "\n",
        "rectangle = Rectangle()\n",
        "rectangle.set_dimensions(5, 3)\n",
        "print(f\"The area of the rectangle is: {rectangle.area()}\")\n"
      ],
      "metadata": {
        "colab": {
          "base_uri": "https://localhost:8080/"
        },
        "id": "4qvR2WEcAURR",
        "outputId": "e9ca0655-0f20-4fc5-98b0-8ccdd7b165ec"
      },
      "execution_count": 8,
      "outputs": [
        {
          "output_type": "stream",
          "name": "stdout",
          "text": [
            "The area of the rectangle is: 15\n"
          ]
        }
      ]
    },
    {
      "cell_type": "code",
      "source": [
        "#14. Create a class Employee with a method calculate_salary() that computes the salary based on hours worked and hourly rate. Create a derived class Manager that adds a bonus to the salary\n",
        "class Employee:\n",
        "    def __init__(self, name, hours_worked, hourly_rate):\n",
        "        self.name = name\n",
        "        self.hours_worked = hours_worked\n",
        "        self.hourly_rate = hourly_rate\n",
        "\n",
        "\n",
        "    def calculate_salary(self):\n",
        "        return self.hours_worked * self.hourly_rate\n",
        "\n",
        "\n",
        "class Manager(Employee):\n",
        "    def __init__(self, name, hours_worked, hourly_rate, bonus):\n",
        "\n",
        "        super().__init__(name, hours_worked, hourly_rate)\n",
        "        self.bonus = bonus\n",
        "\n",
        "\n",
        "    def calculate_salary(self):\n",
        "        base_salary = super().calculate_salary()\n",
        "        return base_salary + self.bonus\n",
        "\n",
        "\n",
        "employee = Employee(\"John\", 40, 20)\n",
        "manager = Manager(\"Alice\", 40, 30, 500)\n",
        "\n",
        "\n",
        "print(f\"Employee's salary: ${employee.calculate_salary()}\")\n",
        "print(f\"Manager's salary (with bonus): ${manager.calculate_salary()}\")\n",
        "\n",
        "\n"
      ],
      "metadata": {
        "colab": {
          "base_uri": "https://localhost:8080/"
        },
        "id": "nTHmrsGqAtNe",
        "outputId": "cf6694b0-1671-4fac-eb5b-c877227e271b"
      },
      "execution_count": 10,
      "outputs": [
        {
          "output_type": "stream",
          "name": "stdout",
          "text": [
            "Employee's salary: $800\n",
            "Manager's salary (with bonus): $1700\n"
          ]
        }
      ]
    },
    {
      "cell_type": "code",
      "source": [
        "#15. Create a class Product with attributes name, price, and quantity. Implement a method total_price() that calculates the total price of the product.\n",
        "class Product:\n",
        "    def __init__(self, name, price, quantity):\n",
        "        self.name = name\n",
        "        self.price = price\n",
        "        self.quantity = quantity\n",
        "\n",
        "    def total_price(self):\n",
        "        return self.price * self.quantity\n",
        "\n",
        "\n",
        "product1 = Product(\"Laptop\", 1000, 2)\n",
        "product2 = Product(\"Phone\", 500, 3)\n",
        "\n",
        "\n",
        "print(f\"Total price of {product1.name}: ${product1.total_price()}\")\n",
        "print(f\"Total price of {product2.name}: ${product2.total_price()}\")\n"
      ],
      "metadata": {
        "colab": {
          "base_uri": "https://localhost:8080/"
        },
        "id": "8nuGlo2UA8b-",
        "outputId": "5aec9110-5c05-4117-8c46-aadd6e427c56"
      },
      "execution_count": 12,
      "outputs": [
        {
          "output_type": "stream",
          "name": "stdout",
          "text": [
            "Total price of Laptop: $2000\n",
            "Total price of Phone: $1500\n"
          ]
        }
      ]
    },
    {
      "cell_type": "code",
      "source": [
        "#16. Create a class Animal with an abstract method sound(). Create two derived classes Cow and Sheep that implement the sound() method.\n",
        "from abc import ABC, abstractmethod\n",
        "\n",
        "\n",
        "\n",
        "class Animal(ABC):\n",
        "    @abstractmethod\n",
        "    def sound(self):\n",
        "        pass\n",
        "\n",
        "\n",
        "class Cow(Animal):\n",
        "    def sound(self):\n",
        "        return \"Moo\"\n",
        "\n",
        "class Sheep(Animal):\n",
        "    def sound(self):\n",
        "        return \"Baa\"\n",
        "\n",
        "\n",
        "cow = Cow()\n",
        "sheep = Sheep()\n",
        "\n",
        "\n",
        "print(f\"Cow makes sound: {cow.sound()}\")\n",
        "print(f\"Sheep makes sound: {sheep.sound()}\")\n",
        "\n"
      ],
      "metadata": {
        "colab": {
          "base_uri": "https://localhost:8080/"
        },
        "id": "LRSoJFMBBKd0",
        "outputId": "49aaa1bc-78e1-461f-b0c3-5fe2f9a7f728"
      },
      "execution_count": 14,
      "outputs": [
        {
          "output_type": "stream",
          "name": "stdout",
          "text": [
            "Cow makes sound: Moo\n",
            "Sheep makes sound: Baa\n"
          ]
        }
      ]
    },
    {
      "cell_type": "code",
      "source": [
        "\n",
        "#17. Create a class Book with attributes title, author, and year_published. Add a method get_book_info() that returns a formatted string with the book's details.\n",
        "\n",
        "class Book:\n",
        "    def __init__(self, title, author, year_published):\n",
        "        self.title = title\n",
        "        self.author = author\n",
        "        self.year_published = year_published\n",
        "\n",
        "\n",
        "    def get_book_info(self):\n",
        "        return f\"'{self.title}' by {self.author}, published in {self.year_published}\"\n",
        "\n",
        "\n",
        "book1 = Book(\"To Kill a Mockingbird\", \"Harper Lee\", 1960)\n",
        "book2 = Book(\"1984\", \"George Orwell\", 1949)\n",
        "\n",
        "\n",
        "print(book1.get_book_info())\n",
        "print(book2.get_book_info())\n",
        "\n",
        "\n"
      ],
      "metadata": {
        "colab": {
          "base_uri": "https://localhost:8080/"
        },
        "id": "IMjQpSvbBZDM",
        "outputId": "d6d62c2d-edcd-4a03-a4b4-cdad7d39e3ed"
      },
      "execution_count": 16,
      "outputs": [
        {
          "output_type": "stream",
          "name": "stdout",
          "text": [
            "'To Kill a Mockingbird' by Harper Lee, published in 1960\n",
            "'1984' by George Orwell, published in 1949\n"
          ]
        }
      ]
    },
    {
      "cell_type": "code",
      "source": [
        "#18. Create a class House with attributes address and price. Create a derived class Mansion that adds an attribute number_of_rooms.\n",
        "class House:\n",
        "    def __init__(self, address, price):\n",
        "        self.address = address\n",
        "        self.price = price\n",
        "\n",
        "    def get_house_info(self):\n",
        "        return f\"House located at {self.address}, priced at ${self.price}\"\n",
        "\n",
        "\n",
        "class Mansion(House):\n",
        "    def __init__(self, address, price, number_of_rooms):\n",
        "        super().__init__(address, price)\n",
        "        self.number_of_rooms = number_of_rooms\n",
        "\n",
        "    def get_mansion_info(self):\n",
        "        return f\"Mansion located at {self.address}, priced at ${self.price}, with {self.number_of_rooms} rooms\"\n",
        "\n",
        "\n",
        "house = House(\"123 Main St\", 250000)\n",
        "mansion = Mansion(\"456 Luxury Ave\", 5000000, 10)\n",
        "\n",
        "print(house.get_house_info())\n",
        "print(mansion.get_mansion_info())\n",
        "\n"
      ],
      "metadata": {
        "colab": {
          "base_uri": "https://localhost:8080/"
        },
        "id": "iyZHsCl1Bmh0",
        "outputId": "643a9c35-b29c-4b09-ec8d-1d3204512e1d"
      },
      "execution_count": 18,
      "outputs": [
        {
          "output_type": "stream",
          "name": "stdout",
          "text": [
            "House located at 123 Main St, priced at $250000\n",
            "Mansion located at 456 Luxury Ave, priced at $5000000, with 10 rooms\n"
          ]
        }
      ]
    }
  ]
}