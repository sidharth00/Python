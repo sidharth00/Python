{
  "nbformat": 4,
  "nbformat_minor": 0,
  "metadata": {
    "colab": {
      "provenance": [],
      "authorship_tag": "ABX9TyOh8AiLnKHd2RiYCxEEad8C",
      "include_colab_link": true
    },
    "kernelspec": {
      "name": "python3",
      "display_name": "Python 3"
    },
    "language_info": {
      "name": "python"
    }
  },
  "cells": [
    {
      "cell_type": "markdown",
      "metadata": {
        "id": "view-in-github",
        "colab_type": "text"
      },
      "source": [
        "<a href=\"https://colab.research.google.com/github/sidharth00/Python/blob/main/Sid_3rd_assignment.ipynb\" target=\"_parent\"><img src=\"https://colab.research.google.com/assets/colab-badge.svg\" alt=\"Open In Colab\"/></a>"
      ]
    },
    {
      "cell_type": "markdown",
      "source": [
        "1. What is the difference between a function and a method in Python?\n",
        "In Python, the main difference between a function and a method is:\n",
        "● A function is a block of code that is defined independently and can be called by its name.\n",
        "A method is a function that is associated with an object and is called on that object. It’s defined\n",
        "inside a class and usually acts on data that belongs to the object."
      ],
      "metadata": {
        "id": "KJx0t1dHjV0v"
      }
    },
    {
      "cell_type": "code",
      "source": [
        "#Example of a Function\n",
        "def greet(name):\n",
        "  return f\"Hello, {name}!\"\n",
        "print(greet(\"Alice\"))"
      ],
      "metadata": {
        "colab": {
          "base_uri": "https://localhost:8080/"
        },
        "id": "OV5sMTyVjXhg",
        "outputId": "3152ec9c-0bbd-491b-8108-7fdf1fc825f4"
      },
      "execution_count": null,
      "outputs": [
        {
          "output_type": "stream",
          "name": "stdout",
          "text": [
            "Hello, Alice!\n"
          ]
        }
      ]
    },
    {
      "cell_type": "code",
      "source": [
        "#Example of a Method:\n",
        "class Person:\n",
        "  def __init__(self, name):\n",
        "    self.name = name\n",
        "  def greet(self): # This is a Method, indented correctly within the class\n",
        "    return f\"Hello, {self.name}!\"\n",
        "p = Person(\"Alice\")\n",
        "print(p.greet())"
      ],
      "metadata": {
        "colab": {
          "base_uri": "https://localhost:8080/"
        },
        "id": "ARolrJzHkqvV",
        "outputId": "d6ff5f86-2497-41cb-ce0c-7053747589c2"
      },
      "execution_count": null,
      "outputs": [
        {
          "output_type": "stream",
          "name": "stdout",
          "text": [
            "Hello, Alice!\n"
          ]
        }
      ]
    },
    {
      "cell_type": "markdown",
      "source": [
        "2.Explain the concept of function arguments and parameters in Python.\n",
        "● In Python, function arguments and parameters are important concepts related to how you\n",
        "pass data to functions.\n",
        "🔹 Parameters:\n",
        "● These are variables listed inside the parentheses when you define a function.\n",
        "● They act as placeholders for the values that will be passed in.\n",
        "🔹 Arguments:\n",
        "● These are the actual values you pass to a function when you call it.\n",
        "# Function definition with parameters 'name' and 'age'\n",
        "def greet(name, age):\n",
        "print(f\"Hello {name}, you are {age} years old!\")\n",
        "# Function call with arguments 'Alice' and 25\n",
        "greet(\"Alice\", 25)\n",
        " Explanation:\n",
        "● name and age are parameters of the function greet.\n",
        "● \"Alice\" and 25 are arguments passed to the function when it's called.\n",
        "● When the function runs, name becomes \"Alice\" and age becomes 25."
      ],
      "metadata": {
        "id": "yQqDlxD6k2WK"
      }
    },
    {
      "cell_type": "markdown",
      "source": [
        "3. What are the different ways to define and call a function in Python?\n",
        "● In Python, there are several ways to define and call functions. Below are the most common\n",
        "ones with examples:\n",
        "1. Standard Function Definition:\n",
        "● Using the def keyword\n",
        "def greet(name):\n",
        "return f\"Hello, {name}!\"\n",
        "# Calling the function\n",
        "print(greet(\"Alice\"))"
      ],
      "metadata": {
        "id": "dxSYsS2MlV58"
      }
    },
    {
      "cell_type": "markdown",
      "source": [
        "2. Function with Default Parameters:\n",
        "def greet(name=\"Guest\"):\n",
        "return f\"Hello, {name}!\"\n",
        "# Calling with and without argument\n",
        "print(greet(\"Bob\"))\n",
        "print(greet())"
      ],
      "metadata": {
        "id": "5Aepflk9lcRd"
      }
    },
    {
      "cell_type": "markdown",
      "source": [
        "3. Function with Variable Number of Arguments:\n",
        "Using *args and **kwargs.\n",
        "def add_numbers(*args):\n",
        "return sum(args)\n",
        "print(add_numbers(1, 2, 3, 4)) # Output: 10\n",
        "def print_info(**kwargs):\n",
        "for key, value in kwargs.items():\n",
        "print(f\"{key}: {value}\")\n",
        "print_info(name=\"Alice\", age=30)"
      ],
      "metadata": {
        "id": "8nyuzEGhleXC"
      }
    },
    {
      "cell_type": "markdown",
      "source": [
        "4. Lambda (Anonymous Function):\n",
        "square = lambda x: x * x\n",
        "# Calling lambda function\n",
        "print(square(5)) # Output: 25\n",
        "\n",
        "5. Calling a Function Within Another function:\n",
        "def outer():\n",
        "def inner():\n",
        "return \"Inner function called\"\n",
        "return inner()\n",
        "print(outer())\n",
        "\n",
        "6. Using functools.partial to Create Partial Functions:\n",
        "from functools import partial\n",
        "def multiply(x, y):\n",
        "return x * y\n",
        "double = partial(multiply, 2)\n",
        "print(double(5)) # Output: 10"
      ],
      "metadata": {
        "id": "RmKnNG0Cllb8"
      }
    },
    {
      "cell_type": "markdown",
      "source": [
        "6. Using functools.partial to Create Partial Functions:\n",
        "from functools import partial\n",
        "def multiply(x, y):\n",
        "return x * y\n",
        "double = partial(multiply, 2)\n",
        "print(double(5)) # Output: 10\n"
      ],
      "metadata": {
        "id": "ryLvB3gPlzPb"
      }
    },
    {
      "cell_type": "markdown",
      "source": [
        "4. What is the purpose of the return statement in a Python function?\n",
        "● The return statement in a Python function is used to send a result back to the caller of the\n",
        "function. When a function reaches a return statement, it ends and returns the value\n",
        "specified.\n",
        "🔹 Purpose of return:\n",
        "● To output a value from a function.\n",
        "● To exit the function early if needed.\n",
        "● Allows functions to be used in expressions or assigned to variables."
      ],
      "metadata": {
        "id": "-XlYR_kXl6Yu"
      }
    },
    {
      "cell_type": "code",
      "source": [
        "def add(a, b):\n",
        "  result = a + b\n",
        "  return result\n",
        "sum_result = add(5, 3)\n",
        "print(sum_result)"
      ],
      "metadata": {
        "colab": {
          "base_uri": "https://localhost:8080/"
        },
        "id": "Mg_rEms2l7LX",
        "outputId": "4a6e0357-d2a0-4534-f393-b66f8a9b5ef7"
      },
      "execution_count": null,
      "outputs": [
        {
          "output_type": "stream",
          "name": "stdout",
          "text": [
            "8\n"
          ]
        }
      ]
    },
    {
      "cell_type": "markdown",
      "source": [
        "5. What are iterators in Python and how do they differ from iterables?\n",
        "Iterables vs Iterators in Python:\n",
        "Iterable-\n",
        "● An iterable is any Python object capable of returning its members one at a time. It has a\n",
        "method iter() which returns an iterator.\n",
        "Examples of iterables:\n",
        "● Lists ([1, 2, 3])\n",
        "● Tuples ((1, 2, 3))\n",
        "● Strings (\"hello\")\n",
        "● Dictionaries, sets, etc.\n",
        "You can loop over an iterable using a for loop.\n",
        "\n",
        "Iterator-\n",
        "● An iterator is an object that remembers the state as you traverse through it. It implements\n",
        "two methods:\n",
        "■ iter() → returns the iterator object itself.\n",
        "■ next() → returns the next item and raises StopIteration when there are no more\n",
        "items.\n",
        "💡 Main Difference:\n",
        "● Iterable:Can be looped over (e.g. list).\n",
        "● Iterator: Actually does the looping, one element at a time using next()"
      ],
      "metadata": {
        "id": "jJX_982ImPOO"
      }
    },
    {
      "cell_type": "code",
      "source": [
        "# Iterable\n",
        "my_list = [10, 20, 30] # This is an iterable\n",
        "# Get an iterator from the iterable\n",
        "my_iterator = iter(my_list) # Now we have an iterator\n",
        "# Using the iterator\n",
        "print(next(my_iterator)) # Output: 10\n",
        "print(next(my_iterator)) # Output: 20\n",
        "print(next(my_iterator)) # Output: 30\n",
        "# print(next(my_iterator)) # This would raise StopIteration"
      ],
      "metadata": {
        "colab": {
          "base_uri": "https://localhost:8080/"
        },
        "id": "z8hyra9LmgcA",
        "outputId": "a1a9298b-1f63-4c19-c9d7-a6d051fdb780"
      },
      "execution_count": null,
      "outputs": [
        {
          "output_type": "stream",
          "name": "stdout",
          "text": [
            "10\n",
            "20\n",
            "30\n"
          ]
        }
      ]
    },
    {
      "cell_type": "markdown",
      "source": [
        "6. Explain the concept of generators in Python and how they are defined.\n",
        "● Generators in Python\n",
        "■ Generators are a special type of iterator that allow you to iterate over data lazily,\n",
        "meaning they produce items one at a time only when requested, instead of\n",
        "generating all the items at once and storing them in memory.\n",
        "■ They are useful for large datasets, infinite sequences, or situations where memory\n",
        "efficiency is important.\n",
        "● How are Generators Defined?\n",
        "Generators are defined using functions and the yield keyword.\n",
        "● Instead of return, you use yield to return a value from the function.\n",
        "● When the function is called, it returns a generator object.\n",
        "● You can iterate over this object using a loop, or the next() function."
      ],
      "metadata": {
        "id": "_Rm0iormm0nQ"
      }
    },
    {
      "cell_type": "code",
      "source": [
        "def count_up_to(max):\n",
        "  count = 1\n",
        "  while count <= max:\n",
        "    yield count\n",
        "    count += 1\n",
        "# Create generator\n",
        "counter = count_up_to(5)\n",
        "# Iterate through the generator\n",
        "for num in counter:\n",
        "  print(num)"
      ],
      "metadata": {
        "colab": {
          "base_uri": "https://localhost:8080/"
        },
        "id": "eth32LWcm6iu",
        "outputId": "eab31840-2b04-4822-c1e3-595e896e37f5"
      },
      "execution_count": null,
      "outputs": [
        {
          "output_type": "stream",
          "name": "stdout",
          "text": [
            "1\n",
            "2\n",
            "3\n",
            "4\n",
            "5\n"
          ]
        }
      ]
    },
    {
      "cell_type": "markdown",
      "source": [
        "7. What are the advantages of using generators over regular functions?\n",
        "● Generators offer several advantages over regular functions, especially when dealing with\n",
        "large datasets or streams of data. Here are the key benefits:\n",
        "Advantages of Generators:\n",
        "a.)Memory Efficiency-\n",
        "● Generators yield items one at a time, so they don’t store the entire result in memory. Great\n",
        "for working with large data or infinite sequences.\n",
        "b.)Lazy Evaluation-\n",
        "Values are generated only when requested, which can lead to performance improvements and\n",
        "reduced processing time.\n",
        "c.)State Retention-\n",
        "Generators automatically save their state between yield calls, so they resume exactly where they left\n",
        "off—without needing to manage state manually.\n",
        "d.)Cleaner Code-\n",
        "● Using yield can simplify the logic compared to maintaining manual loops, lists, or stateful\n",
        "iterators.\n",
        "e.)Can Represent Infinite Sequences-\n",
        "● Generators can represent sequences with no end (like Fibonacci numbers or live data\n",
        "streams), which regular functions can’t do as easily.\n",
        "Example:\n",
        "Regular Function:\n",
        "\n"
      ],
      "metadata": {
        "id": "AybVD5_dnbwK"
      }
    },
    {
      "cell_type": "code",
      "source": [
        "#Regular Function:\n",
        "def get_squares(limit):\n",
        "  result = []\n",
        "  for i in range(limit):\n",
        "    result.append(i * i)\n",
        "  return result\n",
        "print(get_squares(5))"
      ],
      "metadata": {
        "colab": {
          "base_uri": "https://localhost:8080/"
        },
        "id": "iSmd5zrknvBu",
        "outputId": "4b69398c-98d8-4ec5-bc03-fb44f0b14387"
      },
      "execution_count": null,
      "outputs": [
        {
          "output_type": "stream",
          "name": "stdout",
          "text": [
            "[0, 1, 4, 9, 16]\n"
          ]
        }
      ]
    },
    {
      "cell_type": "code",
      "source": [
        "#Generator:\n",
        "def generate_squares(limit):\n",
        "  for i in range(limit):\n",
        "    yield i * i\n",
        "for square in generate_squares(5):\n",
        "  print(square)"
      ],
      "metadata": {
        "colab": {
          "base_uri": "https://localhost:8080/"
        },
        "id": "rg2Jl_fKoHN_",
        "outputId": "c3411716-6605-487b-8529-1a0018de2c87"
      },
      "execution_count": null,
      "outputs": [
        {
          "output_type": "stream",
          "name": "stdout",
          "text": [
            "0\n",
            "1\n",
            "4\n",
            "9\n",
            "16\n"
          ]
        }
      ]
    },
    {
      "cell_type": "markdown",
      "source": [
        "8. What is a lambda function in Python and when is it typically used?\n",
        "● A lambda function in Python is a small, anonymous function defined using the lambda\n",
        "keyword. It's typically used when you need a simple function for a short period and don't\n",
        "want to formally define it using def.\n",
        "When is it used?\n",
        "*Lambda functions are commonly used:\n",
        "● As a quick function passed to map(), filter(), or sorted()\n",
        "● When writing short, throwaway functions\n",
        "● To simplify code where defining a full function with def would be overkill"
      ],
      "metadata": {
        "id": "Aa3iIIwwoS4l"
      }
    },
    {
      "cell_type": "code",
      "source": [
        "#Sort a list of tuples by the second item: example-\n",
        "data = [(1, 'apple'), (3, 'banana'), (2, 'cherry')]\n",
        "sorted_data = sorted(data, key=lambda x: x[1])\n",
        "print(sorted_data)"
      ],
      "metadata": {
        "colab": {
          "base_uri": "https://localhost:8080/"
        },
        "id": "nF6Gh9uCoUuj",
        "outputId": "7ea954fa-85f2-417f-8552-d86f0011cdfe"
      },
      "execution_count": null,
      "outputs": [
        {
          "output_type": "stream",
          "name": "stdout",
          "text": [
            "[(1, 'apple'), (3, 'banana'), (2, 'cherry')]\n"
          ]
        }
      ]
    },
    {
      "cell_type": "markdown",
      "source": [],
      "metadata": {
        "id": "TIhfVLqmoNPm"
      }
    },
    {
      "cell_type": "markdown",
      "source": [
        "9. Explain the purpose and usage of the map() function in Python.\n",
        "Purpose and Usage of map() in Python\n",
        "The map() function in Python is used to apply a function to every item in an iterable (like a list, tuple,\n",
        "etc.) and return a new map object (which is an iterator) with the results.\n",
        "\n",
        "Syntax\n",
        "map(function, iterable)\n",
        "● function – the function to apply to each element of the iterable.\n",
        "● iterable – the collection of items (like a list) you want to process"
      ],
      "metadata": {
        "id": "LL6EF2RsojcW"
      }
    },
    {
      "cell_type": "code",
      "source": [
        "def square(x):\n",
        "  return x * x\n",
        "numbers = [1, 2, 3, 4, 5]\n",
        "squared_numbers = map(square, numbers)\n",
        "# Convert map object to list\n",
        "print(list(squared_numbers))"
      ],
      "metadata": {
        "colab": {
          "base_uri": "https://localhost:8080/"
        },
        "id": "lncgl87npjGl",
        "outputId": "c8100553-b06d-479a-d164-35ca3c29dded"
      },
      "execution_count": null,
      "outputs": [
        {
          "output_type": "stream",
          "name": "stdout",
          "text": [
            "[1, 4, 9, 16, 25]\n"
          ]
        }
      ]
    },
    {
      "cell_type": "markdown",
      "source": [
        "10. What is the difference between map(), reduce(), and filter() functions in Python?\n",
        "● In Python, map(), reduce(), and filter() are built-in functions used for functional programming.\n",
        "They operate on sequences (like lists, tuples, etc.) and allow concise, expressive\n",
        "transformations or evaluations.\n",
        "🔹 map():\n",
        "● Purpose: Applies a function to every item in an iterable.\n",
        "● Returns: A new iterable (map object) with the results."
      ],
      "metadata": {
        "id": "qRuuWmlsptUe"
      }
    },
    {
      "cell_type": "code",
      "source": [
        "numbers = [1, 2, 3, 4]\n",
        "squared = list(map(lambda x: x ** 2, numbers))\n",
        "print(squared)"
      ],
      "metadata": {
        "colab": {
          "base_uri": "https://localhost:8080/"
        },
        "id": "QMDAroJ5puTq",
        "outputId": "0672ef64-d53f-491e-80c4-7f800d3ff51d"
      },
      "execution_count": null,
      "outputs": [
        {
          "output_type": "stream",
          "name": "stdout",
          "text": [
            "[1, 4, 9, 16]\n"
          ]
        }
      ]
    },
    {
      "cell_type": "markdown",
      "source": [
        "filter():\n",
        "● Purpose: Filters items in an iterable based on a Boolean condition (returns only True values).\n",
        "● Returns: A new iterable (filter object) with items that meet the condition."
      ],
      "metadata": {
        "id": "Wu1T3WGxp1U8"
      }
    },
    {
      "cell_type": "code",
      "source": [
        "numbers = [1, 2, 3, 4, 5]\n",
        "evens = list(filter(lambda x: x % 2 == 0, numbers))\n",
        "print(evens)"
      ],
      "metadata": {
        "colab": {
          "base_uri": "https://localhost:8080/"
        },
        "id": "u21mCfDWp7VF",
        "outputId": "4afa9ba3-1892-4ec7-b651-402ac0d30ca5"
      },
      "execution_count": null,
      "outputs": [
        {
          "output_type": "stream",
          "name": "stdout",
          "text": [
            "[2, 4]\n"
          ]
        }
      ]
    },
    {
      "cell_type": "markdown",
      "source": [
        "reduce() (from functools):\n",
        "● Purpose: Applies a function cumulatively to the items of an iterable, reducing it to a single\n",
        "value.\n",
        "● Returns: A single result"
      ],
      "metadata": {
        "id": "Ps7wR52-p_p0"
      }
    },
    {
      "cell_type": "code",
      "source": [
        "from functools import reduce\n",
        "numbers = [1, 2, 3, 4]\n",
        "product = reduce(lambda x, y: x * y, numbers)\n",
        "print(product)"
      ],
      "metadata": {
        "colab": {
          "base_uri": "https://localhost:8080/"
        },
        "id": "W7NJOGyzqFuj",
        "outputId": "e3bca279-017b-4b16-98b3-c1784f0c087f"
      },
      "execution_count": null,
      "outputs": [
        {
          "output_type": "stream",
          "name": "stdout",
          "text": [
            "24\n"
          ]
        }
      ]
    },
    {
      "cell_type": "markdown",
      "source": [
        "![WhatsApp Image 2025-05-01 at 7.26.20 PM.jpeg](data:image/jpeg;base64,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)"
      ],
      "metadata": {
        "id": "HUTzRdCHJXM1"
      }
    },
    {
      "cell_type": "markdown",
      "source": [],
      "metadata": {
        "id": "0K9ynwv3q-h7"
      }
    },
    {
      "cell_type": "code",
      "source": [
        "#1. Write a Python function that takes a list of numbers as input and returns the sum of all even numbers in the list.\n",
        "\n",
        "def sum_of_even_numbers(numbers): # Define the function 'sum_of_even_numbers'\n",
        "    \"\"\"\n",
        "    Calculates the sum of all even numbers in a list.\n",
        "\n",
        "    Args:\n",
        "        numbers (list): A list of numbers.\n",
        "\n",
        "    Returns:\n",
        "        int: The sum of all even numbers in the list.\n",
        "    \"\"\"\n",
        "    total = 0\n",
        "    for number in numbers:\n",
        "        if number % 2 == 0:\n",
        "            total += number\n",
        "    return total\n",
        "\n",
        "my_list = [1, 2, 3, 4, 5, 6]\n",
        "result = sum_of_even_numbers(my_list) # Now call the function\n",
        "print(result)"
      ],
      "metadata": {
        "colab": {
          "base_uri": "https://localhost:8080/"
        },
        "id": "61MN3WUlqqnx",
        "outputId": "92628fe9-6751-45ff-8f75-4d722561536d"
      },
      "execution_count": null,
      "outputs": [
        {
          "output_type": "stream",
          "name": "stdout",
          "text": [
            "12\n"
          ]
        }
      ]
    },
    {
      "cell_type": "code",
      "source": [
        "#2.Create a Python function that accepts a string and returns the reverse ofthat string.\n",
        "def reverse_string(text):\n",
        "  return text[::-1]\n",
        "text = \"Hello, world!\"\n",
        "reversed_text = reverse_string(text)\n",
        "print(reversed_text)"
      ],
      "metadata": {
        "colab": {
          "base_uri": "https://localhost:8080/"
        },
        "id": "JRgxHj_IsZ3l",
        "outputId": "14c98f1a-1ccf-45e0-853a-a70ff81a4f3d"
      },
      "execution_count": null,
      "outputs": [
        {
          "output_type": "stream",
          "name": "stdout",
          "text": [
            "!dlrow ,olleH\n"
          ]
        }
      ]
    },
    {
      "cell_type": "code",
      "source": [
        "#3. Implement a Python function that takes a list of integers and returns a new list containing the squares of each number.\n",
        "def square_numbers(numbers):\n",
        "  return [x**2 for x in numbers]\n",
        "nums = [1, 2, 3, 4, 5]\n",
        "squared = square_numbers(nums)\n",
        "print(squared)"
      ],
      "metadata": {
        "colab": {
          "base_uri": "https://localhost:8080/"
        },
        "id": "sxJpqGNUsdps",
        "outputId": "98b93e35-3dc6-409f-da7d-1b0d95b0bcd6"
      },
      "execution_count": null,
      "outputs": [
        {
          "output_type": "stream",
          "name": "stdout",
          "text": [
            "[1, 4, 9, 16, 25]\n"
          ]
        }
      ]
    },
    {
      "cell_type": "code",
      "source": [
        "#4. Write a Python function that checks if a given number is prime or not from 1 to 200.\n",
        "def is_prime(n):\n",
        "  if n <= 1:\n",
        "    return False\n",
        "  if n == 2:\n",
        "    return True\n",
        "  if n % 2 == 0:\n",
        "    return False\n",
        "  for i in range(3, int(n**0.5) + 1, 2):\n",
        "    if n % i == 0:\n",
        "      return False\n",
        "  return True\n",
        "\n"
      ],
      "metadata": {
        "id": "abCzKEAatQAX"
      },
      "execution_count": null,
      "outputs": []
    },
    {
      "cell_type": "code",
      "source": [
        "#Example: Check all numbers from 1 to 200\n",
        "for number in range(1, 201):\n",
        "  result = \"Prime\" if is_prime(number) else \"Not Prime\"\n",
        "print(f\"{number}: {result}\")"
      ],
      "metadata": {
        "colab": {
          "base_uri": "https://localhost:8080/"
        },
        "id": "BS525IlptgIz",
        "outputId": "1674a022-443f-4f21-8cfd-86464cc40eed"
      },
      "execution_count": null,
      "outputs": [
        {
          "output_type": "stream",
          "name": "stdout",
          "text": [
            "200: Not Prime\n"
          ]
        }
      ]
    },
    {
      "cell_type": "code",
      "source": [
        "\n",
        "#5. Create an iterator class in Python that generates the Fibonacci sequenceup to a specified number of terms.\n",
        "def __init__(self, max_terms):\n",
        "  self.max_terms = max_terms\n",
        "  self.count = 0\n",
        "  self.a = 0\n",
        "  self.b = 1\n",
        "def __iter__(self):\n",
        "  return self\n",
        "def __next__(self):\n",
        "  if self.count >= self.max_terms:\n",
        "    raise StopIteration\n",
        "  if self.count == 0:\n",
        "    self.count += 1\n",
        "    return self.a\n",
        "  elif self.count == 1:\n",
        "    self.count += 1\n",
        "    return self.b\n",
        "  else:\n",
        "    self.a, self.b = self.b, self.a + self.b\n",
        "    self.count += 1\n",
        "    return self.b\n",
        "    # Create an instance of the iterator class\n",
        "    class FibonacciIterator:\n",
        "      def __init__(self, max_terms):\n",
        "        for num in fib:\n",
        "          print(num)\n"
      ],
      "metadata": {
        "id": "4AnwYg-W9-gm"
      },
      "execution_count": null,
      "outputs": []
    },
    {
      "cell_type": "code",
      "source": [
        "#6. Write a generator function in Python that yields the powers of 2 up to agiven exponent.\n",
        "def powers_of_two(max_exponent):\n",
        "  for exponent in range(max_exponent + 1):\n",
        "    yield 2** exponent\n",
        "for power in powers_of_two(5):\n",
        "  print(power)"
      ],
      "metadata": {
        "colab": {
          "base_uri": "https://localhost:8080/"
        },
        "id": "ccYvBYNKBI0M",
        "outputId": "f823f156-c7cb-4969-8b32-3585f9a4117e"
      },
      "execution_count": null,
      "outputs": [
        {
          "output_type": "stream",
          "name": "stdout",
          "text": [
            "1\n",
            "2\n",
            "4\n",
            "8\n",
            "16\n",
            "32\n"
          ]
        }
      ]
    },
    {
      "cell_type": "code",
      "source": [
        "# prompt:  Implement a generator function that reads a file line by line and yields each line as a string.\n",
        "def read_file_line_by_line(filepath):\n",
        "  try:\n",
        "    with open(filepath, 'r') as file:\n",
        "      for line in file:\n",
        "        yield line.rstrip('\\n')\n",
        "  except FileNotFoundError:\n",
        "    print(f\"Error: File not found at {filepath}\")\n",
        "    if __name__ == \"__main__\":\n",
        "      with open(\"sample.txt\", \"w\") as f:\n",
        "        f.write(\"This is the first line.\\n\")\n",
        "        f.write(\"This is the second line.\\n\")\n",
        "        f.write(\"And this is the third line.\\n\")\n",
        "        for line in read_file_line_by_line(\"sample.txt\"):\n",
        "          print(f\"Line: {line}\")\n",
        "\n",
        "\n"
      ],
      "metadata": {
        "id": "XduQ-brw_s-C"
      },
      "execution_count": null,
      "outputs": []
    },
    {
      "cell_type": "code",
      "source": [
        "#8. Use a lambda function in Python to sort a list of tuples based on the second element of each tuple.\n",
        "# Sample list of tuples\n",
        "my_list = [(1, 3), (4, 1), (2, 2), (5, 0)]\n",
        "# Sort using lambda (based on the second element)\n",
        "sorted_list = sorted(my_list, key=lambda x: x[1])\n",
        "print(sorted_list)"
      ],
      "metadata": {
        "colab": {
          "base_uri": "https://localhost:8080/"
        },
        "id": "70qZvss7Db-w",
        "outputId": "a1fd29bc-7a25-495d-c8d4-e31230dc0d30"
      },
      "execution_count": null,
      "outputs": [
        {
          "output_type": "stream",
          "name": "stdout",
          "text": [
            "[(5, 0), (4, 1), (2, 2), (1, 3)]\n"
          ]
        }
      ]
    },
    {
      "cell_type": "code",
      "source": [
        "#9. Write a Python program that uses `map()` to convert a list of temperaturesfrom Celsius to Fahrenheit.\n",
        "def celsius_to_fahrenheit(celsius):\n",
        "  return (celsius * 9/5) + 32\n",
        "celsius_temperatures = [0, 20, 30, 40, 100]\n",
        "fahrenheit_temperatures = list(map(celsius_to_fahrenheit,\n",
        "celsius_temperatures))\n",
        "print(\"Celsius temperatures:\", celsius_temperatures)\n",
        "print(\"Fahrenheit temperatures:\", fahrenheit_temperatures)\n"
      ],
      "metadata": {
        "colab": {
          "base_uri": "https://localhost:8080/"
        },
        "id": "hZXZgTlHC4ip",
        "outputId": "7ab84f49-9e51-4604-b017-7af430f2d081"
      },
      "execution_count": null,
      "outputs": [
        {
          "output_type": "stream",
          "name": "stdout",
          "text": [
            "Celsius temperatures: [0, 20, 30, 40, 100]\n",
            "Fahrenheit temperatures: [32.0, 68.0, 86.0, 104.0, 212.0]\n"
          ]
        }
      ]
    },
    {
      "cell_type": "code",
      "source": [
        "#10. Create a Python program that uses `filter()` to remove all the vowels from a given string.\n",
        "def remove_vowels(input_string):\n",
        "  def is_not_vowel(char):\n",
        "    return char.lower() not in 'aeiou'\n",
        "    filtered_chars = filter(is_not_vowel, input_string)\n",
        "    result = ''.join(filtered_chars)\n",
        "    return result\n",
        "# Example usage\n",
        "input_string = \"Hello, World!\"\n",
        "output_string = remove_vowels(input_string)\n",
        "print(\"Original String:\", input_string)\n",
        "print(\"String without vowels:\", output_string)"
      ],
      "metadata": {
        "colab": {
          "base_uri": "https://localhost:8080/"
        },
        "id": "5hOkDMAPDtNy",
        "outputId": "788f3811-5093-469b-d4f7-f4bfc70fdbe3"
      },
      "execution_count": null,
      "outputs": [
        {
          "output_type": "stream",
          "name": "stdout",
          "text": [
            "Original String: Hello, World!\n",
            "String without vowels: None\n"
          ]
        }
      ]
    },
    {
      "cell_type": "code",
      "source": [
        "#Imagine an accounting routine used in a book shop. It works on a list\n",
        "#with sublists, which look like this:Write a Python program, which returns a\n",
        "#list with 2-tuples. Each tuple consists of the order number and theproduct of\n",
        "#the price per item and the quantity. The product should be increased by 10,- €\n",
        "#if the value of the order is smaller than 100,00 €. Write a Python program\n",
        "#using lambda and map\"\n",
        "orders = [\n",
        "[34587, \"Learning Python, Mark Lutz\", 4, 40.95],\n",
        "[98762, \"Programming Python, Mark Lutz\", 5, 56.80],\n",
        "[77226, \"Head First Python, Paul Barry\", 3, 32.95],\n",
        "[88112, \"Einführung in Python3, Bernd Klein\", 3, 24.99]\n",
        "]\n",
        "result = list(map(lambda x: (x[0], round(x[2] * x[3] + (10 if x[2] * x[3] < 100 else 0), 2)), orders))\n",
        "print(result)"
      ],
      "metadata": {
        "colab": {
          "base_uri": "https://localhost:8080/"
        },
        "id": "HhAqI6qJDiwc",
        "outputId": "09fcba8c-2887-499e-fefb-7f427257d838"
      },
      "execution_count": null,
      "outputs": [
        {
          "output_type": "stream",
          "name": "stdout",
          "text": [
            "[(34587, 163.8), (98762, 284.0), (77226, 108.85), (88112, 84.97)]\n"
          ]
        }
      ]
    }
  ]
}