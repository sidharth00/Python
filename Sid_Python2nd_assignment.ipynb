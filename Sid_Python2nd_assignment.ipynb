{
  "nbformat": 4,
  "nbformat_minor": 0,
  "metadata": {
    "colab": {
      "provenance": [],
      "authorship_tag": "ABX9TyMW8CNQDBtLavraNcPsIGWe",
      "include_colab_link": true
    },
    "kernelspec": {
      "name": "python3",
      "display_name": "Python 3"
    },
    "language_info": {
      "name": "python"
    }
  },
  "cells": [
    {
      "cell_type": "markdown",
      "metadata": {
        "id": "view-in-github",
        "colab_type": "text"
      },
      "source": [
        "<a href=\"https://colab.research.google.com/github/sidharth00/Python/blob/main/Sid_Python2nd_assignment.ipynb\" target=\"_parent\"><img src=\"https://colab.research.google.com/assets/colab-badge.svg\" alt=\"Open In Colab\"/></a>"
      ]
    },
    {
      "cell_type": "code",
      "execution_count": null,
      "metadata": {
        "id": "TjyQA97Q_B-3"
      },
      "outputs": [],
      "source": []
    },
    {
      "cell_type": "markdown",
      "source": [
        "Data Types and Structures\n",
        "1).What are data structures, and why are they important?\n",
        "● Data structures are specialized formats for organizing, processing, and storing data in a\n",
        "computer so it can be used efficiently. Common examples include arrays, linked lists, stacks,\n",
        "queues, trees, graphs, hash tables, and more.\n",
        "why are they important\n",
        "a.) Efficiency: The right data structure can significantly improve the performance of algorithms by\n",
        "optimizing data access and storage.\n",
        "b.)Organization: They help manage and organize data in ways that reflect real-world relationships.\n",
        "c.)Reusability: Well-designed data structures can be reused across different programs or systems.\n",
        "d.)Scalability: Efficient data structures are crucial for handling large amounts of data smoothly.\n",
        "e.)Problem Solving: Many complex problems can be broken down and solved more easily using the\n",
        "appropriate data structure.\n",
        "2).Explain the difference between mutable and immutable data types with examples.\n",
        "Mutable Data Types:- Mutable data types can be changed after they are created. This means you\n",
        "can modify, add, or remove elements without changing the object’s identity.\n",
        "*Examples of Mutable Data Types in Python:\n",
        "● List\n",
        "● dictionary\n",
        "● set"
      ],
      "metadata": {
        "id": "H-ybb_Ly_J6f"
      }
    },
    {
      "cell_type": "code",
      "source": [
        "my_list = [1, 2, 3]\n",
        "my_list.append(4)\n",
        "print(my_list)"
      ],
      "metadata": {
        "colab": {
          "base_uri": "https://localhost:8080/"
        },
        "id": "mXRKRaK-_MZN",
        "outputId": "55e29759-f2b6-46e3-d923-e9c8ecef5a24"
      },
      "execution_count": 1,
      "outputs": [
        {
          "output_type": "stream",
          "name": "stdout",
          "text": [
            "[1, 2, 3, 4]\n"
          ]
        }
      ]
    },
    {
      "cell_type": "markdown",
      "source": [
        "Immutable data types:- Immutable data types cannot be changed after they are created. Any\n",
        "operation that alters the data actually creates a new object\n",
        "*Example of immutable data types:\n",
        "● Integer\n",
        "● Float\n",
        "● String\n",
        "● Tuple\n",
        "● Boolean\n",
        "Example:"
      ],
      "metadata": {
        "id": "c5wKRoXV_nJq"
      }
    },
    {
      "cell_type": "code",
      "source": [
        "my_string = \"hello\"\n",
        "my_string += \" world\"\n",
        "print(my_string)"
      ],
      "metadata": {
        "colab": {
          "base_uri": "https://localhost:8080/"
        },
        "id": "47aNT4nG_oGe",
        "outputId": "c8561efe-fdfc-4e1f-ca12-07bba4d1987e"
      },
      "execution_count": 2,
      "outputs": [
        {
          "output_type": "stream",
          "name": "stdout",
          "text": [
            "hello world\n"
          ]
        }
      ]
    },
    {
      "cell_type": "markdown",
      "source": [
        "3).What are the main differences between lists and tuples in Python?\n",
        "● The main difference between lists and tuples in Python is that lists are mutable (can be\n",
        "changed after creation) while tuples are immutable (cannot be changed after creation).\n",
        "Mutability:-\n",
        "● List- You can add, remove, or modify elements in a list after it's created.\n",
        "● Tuples- Once a tuple is created, its elements cannot be changed.\n",
        "Syntax:-\n",
        "● List- Defined using square brackets [].\n",
        "● Tuples-Defined using parentheses ().\n",
        "Performance:-\n",
        "● List- Slower for iteration and more memory-intensive due to their mutability.\n",
        "● Tuples- Faster for iteration and more memory-efficient due to their immutability."
      ],
      "metadata": {
        "id": "k6YFGt8k_uNs"
      }
    },
    {
      "cell_type": "markdown",
      "source": [
        "Use Cases:-\n",
        "● List- Useful for situations where you need to modify the data structure, like adding or\n",
        "removing elements.\n",
        "● Tuples- Best used when you need to guarantee that the data structure remains constant, like\n",
        "representing fixed sets of data.\n",
        "4).Describe how dictionaries store data.\n",
        "● Dictionaries store data using a key-value pair system, and under the hood, they typically use\n",
        "a data structure called a hash table. Here's a breakdown of how it works:-\n",
        "📘 Structure of a Dictionary:-\n",
        "A dictionary is made up of entries where:\n",
        "● Each key is unique.\n",
        "● Each key maps to a specific value.\n",
        "Example of python:\n",
        "my_dict = {\"color\": \"blue\", \"size\": \"medium\"}"
      ],
      "metadata": {
        "id": "cTx4qxcCADYL"
      }
    },
    {
      "cell_type": "markdown",
      "source": [
        "Use Cases:-\n",
        "● List- Useful for situations where you need to modify the data structure, like adding or\n",
        "removing elements.\n",
        "● Tuples- Best used when you need to guarantee that the data structure remains constant, like\n",
        "representing fixed sets of data.\n",
        "4).Describe how dictionaries store data.\n",
        "● Dictionaries store data using a key-value pair system, and under the hood, they typically use\n",
        "a data structure called a hash table. Here's a breakdown of how it works:-\n",
        "📘 Structure of a Dictionary:-\n",
        "A dictionary is made up of entries where:\n",
        "● Each key is unique.\n",
        "● Each key maps to a specific value.\n",
        "Example of python:\n",
        "In [ ]:\n",
        "my_dict = {\"color\": \"blue\", \"size\": \"medium\"}\n",
        "⚙ How It Works Internally:-\n",
        "1. Hashing the Key:\n",
        "● When you add a key to a dictionary, the key is passed through a hash function.\n",
        "● This function returns a hash code (a number), which determines where to store the value in\n",
        "memory.\n",
        "2. Indexing:\n",
        "● The hash code is converted into an index in an internal array (the hash table).\n",
        "● The value is stored at that index.\n",
        "3. Fast Lookup:\n",
        "● When you access a value using a key, the key is hashed again to find the index.\n",
        "● The value at that index is returned quickly — usually in constant time, O(1).\n",
        "4. Collision Handling:\n",
        "● Two different keys might produce the same index (a collision).\n",
        "● Dictionaries use techniques like open addressing or chaining to resolve this and still store\n",
        "both values.\n",
        "5. Resizing:\n",
        "● As more items are added, the dictionary may need to resize its internal array to maintain\n",
        "performance.\n",
        "● This involves rehashing and moving entries to new positions."
      ],
      "metadata": {
        "id": "x8KbCHUSAWzQ"
      }
    },
    {
      "cell_type": "markdown",
      "source": [
        "5.) Why might you use a set instead of a list in Python?\n",
        "● You might use a set instead of a list in Python for several reasons, depending on what you're\n",
        "trying to do. Here's a breakdown:-\n",
        "🔹 1. Uniqueness-\n",
        "● Sets automatically remove duplicates.\n",
        "● If you need a collection of unique items, a set is ideal\n",
        "2. Faster Lookup-\n",
        "● Sets are optimized for fast membership tests.\n",
        "● Checking if an item is in a set is much faster than checking in a list, especially with large\n",
        "datasets.\n",
        "🔹 3. Set Operations-\n",
        "● Sets support operations like union, intersection, difference, and symmetric difference, which\n",
        "are super useful for comparing groups of data.\n",
        "🔹 4. Cleaner Code for Certain Tasks-\n",
        "● If you're doing something like removing duplicates, checking overlap, or ensuring\n",
        "membership uniqueness, a set leads to cleaner, more readable code\n",
        "6.) What is a string in Python, and how is it different from a list?\n",
        "● In Python, a string is a sequence of characters enclosed in quotes, like \"hello\" or 'world'. A\n",
        "list, on the other hand, is a sequence of elements (which can be of any type) enclosed in\n",
        "square brackets, like [1, 2, 3] or ['a', 'b', 'c'].\n",
        "Here’s a breakdown of the differences between a string and a list:\n"
      ],
      "metadata": {
        "id": "9WGsnsw6Acvq"
      }
    },
    {
      "cell_type": "markdown",
      "source": [
        "String-\n",
        "● Represents text.\n",
        "● Immutable (you can't change individual characters).\n",
        "● Each element is a character.\n",
        "● Defined using single ('...'), double (\"...\"), or triple quotes ('''...''' or \"\"\"...\"\"\" for multi-line strings)."
      ],
      "metadata": {
        "id": "CXT-3JRwArc1"
      }
    },
    {
      "cell_type": "code",
      "source": [
        "s = \"hello\"\n",
        "print(s[1])"
      ],
      "metadata": {
        "colab": {
          "base_uri": "https://localhost:8080/"
        },
        "id": "ExbAPDDBAxEI",
        "outputId": "59c5a547-86fc-43d0-fdec-215fe4470f7e"
      },
      "execution_count": 3,
      "outputs": [
        {
          "output_type": "stream",
          "name": "stdout",
          "text": [
            "e\n"
          ]
        }
      ]
    },
    {
      "cell_type": "markdown",
      "source": [
        "📋 List-\n",
        "● Represents a collection of items (any type: integers, strings, other lists, etc.).\n",
        "● Mutable (you can change, add, or remove elements).\n",
        "● Defined using square brackets"
      ],
      "metadata": {
        "id": "HJZDA5HqBAdl"
      }
    },
    {
      "cell_type": "code",
      "source": [
        "lst = ['h', 'e', 'l', 'l', 'o']\n",
        "print(lst[1]) # Output: 'e'\n",
        "lst[1] = 'a'\n",
        "print(lst)"
      ],
      "metadata": {
        "colab": {
          "base_uri": "https://localhost:8080/"
        },
        "id": "-xWA6LsJBSML",
        "outputId": "6aacdba5-b1cb-4523-d34d-561a7203cfc6"
      },
      "execution_count": 4,
      "outputs": [
        {
          "output_type": "stream",
          "name": "stdout",
          "text": [
            "e\n",
            "['h', 'a', 'l', 'l', 'o']\n"
          ]
        }
      ]
    },
    {
      "cell_type": "markdown",
      "source": [
        "7.) How do tuples ensure data integrity in Python?\n",
        "● Tuples in Python help ensure data integrity through immutability—once a tuple is created, its\n",
        "contents cannot be changed. Here's how that contributes to data integrity:\n",
        "🔒 1. Immutability-\n",
        "● Tuples are immutable—you can’t modify, add, or delete elements once the tuple is created.\n",
        "● This prevents accidental changes to data, making them ideal for representing fixed\n",
        "collections of items (like coordinates, RGB values, or database records).\n",
        "✅ 2. Hashability-\n",
        "● Because tuples are immutable, they are hashable (if all their elements are hashable), which\n",
        "allows them to be used as keys in dictionaries or elements in sets.\n",
        "● This is essential when you need consistent, unchangeable identifiers.\n",
        "🧩 3. Safer Shared Data-\n",
        "● When passing data structures around in a program, using tuples guarantees that no part of\n",
        "your code can unintentionally change their content.\n",
        "● This is especially important in multithreaded or functional programming scenarios."
      ],
      "metadata": {
        "id": "teK45yz_Bg-i"
      }
    },
    {
      "cell_type": "markdown",
      "source": [
        "4. Semantic Clarity-\n",
        "● Tuples can signal that the data is a fixed group of related values, like a record, where\n",
        "changing the contents would not make sense.\n",
        "● This helps enforce logical integrity at a higher level of abstraction.\n",
        "8.) What is a hash table, and how does it relate to dictionaries in Python ?\n",
        "● A hash table is a data structure that stores key-value pairs, using a hash function to map\n",
        "keys to indices in an array (or \"bucket\") for fast retrieval, and in Python, dictionaries are\n",
        "implemented using hash tables.\n",
        "Here's a more detailed explanation:"
      ],
      "metadata": {
        "id": "_vxDVl3hBofd"
      }
    },
    {
      "cell_type": "markdown",
      "source": [
        "a.)What is a Hash Table?\n",
        "● A hash table (also known as a hash map or associative array) is a data structure that stores\n",
        "key-value pairs.\n",
        "● It uses a hash function to determine the location (or \"bucket\") of a key-value pair within an\n",
        "array.\n",
        "● The hash function takes a key as input and returns an integer value (the hash code) which is\n",
        "used as an index into the array.\n",
        "● This allows for very fast lookups, insertions, and deletions, with an average time complexity\n",
        "of O(1) (constant time).\n",
        "b.)How it relates to Dictionaries in Python:\n",
        "● In Python, the built-in dict data type (dictionaries) is implemented using hash tables.\n",
        "● When you create a dictionary in Python, the keys are hashed to determine where they are\n",
        "stored in the underlying hash table.\n",
        "● This allows Python to quickly access the values associated with any given key.\n",
        "● The hash function ensures that keys are mapped to unique (or at least distinct) locations in\n",
        "the hash table.\n"
      ],
      "metadata": {
        "id": "qMZzMQRGBpuX"
      }
    },
    {
      "cell_type": "code",
      "source": [
        "my_dict = {\"apple\": 1, \"banana\": 2, \"cherry\": 3}\n",
        "print(my_dict[\"apple\"])"
      ],
      "metadata": {
        "colab": {
          "base_uri": "https://localhost:8080/"
        },
        "id": "4rQU0pROB7D3",
        "outputId": "abc59263-c443-4ace-ef95-898449a01c1b"
      },
      "execution_count": 5,
      "outputs": [
        {
          "output_type": "stream",
          "name": "stdout",
          "text": [
            "1\n"
          ]
        }
      ]
    },
    {
      "cell_type": "markdown",
      "source": [
        "9.)Can lists contain different data types in Python?\n",
        "● Yes, in Python, lists can contain elements of different data types. This is one of the features\n",
        "that makes Python lists very flexible.\n",
        "Here’s an example of a list with mixed data types:\n",
        "my_list = [42, \"hello\", 3.14, True, None, [1, 2, 3], {\"key\": \"value\"}]"
      ],
      "metadata": {
        "id": "gEFbG-9MB82z"
      }
    },
    {
      "cell_type": "markdown",
      "source": [
        "● A hash table is a data structure that stores key-value pairs, using a hash function to map\n",
        "keys to indices in an array (or \"bucket\") for fast retrieval, and in Python, dictionaries are\n",
        "implemented using hash tables.\n",
        "Here's a more detailed explanation:\n",
        "a.)What is a Hash Table?\n",
        "● A hash table (also known as a hash map or associative array) is a data structure that stores\n",
        "key-value pairs.\n",
        "● It uses a hash function to determine the location (or \"bucket\") of a key-value pair within an\n",
        "array.\n",
        "● The hash function takes a key as input and returns an integer value (the hash code) which is\n",
        "used as an index into the array.\n",
        "● This allows for very fast lookups, insertions, and deletions, with an average time complexity\n",
        "of O(1) (constant time).\n",
        "b.)How it relates to Dictionaries in Python:\n",
        "● In Python, the built-in dict data type (dictionaries) is implemented using hash tables.\n",
        "● When you create a dictionary in Python, the keys are hashed to determine where they are\n",
        "stored in the underlying hash table.\n",
        "● This allows Python to quickly access the values associated with any given key.\n",
        "● The hash function ensures that keys are mapped to unique (or at least distinct) locations in\n",
        "the hash table.\n",
        "In [ ]:\n",
        "my_dict = {\"apple\": 1, \"banana\": 2, \"cherry\": 3}\n",
        "print(my_dict[\"apple\"])\n",
        "1\n",
        "9.)Can lists contain different data types in Python?\n",
        "● Yes, in Python, lists can contain elements of different data types. This is one of the features\n",
        "that makes Python lists very flexible.\n",
        "Here’s an example of a list with mixed data types:\n",
        "my_list = [42, \"hello\", 3.14, True, None, [1, 2, 3], {\"key\": \"value\"}]\n",
        "In this list:\n",
        "● 42 is an integer\n",
        "● \"hello\" is a string\n",
        "● 3.14 is a float\n",
        "● True is a boolean\n",
        "● None is a NoneType\n",
        "● [1, 2, 3] is another list (nested list)\n",
        "● {\"key\": \"value\"} is a dictionary\n",
        "10.)Explain why strings are immutable in Python.\n",
        "● Strings are immutable in Python for several important reasons related to performance,\n",
        "security, and language design. Here's a clear breakdown:"
      ],
      "metadata": {
        "id": "74uSFXmnCDug"
      }
    },
    {
      "cell_type": "markdown",
      "source": [
        " 1. Security and Hashing-\n",
        "● Strings are often used as keys in dictionaries (e.g., my_dict[\"key\"] = value).\n",
        "● In order to be used as a key, an object must be hashable — meaning its hash value must\n",
        "never change.\n",
        "● If strings were mutable and someone changed the contents of a key, the hash would change,\n",
        "leading to data corruption or lookup errors.\n",
        "🚀 2. Performance and Memory Optimization-\n",
        "● Python uses a technique called string interning: it stores some strings in memory only once\n",
        "to save space and speed up comparisons.\n",
        "● Immutable strings make this safe because the string content can’t change, so Python can\n",
        "reuse them confidently.\n",
        "🧩 3. Predictable and Bug-Free Code-\n",
        "● If strings were mutable, changing a string in one place could unintentionally affect it\n",
        "somewhere else (if two variables reference the same string object).\n",
        "● Immutability avoids these side effects, making code more predictable and easier to debug.\n",
        "🔁 4. Encourages Clear Data Transformation-\n",
        "● Because strings are immutable, every string modification returns a new string.\n",
        "● This reinforces a functional programming style, where data transformations don’t mutate\n",
        "original inputs\n",
        "11.)What advantages do dictionaries offer over lists for certain tasks?\n",
        "🔑 1. Fast Lookup by Key-\n",
        "● Dictionaries provide constant time (O(1)) access to values by key.\n",
        "● Lists require linear time (O(n)) to search for a value unless you already know the index."
      ],
      "metadata": {
        "id": "8MUqQf3CCMXs"
      }
    },
    {
      "cell_type": "markdown",
      "source": [
        "Use dictionaries when you need to quickly retrieve data by a specific identifier.\n",
        "📛 2. More Meaningful Access-\n",
        "● In dictionaries, keys can be descriptive (user[\"email\"]) which improves readability.\n",
        "● In lists, you access data by index (user[3]), which can be unclear and error-prone.\n",
        "✅ Dictionaries make code more self-documenting and maintainable.\n",
        "🧩 3. Flexible Key Types-\n",
        "● Dictionaries can use various immutable types as keys (e.g., strings, numbers, tuples).\n",
        "● Lists are indexed by integers only.\n",
        "✅ Better when data isn't naturally organized by position.\n",
        "🧱 4. Better for Associative Data-\n",
        "● Dictionaries are ideal for storing key-value pairs (e.g., configurations, records, JSON-style\n",
        "data).\n",
        "● Lists are better for ordered collections of items.\n",
        "✅ Think of dictionaries like mini-databases or objects in other languages"
      ],
      "metadata": {
        "id": "fIC-OxdYCVV6"
      }
    },
    {
      "cell_type": "markdown",
      "source": [
        "5. Avoid Duplicates (in Keys)-\n",
        "● Dictionary keys are unique, which prevents duplication automatically.\n",
        "● Lists allow duplicate entries.\n",
        "✅ Helps enforce data integrity when uniqueness is required.\n",
        "12.) Describe a scenario where using a tuple would be preferable over a list.\n",
        "● A tuple would be preferable over a list in a scenario where immutability and data integrity are\n",
        "important.\n",
        "📌 Scenario: Returning multiple values from a function-\n",
        "Suppose you're writing a function that processes user login and returns both a status code and a\n",
        "message"
      ],
      "metadata": {
        "id": "LqQPNRu7Ccyp"
      }
    },
    {
      "cell_type": "code",
      "source": [
        "def login(username, password):\n",
        "  if username == \"admin\" and password == \"1234\":\n",
        "    return (True, \"Login successful\")\n",
        "  else:\n",
        "    return (False, \"Invalid credential\")\n",
        ""
      ],
      "metadata": {
        "id": "osH6ugVaCn6X"
      },
      "execution_count": 71,
      "outputs": []
    },
    {
      "cell_type": "markdown",
      "source": [
        "Why use a tuple here:\n",
        "● Fixed size and structure: The function always returns exactly two values in the same order.\n",
        "● Immutability: The returned data shouldn't be changed by the caller.\n",
        "● Efficiency:Tuples are slightly more memory-efficient and faster for fixed-size collections.\n",
        "status = login(\"admin\", \"1234\")\n",
        "status[0] = False\n",
        "13.)How do sets handle duplicate values in Python?\n",
        "● Sets in Python automatically remove duplicate values — they only store unique elements.\n",
        "🔁 What happens with duplicates?\n",
        "If you create a set or add items to one:\n",
        "● Any duplicate values are ignored.\n",
        "● The set will contain only one instance of each item.\n",
        "🧪 Example:\n",
        "my_set = {1, 2, 2, 3, 4, 1}\n",
        "print(my_set)"
      ],
      "metadata": {
        "id": "ZcisOoWpEE8Q"
      }
    },
    {
      "cell_type": "code",
      "source": [
        "my_set = {1, 2, 2, 3, 4, 1}\n",
        "print(my_set)"
      ],
      "metadata": {
        "colab": {
          "base_uri": "https://localhost:8080/"
        },
        "id": "Ni4pvvVFEPJj",
        "outputId": "d1fd8a41-db4b-4bff-bb98-dfe99ad3a5be"
      },
      "execution_count": 17,
      "outputs": [
        {
          "output_type": "stream",
          "name": "stdout",
          "text": [
            "{1, 2, 3, 4}\n"
          ]
        }
      ]
    },
    {
      "cell_type": "markdown",
      "source": [],
      "metadata": {
        "id": "j6pyRmKnEQ4H"
      }
    },
    {
      "cell_type": "markdown",
      "source": [
        "{1, 2, 3, 4}\n",
        "TL;DR:\n",
        "● ✅ Sets = Unique values only\n",
        "● ❌ Duplicates are discarded\n",
        "● 🧠 Useful for deduplicating lists or checking membership fast\n",
        "14.)How does the “in” keyword work differently for lists and dictionaries?\n",
        "● The \"in\" keyword in Python is used to check for membership, but how it works depends on\n",
        "the type of the data structure—like lists vs dictionaries.\n",
        "🔹 Lists-\n",
        "When used with a list, in checks whether a value exists as an element in the list."
      ],
      "metadata": {
        "id": "s4DUaV0JEX_w"
      }
    },
    {
      "cell_type": "code",
      "source": [
        "my_list = [1, 2, 3, 4]\n",
        "print(2 in my_list)\n",
        "print(5 in my_list)"
      ],
      "metadata": {
        "colab": {
          "base_uri": "https://localhost:8080/"
        },
        "id": "XY_obVw8EjTV",
        "outputId": "ed9de74b-1a81-410a-fe3d-8fffea50ac22"
      },
      "execution_count": 18,
      "outputs": [
        {
          "output_type": "stream",
          "name": "stdout",
          "text": [
            "True\n",
            "False\n"
          ]
        }
      ]
    },
    {
      "cell_type": "markdown",
      "source": [
        "Dictionaries-\n",
        "When used with a dictionary, in checks whether a value exists as a key in the dictionary."
      ],
      "metadata": {
        "id": "jPm0tEmuEk61"
      }
    },
    {
      "cell_type": "code",
      "source": [
        "my_dict = {'a': 1, 'b': 2}\n",
        "print('a' in my_dict)\n",
        "print(1 in my_dict)"
      ],
      "metadata": {
        "colab": {
          "base_uri": "https://localhost:8080/"
        },
        "id": "5OW_b5h3Eq3D",
        "outputId": "149ac919-1529-4734-fc5b-db4da604620a"
      },
      "execution_count": 19,
      "outputs": [
        {
          "output_type": "stream",
          "name": "stdout",
          "text": [
            "True\n",
            "False\n"
          ]
        }
      ]
    },
    {
      "cell_type": "markdown",
      "source": [
        "15.)Can you modify the elements of a tuple? Explain why or why not.\n",
        "● No, you cannot directly modify the elements of a tuple in Python because tuples are\n",
        "immutable meaning their elements cannot be changed after creation."
      ],
      "metadata": {
        "id": "YFJBm9lfFHHR"
      }
    },
    {
      "cell_type": "markdown",
      "source": [
        "Explanation:-\n",
        "Immutability:\n",
        "Tuples are designed to be immutable, meaning once a tuple is created, its elements cannot be\n",
        "altered, added to, or removed.\n",
        "Purpose:\n",
        "This immutability provides several advantages:\n",
        "● Data Integrity: Ensures that the data within a tuple remains consistent and predictable,\n",
        "preventing accidental or unintended changes.\n",
        "● Hashing: Immutable objects like tuples can be used as keys in dictionaries or as elements in\n",
        "sets because their hash values remain constant.\n",
        "● Efficiency: The immutability of tuples can lead to some performance optimizations in certain\n",
        "scenarios.\n",
        "Alternative:\n",
        "If you need a mutable sequence (where elements can be changed), you should use a list instead of a tuple"
      ],
      "metadata": {
        "id": "hZasGIv-FM1y"
      }
    },
    {
      "cell_type": "markdown",
      "source": [
        "Example:\n",
        "my_tuple = (1, 2, 3)\n",
        "16.)What is a nested dictionary, and give an example of its use case?\n",
        "● A nested dictionary in Python is a dictionary where values can be another dictionary. This\n",
        "allows you to model more complex data structures, like hierarchical or structured data.\n",
        "🧠 Why use a nested dictionary?\n",
        "It helps organize data that has multiple levels of information. Think of it like a dictionary inside\n",
        "another dictionary — like a spreadsheet with multiple columns or an object with properties and\n",
        "sub-properties. :\n",
        "**🔍 Example Use Case: Student Grades System- *"
      ],
      "metadata": {
        "id": "3sPApBAMFfW1"
      }
    },
    {
      "cell_type": "code",
      "source": [
        "##Let’s say you’re building a simple system to store students and their grades in different subjects:\n",
        "students = {\n",
        "\"Alice\": {\n",
        "\"Math\": 90,\n",
        "\"Science\": 85,\n",
        "\"English\": 88\n",
        "},\n",
        "\"Bob\": {\n",
        "\"Math\": 75,\n",
        "\"Science\": 80,\n",
        "\"English\": 78\n",
        "}\n",
        "}"
      ],
      "metadata": {
        "id": "GvOqUmWLFzu6"
      },
      "execution_count": 23,
      "outputs": []
    },
    {
      "cell_type": "markdown",
      "source": [
        "17.)Describe the time complexity of accessing elements in a dictionary.\n",
        "● Accessing elements in a dictionary (also known as a hash map) in most programming\n",
        "languages like Python typically has the following time complexity:\n",
        "🕒 Time Complexity:\n",
        "● Average case: O(1) — constant time\n",
        "● Worst case: O(n) — linear time\n",
        "💡 Why?\n",
        "Average case (O(1)):\n",
        "● Dictionaries use hashing to map keys to values. When you access an element like\n",
        "my_dict[key], the key is hashed, and the hash is used to directly index into an array, allowing\n",
        "for constant time access in most cases.\n",
        "Worst case (O(n)):\n",
        "● In rare scenarios, multiple keys can hash to the same index (called a hash collision). If many\n",
        "collisions occur and are poorly handled (e.g., via linked lists or open addressing with high\n",
        "load factor), lookups can degrade to linear time. However, modern implementations (like\n",
        "Python’s dict) use techniques to mitigate this, making the worst case uncommon."
      ],
      "metadata": {
        "id": "sDGC1fPFGUaM"
      }
    },
    {
      "cell_type": "markdown",
      "source": [
        "18.)In what situations are lists preferred over dictionaries?\n",
        "● Lists and dictionaries in Python serve different purposes, and choosing one over the other\n",
        "depends on the use case. Here are situations where lists are preferred over dictionaries:\n",
        "✅ 1. Order Matters-\n",
        "● Use a list when the order of elements is important.\n",
        "● Example: Maintaining a queue or processing items in sequence\n",
        "\n",
        "✅ 1. Order Matters-\n",
        "● Use a list when the order of elements is important.\n",
        "● Example: Maintaining a queue or processing items in sequence\n",
        "tasks = ['write', 'edit', 'submit']\n",
        "✅ 2. Simple Collections of Items-\n",
        "● Lists are great when you're dealing with simple, homogeneous data like numbers or strings\n",
        "without the need for labels.\n",
        "● Example: Storing names or scores.\n",
        "scores = [95, 87, 78]\n",
        "✅ 3. Positional Access-\n",
        "● If you frequently access items by index, lists are ideal"
      ],
      "metadata": {
        "id": "wKfDRpQQGejH"
      }
    },
    {
      "cell_type": "markdown",
      "source": [
        "first_score = scores[0]\n",
        "✅ 4. Iteration Without Keys-\n",
        "● Lists are optimal for straightforward looping through items where keys/labels aren’t\n",
        "necessary.\n",
        "for score in scores:\n",
        "print(score)"
      ],
      "metadata": {
        "id": "vyqFZSitGoWU"
      }
    },
    {
      "cell_type": "markdown",
      "source": [
        "✅ 1. Order Matters-\n",
        "● Use a list when the order of elements is important.\n",
        "● Example: Maintaining a queue or processing items in sequence\n",
        "tasks = ['write', 'edit', 'submit']\n",
        "✅ 2. Simple Collections of Items-\n",
        "● Lists are great when you're dealing with simple, homogeneous data like numbers or strings\n",
        "without the need for labels.\n",
        "● Example: Storing names or scores.\n",
        "scores = [95, 87, 78]\n",
        "✅ 3. Positional Access-\n",
        "● If you frequently access items by index, lists are ideal.\n",
        "first_score = scores[0]\n",
        "✅ 4. Iteration Without Keys-\n",
        "● Lists are optimal for straightforward looping through items where keys/labels aren’t\n",
        "necessary.\n",
        "for score in scores:\n",
        "print(score)\n",
        "✅ 5. Memory Efficiency-\n",
        "● Lists are generally more memory-efficient than dictionaries, especially for large collections of\n",
        "simple values.\n",
        "\n",
        " Need for Sorting-\n",
        "● Lists can be sorted easily with .sort() or sorted(). Dictionaries can only be sorted by keys or\n",
        "values with extra effort.\n",
        "scores.sort()"
      ],
      "metadata": {
        "id": "TkvTpW74GupH"
      }
    },
    {
      "cell_type": "markdown",
      "source": [
        "✅ 6. Need for Sorting-\n",
        "● Lists can be sorted easily with .sort() or sorted(). Dictionaries can only be sorted by keys or\n",
        "values with extra effort.\n",
        "scores.sort()\n",
        "✅ 7. Stack or Queue Implementation-\n",
        "● Lists work well for implementing stacks (LIFO) and queues (FIFO) using append(), pop(),\n",
        "and pop(0).\n",
        "stack = []\n",
        "stack.append('a')\n",
        "stack.pop() # LIFO\n",
        "19.)Why are dictionaries considered unordered, and how does that affect data retrieval?\n",
        "● Dictionaries in Python (and many other languages) are traditionally considered unordered\n",
        "because they do not maintain the order of the items as inserted (at least in versions before\n",
        "Python 3.7). Let's break this down a bit:\n",
        "🧠 Why were dictionaries considered unordered?\n",
        "● Hash tables: Dictionaries are implemented using hash tables under the hood. When you\n",
        "insert a key-value pair, the key gets hashed, and the result determines where it’s stored in\n",
        "memory.\n",
        "● No guaranteed order: In versions before Python 3.7, the internal mechanics of the hash table\n",
        "didn’t guarantee any consistent order of items when iterating over the dictionary.\n",
        "● So even if you inserted items in a specific order, you couldn’t count on retrieving them in the\n",
        "same order later.\n",
        "🐍 But starting in Python 3.7…\n",
        "● Python guarantees insertion order for dictionaries. That means if you insert keys in a\n",
        "particular sequence, iterating over the dictionary will return keys in that same sequence.\n",
        "● Even though dictionaries maintain order now, they’re still optimized for fast key-based\n",
        "retrieval, not for ordering or sorting.\n",
        "📌 How does this affect data retrieval?\n"
      ],
      "metadata": {
        "id": "rAlro9EkHCQv"
      }
    },
    {
      "cell_type": "markdown",
      "source": [
        "Key-based access is constant time (O(1)) because of hashing. You can quickly retrieve\n",
        "values using their keys, regardless of the order.\n",
        "● If you want to retrieve items in a specific order (e.g., sorted by keys or values), you’ll need to\n",
        "use functions like sorted() or use an OrderedDict (in some use cases, though it's less\n",
        "needed post-3.7).\n",
        "20.)Explain the difference between a list and a dictionary in terms of data retrieval.\n",
        "● The main difference between a list and a dictionary in terms of data retrieval lies in how you\n",
        "access the data and how fast that access is:\n",
        "🔢 List:\n",
        "● A list is an ordered collection of elements.\n",
        "● Data is retrieved using index positions (e.g., my_list[2] gives the third element).\n",
        "● Indexes are integers, starting at 0.\n",
        "● Retrieval time is O(1) (constant time) if you know the index.\n",
        "● You usually have to search (O(n)) if you're looking for a specific value and don’t know its\n",
        "index.\n",
        "Example:\n",
        "my_list = ['apple', 'banana', 'cherry']\n",
        "print(my_list[1]) # Output: 'banana'"
      ],
      "metadata": {
        "id": "OIwfldITHH5y"
      }
    },
    {
      "cell_type": "markdown",
      "source": [
        " Dictionary:\n",
        "A dictionary is an unordered collection of key-value pairs (in Python 3.7+, it preserves insertion\n",
        "order, but conceptually it's still based on key-value access).\n",
        "Data is retrieved using keys (e.g., my_dict['fruit']).\n",
        "Keys can be strings, numbers, or other immutable types.\n",
        "Retrieval time is O(1) on average, thanks to the underlying hash table mechanism.\n",
        "Example:\n",
        "my_dict = {'fruit': 'banana', 'color': 'yellow'}\n",
        "print(my_dict['fruit']) # Output: 'banana'"
      ],
      "metadata": {
        "id": "vwD8G2_NHNJS"
      }
    },
    {
      "cell_type": "code",
      "source": [
        "#1. Write a code to create a string with your name and print it\n",
        "name = \"Sidharth\"\n",
        "print(name)\n"
      ],
      "metadata": {
        "colab": {
          "base_uri": "https://localhost:8080/"
        },
        "id": "eXv_hDC3HggP",
        "outputId": "db6e3849-e572-4a1a-e058-39163c7f679c"
      },
      "execution_count": 32,
      "outputs": [
        {
          "output_type": "stream",
          "name": "stdout",
          "text": [
            "Sidharth\n"
          ]
        }
      ]
    },
    {
      "cell_type": "code",
      "source": [
        "#2. Write a code to find the length of the string \"Hello World\".\n",
        "text = \"Hello World\"\n",
        "length = len(text)\n",
        "print(\"Length of the string:\", length)"
      ],
      "metadata": {
        "colab": {
          "base_uri": "https://localhost:8080/"
        },
        "id": "6H6M8lYXIW5y",
        "outputId": "05aa6db5-4eb2-4362-8daf-cd6172ebc98c"
      },
      "execution_count": 33,
      "outputs": [
        {
          "output_type": "stream",
          "name": "stdout",
          "text": [
            "Length of the string: 11\n"
          ]
        }
      ]
    },
    {
      "cell_type": "code",
      "source": [
        "#3. Write a code to slice the first 3 characters from the string \"Python Programming\".\n",
        "text = \"Python Programming\"\n",
        "sliced_text = text[:3]\n",
        "print(sliced_text)"
      ],
      "metadata": {
        "colab": {
          "base_uri": "https://localhost:8080/"
        },
        "id": "KS1KAlz4IdJz",
        "outputId": "102c2878-f554-455b-c72a-be6b8d6424b8"
      },
      "execution_count": 34,
      "outputs": [
        {
          "output_type": "stream",
          "name": "stdout",
          "text": [
            "Pyt\n"
          ]
        }
      ]
    },
    {
      "cell_type": "code",
      "source": [
        "#4. Write a code to convert the string \"hello\" to uppercase.\n",
        "text = \"hello\"\n",
        "uppercase_text = text.upper()\n",
        "print(uppercase_text)"
      ],
      "metadata": {
        "colab": {
          "base_uri": "https://localhost:8080/"
        },
        "id": "CxHa5d0lImX_",
        "outputId": "e409c3b7-c8e5-4438-94e6-4b79c7fd6487"
      },
      "execution_count": 35,
      "outputs": [
        {
          "output_type": "stream",
          "name": "stdout",
          "text": [
            "HELLO\n"
          ]
        }
      ]
    },
    {
      "cell_type": "code",
      "source": [
        "#5. Write a code to replace the word \"apple\" with \"orange\" in the string \"I like apple\".\n",
        "text = \"I like apple\"\n",
        "new_text = text.replace(\"apple\", \"orange\")\n",
        "print(new_text)"
      ],
      "metadata": {
        "colab": {
          "base_uri": "https://localhost:8080/"
        },
        "id": "n5IhqAOXIs2n",
        "outputId": "5accd82a-48a2-4160-d7a7-3cf139ec08b3"
      },
      "execution_count": 36,
      "outputs": [
        {
          "output_type": "stream",
          "name": "stdout",
          "text": [
            "I like orange\n"
          ]
        }
      ]
    },
    {
      "cell_type": "code",
      "source": [
        "#6. Write a code to create a list with numbers 1 to 5 and print it.\n",
        "numbers = [1, 2, 3, 4, 5]\n",
        "print(numbers)"
      ],
      "metadata": {
        "colab": {
          "base_uri": "https://localhost:8080/"
        },
        "id": "l8gBFXmvI1yo",
        "outputId": "83530210-b1ac-421a-b875-838072ce2c3e"
      },
      "execution_count": 37,
      "outputs": [
        {
          "output_type": "stream",
          "name": "stdout",
          "text": [
            "[1, 2, 3, 4, 5]\n"
          ]
        }
      ]
    },
    {
      "cell_type": "code",
      "source": [
        "#7 Write a code to append the number 10 to the list [1, 2, 3, 4].\n",
        "my_list = [1, 2, 3, 4]\n",
        "my_list.append(10)\n",
        "print(my_list)"
      ],
      "metadata": {
        "colab": {
          "base_uri": "https://localhost:8080/"
        },
        "id": "Wo1_klZWI9VC",
        "outputId": "9f308caa-f0ad-492e-c226-d50ae59fdbe7"
      },
      "execution_count": 38,
      "outputs": [
        {
          "output_type": "stream",
          "name": "stdout",
          "text": [
            "[1, 2, 3, 4, 10]\n"
          ]
        }
      ]
    },
    {
      "cell_type": "code",
      "source": [
        "#8. Write a code to remove the number 3 from the list [1, 2, 3, 4, 5].\n",
        "my_list = [1, 2, 3, 4, 5]\n",
        "my_list.remove(3)\n",
        "print(my_list)"
      ],
      "metadata": {
        "colab": {
          "base_uri": "https://localhost:8080/"
        },
        "id": "VNFfTkmvJGWD",
        "outputId": "6437acd0-5460-4dfe-d5d2-d0a2ed4b7436"
      },
      "execution_count": 39,
      "outputs": [
        {
          "output_type": "stream",
          "name": "stdout",
          "text": [
            "[1, 2, 4, 5]\n"
          ]
        }
      ]
    },
    {
      "cell_type": "code",
      "source": [
        "#9. Write a code to access the second element in the list ['a', 'b', 'c','d'].\n",
        "my_list = ['a', 'b', 'c', 'd']\n",
        "second_element = my_list[1]\n",
        "print(second_element)"
      ],
      "metadata": {
        "colab": {
          "base_uri": "https://localhost:8080/"
        },
        "id": "ib6TbY-SJKsJ",
        "outputId": "23e00c74-f6a5-4a86-817c-15cda5916aa6"
      },
      "execution_count": 40,
      "outputs": [
        {
          "output_type": "stream",
          "name": "stdout",
          "text": [
            "b\n"
          ]
        }
      ]
    },
    {
      "cell_type": "code",
      "source": [
        "#10. Write a code to reverse the list [10, 20, 30, 40, 50].\n",
        "my_list = [10, 20, 30, 40, 50]\n",
        "reversed_list = my_list[::-1]\n",
        "print(reversed_list)"
      ],
      "metadata": {
        "colab": {
          "base_uri": "https://localhost:8080/"
        },
        "id": "LzQe30aqJTNK",
        "outputId": "63d02908-942a-46b6-be1d-6407ef321772"
      },
      "execution_count": 41,
      "outputs": [
        {
          "output_type": "stream",
          "name": "stdout",
          "text": [
            "[50, 40, 30, 20, 10]\n"
          ]
        }
      ]
    },
    {
      "cell_type": "code",
      "source": [
        "#11.Write a code to create a tuple with the elements 100, 200, 300 and print it.\n",
        "my_tuple = (100, 200, 300)\n",
        "print(my_tuple)"
      ],
      "metadata": {
        "colab": {
          "base_uri": "https://localhost:8080/"
        },
        "id": "qV-0K9f-JZus",
        "outputId": "53b64043-9339-45f3-8fa2-2af8bbc71e2f"
      },
      "execution_count": 42,
      "outputs": [
        {
          "output_type": "stream",
          "name": "stdout",
          "text": [
            "(100, 200, 300)\n"
          ]
        }
      ]
    },
    {
      "cell_type": "code",
      "source": [
        "#12. Write a code to access the second-to-last element of the tuple ('red','green', 'blue', 'yellow').\n",
        "colors = ('red', 'green', 'blue', 'yellow')\n",
        "second_to_last = colors[-2]\n",
        "print(second_to_last)"
      ],
      "metadata": {
        "colab": {
          "base_uri": "https://localhost:8080/"
        },
        "id": "JOA6Sye0JlHZ",
        "outputId": "740dd16a-a610-4749-f055-046796a18eca"
      },
      "execution_count": 43,
      "outputs": [
        {
          "output_type": "stream",
          "name": "stdout",
          "text": [
            "blue\n"
          ]
        }
      ]
    },
    {
      "cell_type": "code",
      "source": [
        "#13. Write a code to find the minimum number in the tuple (10, 20, 5, 15)\n",
        "numbers = (10, 20, 5, 15)\n",
        "minimum_number = min(numbers)\n",
        "print(\"The minimum number is:\", minimum_number)"
      ],
      "metadata": {
        "colab": {
          "base_uri": "https://localhost:8080/"
        },
        "id": "6e8GzrW0JsXb",
        "outputId": "295bae33-4093-4807-b049-6259f57fb50b"
      },
      "execution_count": 45,
      "outputs": [
        {
          "output_type": "stream",
          "name": "stdout",
          "text": [
            "The minimum number is: 5\n"
          ]
        }
      ]
    },
    {
      "cell_type": "code",
      "source": [
        "#14. Write a code to find the index of the element \"cat\" in the tuple ('dog','cat', 'rabbit').\n",
        "animals = ('dog', 'cat', 'rabbit')\n",
        "index_of_cat = animals.index('cat')\n",
        "print(\"The index of 'cat' is:\", index_of_cat)"
      ],
      "metadata": {
        "colab": {
          "base_uri": "https://localhost:8080/"
        },
        "id": "pl15cTJ0K1qG",
        "outputId": "b7bf2b7c-2bc8-4bfc-ba8c-3c48bbd04df7"
      },
      "execution_count": 46,
      "outputs": [
        {
          "output_type": "stream",
          "name": "stdout",
          "text": [
            "The index of 'cat' is: 1\n"
          ]
        }
      ]
    },
    {
      "cell_type": "code",
      "source": [
        "#15. Write a code to create a tuple containing three different fruits andcheck if \"kiwi\" is in it.\n",
        "fruits = (\"apple\", \"banana\", \"orange\")\n",
        "if \"kiwi\" in fruits:\n",
        "  print(\"Kiwi is in the tuple.\")\n",
        "else:\n",
        "  print(\"Kiwi is not in the tuple.\")"
      ],
      "metadata": {
        "colab": {
          "base_uri": "https://localhost:8080/"
        },
        "id": "pxJ8zLjdK8Uf",
        "outputId": "ffb7dbf3-8c4b-46d8-e14f-e6151727745b"
      },
      "execution_count": 48,
      "outputs": [
        {
          "output_type": "stream",
          "name": "stdout",
          "text": [
            "Kiwi is not in the tuple.\n"
          ]
        }
      ]
    },
    {
      "cell_type": "code",
      "source": [
        "#16. Write a code to create a set with the elements 'a', 'b', 'c' and print it.\n",
        "my_set = {'a', 'b', 'c'}\n",
        "print(my_set)"
      ],
      "metadata": {
        "colab": {
          "base_uri": "https://localhost:8080/"
        },
        "id": "srw2pLvxLIza",
        "outputId": "57cc54fa-3ac0-4851-a021-a45a159b5b26"
      },
      "execution_count": 49,
      "outputs": [
        {
          "output_type": "stream",
          "name": "stdout",
          "text": [
            "{'a', 'c', 'b'}\n"
          ]
        }
      ]
    },
    {
      "cell_type": "code",
      "source": [
        "#17. Write a code to clear all elements from the set {1, 2, 3, 4, 5}.\n",
        "my_set = {1, 2, 3, 4, 5}\n",
        "my_set.clear()\n",
        "print(my_set)"
      ],
      "metadata": {
        "colab": {
          "base_uri": "https://localhost:8080/"
        },
        "id": "YpsZC2vkLXSX",
        "outputId": "777ad921-849e-41c9-b91a-ba7bbe4b8b38"
      },
      "execution_count": 50,
      "outputs": [
        {
          "output_type": "stream",
          "name": "stdout",
          "text": [
            "set()\n"
          ]
        }
      ]
    },
    {
      "cell_type": "code",
      "source": [
        "#18. Write a code to remove the element 4 from the set {1, 2, 3, 4}.\n",
        "my_set = {1, 2, 3, 4}\n",
        "my_set.discard(4)\n",
        "print(my_set)"
      ],
      "metadata": {
        "colab": {
          "base_uri": "https://localhost:8080/"
        },
        "id": "vZ9PwK2xLe7f",
        "outputId": "9fbf4eb8-b78e-4a40-8577-7246b89d9fb1"
      },
      "execution_count": 51,
      "outputs": [
        {
          "output_type": "stream",
          "name": "stdout",
          "text": [
            "{1, 2, 3}\n"
          ]
        }
      ]
    },
    {
      "cell_type": "code",
      "source": [
        "#19. Write a code to find the union of two sets {1, 2, 3} and {3, 4, 5}.\n",
        "set1 = {1, 2, 3}\n",
        "set2 = {3, 4, 5}\n",
        "union_set = set1.union(set2)\n",
        "print(\"Union of the sets:\", union_set)"
      ],
      "metadata": {
        "colab": {
          "base_uri": "https://localhost:8080/"
        },
        "id": "wgKDGwuaLjem",
        "outputId": "103650d2-fa9f-4759-8cdd-4f4ee949ba82"
      },
      "execution_count": 52,
      "outputs": [
        {
          "output_type": "stream",
          "name": "stdout",
          "text": [
            "Union of the sets: {1, 2, 3, 4, 5}\n"
          ]
        }
      ]
    },
    {
      "cell_type": "code",
      "source": [
        "#20. Write a code to find the intersection of two sets {1, 2, 3} and {2, 3,4}\n",
        "set1 = {1, 2, 3}\n",
        "set2 = {2, 3, 4}\n",
        "intersection = set1 & set2\n",
        "print(\"Intersection:\", intersection)"
      ],
      "metadata": {
        "colab": {
          "base_uri": "https://localhost:8080/"
        },
        "id": "KYb6yrJCLoX2",
        "outputId": "5f2cc89a-83a0-4fe3-c2ea-0f4aa133542e"
      },
      "execution_count": 56,
      "outputs": [
        {
          "output_type": "stream",
          "name": "stdout",
          "text": [
            "Intersection: {2, 3}\n"
          ]
        }
      ]
    },
    {
      "cell_type": "code",
      "source": [
        "#21. Write a code to create a dictionary with the keys \"name\", \"age\", and\"city\", and print it.\n",
        "my_dict = {\n",
        "\"sidharth\": None,\n",
        "\"30\": None,\n",
        "\"BBSR\": None\n",
        "}\n",
        "print(my_dict)"
      ],
      "metadata": {
        "colab": {
          "base_uri": "https://localhost:8080/"
        },
        "id": "f3dXmqUiL5j3",
        "outputId": "ef1939f8-b2c2-4812-f49a-b7ebd23800eb"
      },
      "execution_count": 57,
      "outputs": [
        {
          "output_type": "stream",
          "name": "stdout",
          "text": [
            "{'sidharth': None, '30': None, 'BBSR': None}\n"
          ]
        }
      ]
    },
    {
      "cell_type": "code",
      "source": [
        "#22. Write a code to add a new key-value pair \"country\": \"USA\" to the dictionary {'name': 'John', 'age': 25}.\n",
        "person = {'name': 'John', 'age': 25}\n",
        "person['country'] = 'USA'\n",
        "print(person)"
      ],
      "metadata": {
        "colab": {
          "base_uri": "https://localhost:8080/"
        },
        "id": "03HUolfAMPeC",
        "outputId": "4b5a0f78-7109-4055-df68-74f84acd74c1"
      },
      "execution_count": 58,
      "outputs": [
        {
          "output_type": "stream",
          "name": "stdout",
          "text": [
            "{'name': 'John', 'age': 25, 'country': 'USA'}\n"
          ]
        }
      ]
    },
    {
      "cell_type": "code",
      "source": [
        "#23. Write a code to access the value associated with the key \"name\" in the dictionary {'name': 'Alice', 'age': 30}.\n",
        "person = {'name': 'Alice', 'age': 30}\n",
        "name_value = person['name']\n",
        "print(name_value)"
      ],
      "metadata": {
        "colab": {
          "base_uri": "https://localhost:8080/"
        },
        "id": "yzuVBV9oMYWa",
        "outputId": "f578bf72-1918-4dce-f12e-587346ed729a"
      },
      "execution_count": 59,
      "outputs": [
        {
          "output_type": "stream",
          "name": "stdout",
          "text": [
            "Alice\n"
          ]
        }
      ]
    },
    {
      "cell_type": "code",
      "source": [
        "#24. Write a code to remove the key \"age\" from the dictionary {'name': 'Bob','age': 22, 'city': 'New York'}.\n",
        "person = {'name': 'Bob', 'age': 22, 'city': 'New York'}\n",
        "person.pop('age', None)\n",
        "print(person)"
      ],
      "metadata": {
        "colab": {
          "base_uri": "https://localhost:8080/"
        },
        "id": "sY7-2lHJMdx1",
        "outputId": "ce93e778-60cb-43f0-b7f2-ae6694ea9764"
      },
      "execution_count": 60,
      "outputs": [
        {
          "output_type": "stream",
          "name": "stdout",
          "text": [
            "{'name': 'Bob', 'city': 'New York'}\n"
          ]
        }
      ]
    },
    {
      "cell_type": "code",
      "source": [
        "#25. Write a code to check if the key \"city\" exists in the dictionary{'name': 'Alice', 'city': 'Paris'}.\n",
        "data = {'name': 'Alice', 'city': 'Paris'}\n",
        "if 'city' in data:\n",
        "  print(\"The key 'city' exists in the dictionary.\")\n",
        "else:\n",
        "  print(\"The key 'city' does not exist in the dictionary.\")"
      ],
      "metadata": {
        "colab": {
          "base_uri": "https://localhost:8080/"
        },
        "id": "R2fVO4yFMq5C",
        "outputId": "ef2ff4bc-118e-4133-aa36-12492fe282ab"
      },
      "execution_count": 61,
      "outputs": [
        {
          "output_type": "stream",
          "name": "stdout",
          "text": [
            "The key 'city' exists in the dictionary.\n"
          ]
        }
      ]
    },
    {
      "cell_type": "code",
      "source": [
        "#26. Write a code to create a list, a tuple, and a dictionary, and print them all.\n",
        "my_list = [1, 2, 3, 4, 5]\n",
        "my_tuple = ('a', 'b', 'c')\n",
        "my_dict = {'name': 'Alice', 'age': 30, 'city': 'New York'}\n",
        "print(\"List:\", my_list)\n",
        "print(\"Tuple:\", my_tuple)\n",
        "print(\"Dictionary:\", my_dict)\n"
      ],
      "metadata": {
        "colab": {
          "base_uri": "https://localhost:8080/"
        },
        "id": "w6hqShYhMz1J",
        "outputId": "1c9089d3-f22d-4a98-9306-218d9fd8a24a"
      },
      "execution_count": 62,
      "outputs": [
        {
          "output_type": "stream",
          "name": "stdout",
          "text": [
            "List: [1, 2, 3, 4, 5]\n",
            "Tuple: ('a', 'b', 'c')\n",
            "Dictionary: {'name': 'Alice', 'age': 30, 'city': 'New York'}\n"
          ]
        }
      ]
    },
    {
      "cell_type": "code",
      "source": [
        "#27. Write a code to create a list of 5 random numbers between 1 and 100, sortit in ascending order, and print the result.(replaced)\n",
        "import random\n",
        "random_numbers = [random.randint(1, 100) for _ in range(5)]\n",
        "random_numbers.sort()\n",
        "print(\"Sorted random numbers:\", random_numbers)"
      ],
      "metadata": {
        "colab": {
          "base_uri": "https://localhost:8080/"
        },
        "id": "dXtgjRkfNFDA",
        "outputId": "9e62461f-8318-495b-bb05-20a6de20cf1f"
      },
      "execution_count": 63,
      "outputs": [
        {
          "output_type": "stream",
          "name": "stdout",
          "text": [
            "Sorted random numbers: [2, 6, 25, 91, 93]\n"
          ]
        }
      ]
    },
    {
      "cell_type": "code",
      "source": [
        "#28. Write a code to create a list with strings and print the element at the third index.\n",
        "string_list = [\"apple\", \"banana\", \"cherry\", \"date\", \"elderberry\"]\n",
        "print(\"Element at index 3:\", string_list[3])"
      ],
      "metadata": {
        "colab": {
          "base_uri": "https://localhost:8080/"
        },
        "id": "qhyqaBkQNPKe",
        "outputId": "f924241c-88ae-4ed5-f908-59396720b766"
      },
      "execution_count": 64,
      "outputs": [
        {
          "output_type": "stream",
          "name": "stdout",
          "text": [
            "Element at index 3: date\n"
          ]
        }
      ]
    },
    {
      "cell_type": "code",
      "source": [
        "#29. Write a code to combine two dictionaries into one and print the result.\n",
        "dict1 = {'a': 1, 'b': 2}\n",
        "dict2 = {'c': 3, 'd': 4}\n",
        "combined_dict = {**dict1, **dict2}\n",
        "print(\"Combined Dictionary:\", combined_dict)"
      ],
      "metadata": {
        "colab": {
          "base_uri": "https://localhost:8080/"
        },
        "id": "0LXMARtnNWRW",
        "outputId": "5a5899f4-2ee3-4953-daac-a0f96f74d9d8"
      },
      "execution_count": 65,
      "outputs": [
        {
          "output_type": "stream",
          "name": "stdout",
          "text": [
            "Combined Dictionary: {'a': 1, 'b': 2, 'c': 3, 'd': 4}\n"
          ]
        }
      ]
    },
    {
      "cell_type": "code",
      "source": [
        "#30 Write a code to convert a list of strings into a set.\n",
        "string_list = [\"apple\", \"banana\", \"cherry\", \"apple\", \"banana\"]\n",
        "string_set = set(string_list)\n",
        "print(string_set)"
      ],
      "metadata": {
        "colab": {
          "base_uri": "https://localhost:8080/"
        },
        "id": "zkkYus6NNcel",
        "outputId": "60299f25-4e95-4266-f03d-cdf10a8d056a"
      },
      "execution_count": 66,
      "outputs": [
        {
          "output_type": "stream",
          "name": "stdout",
          "text": [
            "{'apple', 'banana', 'cherry'}\n"
          ]
        }
      ]
    }
  ]
}