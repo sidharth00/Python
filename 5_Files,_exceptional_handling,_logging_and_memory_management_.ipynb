{
  "cells": [
    {
      "cell_type": "markdown",
      "metadata": {
        "id": "view-in-github",
        "colab_type": "text"
      },
      "source": [
        "<a href=\"https://colab.research.google.com/github/sidharth00/Python/blob/main/5_Files%2C_exceptional_handling%2C_logging_and_memory_management_.ipynb\" target=\"_parent\"><img src=\"https://colab.research.google.com/assets/colab-badge.svg\" alt=\"Open In Colab\"/></a>"
      ]
    },
    {
      "cell_type": "markdown",
      "metadata": {
        "id": "6PwfeC5AY3-_"
      },
      "source": [
        "### 1. What is the difference between interpreted and compiled languages?\n"
      ]
    },
    {
      "cell_type": "markdown",
      "metadata": {
        "id": "giBuyGV37G5S"
      },
      "source": [
        "\n",
        "Ans: **Interpreted Languages**: Interpreted languages execute code line by line using an interpreter, which means they run directly without prior conversion to machine code. This allows for easier debugging and platform independence but often results in slower execution.\n",
        "\n",
        "   **Compiled Languages**: Compiled languages, on the other hand, are transformed into machine code by a compiler before execution. This makes them faster and more efficient but less flexible for testing and modifying code quickly."
      ]
    },
    {
      "cell_type": "markdown",
      "metadata": {
        "id": "g3cLEsMLY3_C"
      },
      "source": [
        "### 2. What is exception handling in Python?"
      ]
    },
    {
      "cell_type": "markdown",
      "metadata": {
        "id": "jc_n3bYo9U5c"
      },
      "source": [
        "\n",
        "\n",
        "Ans: Exception handling in Python is a way to manage errors that occur during program execution. It allows the program to continue running or fail gracefully instead of crashing. Python uses try, except, else, and finally blocks to handle exceptions. Code that might cause an error is placed inside the try block. If an error occurs, the except block handles it. The else block runs if no exception occurs, and the finally block executes no matter what, usually for cleanup tasks. This helps in building robust and user-friendly programs. For example, handling file errors or division by zero can prevent program crashes."
      ]
    },
    {
      "cell_type": "markdown",
      "metadata": {
        "id": "ejED2q4cY3_D"
      },
      "source": [
        "### 3. What is the purpose of the finally block in exception handling?\n"
      ]
    },
    {
      "cell_type": "markdown",
      "metadata": {
        "id": "Rkch_Tla9lIp"
      },
      "source": [
        "\n",
        "Ans: The finally block in Python is used in exception handling to define code that must run no matter what—whether an exception occurs or not. It is placed after the try and except blocks. The main purpose of the finally block is to perform cleanup actions like closing files, releasing resources, or resetting variables. This ensures that essential cleanup code is always executed, even if an error is raised or the program is interrupted. For example, if a file is opened in the try block, it can be safely closed in the finally block to avoid resource leaks."
      ]
    },
    {
      "cell_type": "markdown",
      "metadata": {
        "id": "JA0rPhFsY3_E"
      },
      "source": [
        "### 4. What is logging in Python?"
      ]
    },
    {
      "cell_type": "markdown",
      "metadata": {
        "id": "A4bT7Ynq90kZ"
      },
      "source": [
        "\n",
        "\n",
        "Ans: Logging in Python is the process of tracking events that happen when a program runs. It helps developers record messages, errors, and other useful information for debugging and monitoring purposes. Python provides a built-in logging module to log messages at different severity levels like DEBUG, INFO, WARNING, ERROR, and CRITICAL. Unlike using print( ), logging is more flexible and can be directed to different outputs such as the console, files, or even remote servers. It also allows you to control the format and level of details in log messages, making it useful for both development and production environments."
      ]
    },
    {
      "cell_type": "markdown",
      "metadata": {
        "id": "aiZCpslgY3_F"
      },
      "source": [
        "### 5. What is the significance of the __del__ method in Python?"
      ]
    },
    {
      "cell_type": "markdown",
      "metadata": {
        "id": "wMXFhEeW-Erx"
      },
      "source": [
        "\n",
        "\n",
        "Ans: The __del__ method in Python is a special method known as a destructor. It is called automatically when an object is about to be destroyed, usually when there are no more references to it. The main purpose of __del__ is to perform cleanup tasks, such as closing files, releasing memory, or disconnecting from a network.\n",
        "\n",
        "However, using __del__ is not always recommended because the timing of its execution is not guaranteed—especially when garbage collection is involved. Instead, it’s often better to use context managers (with statement) for managing resources safely and predictably.\n",
        "\n",
        "Example:\n",
        "\n",
        "class MyClass:\n",
        "    \n",
        "    def __del__(self):\n",
        "        print(\"pw skills\")\n"
      ]
    },
    {
      "cell_type": "markdown",
      "metadata": {
        "id": "jKbCqgbmY3_G"
      },
      "source": [
        "### 6. What is the difference between import and from ... import in Python?"
      ]
    },
    {
      "cell_type": "markdown",
      "metadata": {
        "id": "ueKEUqTo-hxU"
      },
      "source": [
        "\n",
        "\n",
        "Ans: In Python, both import and from ... import are used to include modules, but they work differently:\n",
        "\n",
        "* import module imports the entire module. You access its functions or classes using the module name.\n",
        "\n",
        "Example:\n",
        "\n",
        "import math  \n",
        "print(math.sqrt(16))\n",
        "\n",
        "\n",
        "* from module import name imports specific items (functions, classes, variables) from a module. You can use them directly without the module name.\n",
        "\n",
        "Example:\n",
        "\n",
        "from math import sqrt  \n",
        "print(sqrt(16))\n",
        "\n",
        "\n",
        "**Key difference:**\n",
        "\n",
        "* import keeps the namespace clean but requires full references.\n",
        "\n",
        "* from ... import allows direct access but can cause name conflicts if not used carefully."
      ]
    },
    {
      "cell_type": "markdown",
      "metadata": {
        "id": "8PMmxJyaY3_G"
      },
      "source": [
        "### 7. How can you handle multiple exceptions in Python?"
      ]
    },
    {
      "cell_type": "markdown",
      "metadata": {
        "id": "QKIen4YF_guG"
      },
      "source": [
        "\n",
        "\n",
        "Ans: In Python, you can handle multiple exceptions using multiple except blocks or by grouping exceptions in a single block using parentheses.\n",
        "\n",
        "1. **Multiple except blocks**:\n",
        "Each block handles a specific exception type.\n",
        "\n",
        "Example:\n",
        "\n",
        "try:\n",
        "    # some code\n",
        "\n",
        "except ValueError:\n",
        "    \n",
        "    print(\"Handled ValueError\")\n",
        "except ZeroDivisionError:\n",
        "    \n",
        "    print(\"Handled ZeroDivisionError\")\n",
        "\n",
        "\n",
        "2. **Single block for multiple exceptions**:\n",
        "Use a tuple to catch multiple exceptions with the same handler.\n",
        "\n",
        "Example:\n",
        "\n",
        "try:\n",
        "    # some code\n",
        "except (ValueError, ZeroDivisionError) as e:\n",
        "    \n",
        "    print(f\"Handled error: {e}\")\n",
        "\n",
        "* This approach helps make your code cleaner and avoids duplication when handling similar exceptions.\n"
      ]
    },
    {
      "cell_type": "markdown",
      "metadata": {
        "id": "7jN0uNsvY3_H"
      },
      "source": [
        "### 8. What is the purpose of the with statement when handling files in Python?"
      ]
    },
    {
      "cell_type": "markdown",
      "metadata": {
        "id": "RcMtf0gXAeyM"
      },
      "source": [
        "\n",
        "\n",
        "Ans: The with statement in Python is used to handle files safely and efficiently. It simplifies file handling by automatically managing resources like opening and closing files. When you use with, the file is properly closed after its suite finishes, even if an error occurs during the process. This prevents resource leaks and makes the code cleaner and more readable.\n",
        "\n",
        "Example:\n",
        "\n",
        "with open('file.txt', 'r') as f:\n",
        "\n",
        "    content = f.read()\n",
        "\n",
        "* Here, open() opens the file, and with ensures it gets closed automatically. You don't need to call f.close() explicitly. This is especially useful when working with files, databases, or network connections where proper resource management is crucial.\n"
      ]
    },
    {
      "cell_type": "markdown",
      "metadata": {
        "id": "zIk6DYVtY3_H"
      },
      "source": [
        "### 9. What is the difference between multithreading and multiprocessing?"
      ]
    },
    {
      "cell_type": "markdown",
      "metadata": {
        "id": "kHptFJhUBBQG"
      },
      "source": [
        "\n",
        "\n",
        "Ans: **Multithreading** and **multiprocessing** are both techniques used to improve the performance of programs by executing multiple tasks concurrently, but they differ in how they handle tasks and system resources.\n",
        "\n",
        "1. **Multithreading**:\n",
        "   - Involves running multiple threads (smaller units of a process) within a single process.\n",
        "   - Threads share the same memory space, making it easier to share data but also prone to issues like race conditions.\n",
        "   - It’s useful for I/O-bound tasks (e.g., reading files, network requests) because it allows the program to perform other tasks while waiting for I/O operations to complete.\n",
        "   - Python’s Global Interpreter Lock (GIL) limits its effectiveness for CPU-bound tasks.\n",
        "\n",
        "2. **Multiprocessing**:\n",
        "   - Involves running multiple processes, each with its own memory space.\n",
        "   - It’s ideal for CPU-bound tasks, as each process can run on a different core, bypassing the GIL in Python.\n",
        "   - More memory intensive than multithreading, but it provides true parallelism for tasks like data processing or computation-heavy applications.\n",
        "\n",
        "* **multithreading** is suitable for I/O-bound tasks, while **multiprocessing** is better for CPU-bound tasks."
      ]
    },
    {
      "cell_type": "markdown",
      "metadata": {
        "id": "iTMiwpIyY3_H"
      },
      "source": [
        "### 10. What are the advantages of using logging in a program?"
      ]
    },
    {
      "cell_type": "markdown",
      "metadata": {
        "id": "YTesdgWGBci6"
      },
      "source": [
        "\n",
        "\n",
        "Ans: Using logging in a program offers several advantages:\n",
        "\n",
        "1. **Improved Debugging**: Logs provide detailed information about the program's behavior, making it easier to identify and fix issues, especially in production environments where traditional debugging tools might not be available.\n",
        "\n",
        "2. **Error Tracking**: Logging allows you to record errors, exceptions, and failures, helping you track issues over time and ensuring they're properly addressed.\n",
        "\n",
        "3. **Customizable Output**: You can configure logging to display messages at different levels (e.g., DEBUG, INFO, WARNING, ERROR, CRITICAL) and direct output to various destinations, such as the console, files, or external systems.\n",
        "\n",
        "4. **Performance Monitoring**: Logs help in tracking the performance of the application, including timings for specific operations, which can help in identifying bottlenecks.\n",
        "\n",
        "5. **Non-intrusive**: Unlike print statements, logging does not interfere with the program’s output and can be turned on or off as needed, providing flexibility.\n",
        "\n",
        "6. **Audit Trails**: Logs create a record of the system's activities, which can be useful for auditing purposes, especially in applications dealing with sensitive data or critical systems.\n",
        "\n",
        "7. **Better Maintenance**: By using logging, a program can be easily monitored in real-time, and the logs provide historical insight for future maintenance and improvements."
      ]
    },
    {
      "cell_type": "markdown",
      "metadata": {
        "id": "GkO2ZPWrY3_H"
      },
      "source": [
        "### 11. What is memory management in Python?"
      ]
    },
    {
      "cell_type": "markdown",
      "metadata": {
        "id": "OSC8KAPzBw2T"
      },
      "source": [
        "\n",
        "\n",
        "Ans: Memory management in Python refers to the process of efficiently handling memory allocation, deallocation, and garbage collection during program execution. Python manages memory automatically through its built-in mechanisms, but understanding how it works can help developers write more efficient code.\n",
        "\n",
        "Key aspects of Python memory management include:\n",
        "\n",
        "1. **Automatic Memory Allocation**:  \n",
        "   When objects are created, Python automatically allocates memory for them. The memory is dynamically managed based on the size and type of the objects.\n",
        "\n",
        "2. **Reference Counting**:  \n",
        "   Python uses reference counting to keep track of how many references point to an object. When an object’s reference count reaches zero (i.e., no references are pointing to it), the memory is considered unused and can be deallocated.\n",
        "\n",
        "3. **Garbage Collection**:  \n",
        "   Python employs a garbage collector to detect and clean up circular references (objects that reference each other) which cannot be cleaned up by reference counting alone. The garbage collector periodically frees memory used by objects that are no longer needed.\n",
        "\n",
        "4. **Memory Pools (Pymalloc)**:  \n",
        "   Python uses a memory management system called pymalloc, which helps allocate memory in blocks of small, fixed sizes. This reduces fragmentation and improves performance by reusing memory blocks.\n",
        "\n",
        "5. **Object Resizing**:  \n",
        "   Python objects like lists and dictionaries can grow or shrink dynamically. The memory for these objects is managed and resized automatically as they change.\n",
        "\n",
        "6. **Explicit Memory Management**:  \n",
        "   While Python’s memory management is automatic, developers can also control memory through techniques like 'del' to delete objects and free references manually, though this is generally handled by Python’s garbage collector.\n",
        "\n",
        "Overall, Python's memory management system simplifies development, but understanding its nuances can help avoid memory-related issues like leaks or inefficient memory use."
      ]
    },
    {
      "cell_type": "markdown",
      "metadata": {
        "id": "V6OI12DQY3_I"
      },
      "source": [
        "### 12. What are the basic steps involved in exception handling in Python?"
      ]
    },
    {
      "cell_type": "markdown",
      "metadata": {
        "id": "BuEGIpIJB_U6"
      },
      "source": [
        "\n",
        "\n",
        "Ans: The basic steps involved in exception handling in Python are:\n",
        "\n",
        "- Try Block:\n",
        "You write the code that might raise an exception inside the try block. This is the code that Python will attempt to execute.\n",
        "\n",
        "- Except Block:\n",
        "If an exception occurs within the try block, the program will jump to the except block. Here, you handle the exception by specifying the type of error to catch (e.g., ValueError, ZeroDivisionError).\n",
        "\n",
        "- Else Block (Optional):\n",
        "If no exception occurs, the code in the else block will execute. This is useful for code that should only run when the try block completes successfully.\n",
        "\n",
        "- Finally Block (Optional):\n",
        "The finally block runs no matter what, whether an exception occurs or not. It's used for cleanup actions, like closing files or releasing resources.\n",
        "\n",
        "Example:\n",
        "\n",
        "try:\n",
        "    # Code that may raise an exception\n",
        "except SomeException:\n",
        "    # Handle the exception\n",
        "else:\n",
        "    # Code to run if no exception\n",
        "finally:\n",
        "    # Cleanup code\n"
      ]
    },
    {
      "cell_type": "markdown",
      "metadata": {
        "id": "GWbSmX_uY3_I"
      },
      "source": [
        "### 13. Why is memory management important in Python?"
      ]
    },
    {
      "cell_type": "markdown",
      "metadata": {
        "id": "fHDzvUQ1C1KR"
      },
      "source": [
        "\n",
        "\n",
        "Ans: Memory management is crucial in Python for several reasons:\n",
        "\n",
        "1. **Efficiency**: Proper memory management ensures that resources like memory are used efficiently. Without effective management, a program may consume excessive memory, leading to slower performance or even crashes, especially in long-running applications.\n",
        "\n",
        "2. **Garbage Collection**: Python automatically handles memory allocation and deallocation through garbage collection, reducing the risk of memory leaks. However, poor memory management can lead to objects lingering in memory longer than necessary, causing memory waste.\n",
        "\n",
        "3. **Avoiding Memory Leaks**: Without proper memory management, objects that are no longer needed may not be deallocated, leading to memory leaks. This is particularly important for applications that run for extended periods, such as web servers or data processing systems.\n",
        "\n",
        "4. **Scalability**: Efficient memory management allows Python programs to scale better by ensuring the program remains responsive and doesn’t run out of memory when handling large datasets or numerous tasks.\n",
        "\n",
        "5. **Optimizing Performance**: Properly managing memory can reduce the overhead associated with memory allocation, improving the overall performance of Python applications, especially in CPU-intensive tasks.\n",
        "\n",
        "6. **Resource Management**: For applications involving external resources (files, databases, etc.), memory management ensures that resources are cleaned up when no longer needed, preventing resource leaks.\n",
        "\n",
        "Note: memory management is essential for maintaining Python's performance, reliability, and scalability, especially in resource-intensive applications."
      ]
    },
    {
      "cell_type": "markdown",
      "metadata": {
        "id": "fxKe63b9Y3_I"
      },
      "source": [
        "### 14. What is the role of try and except in exception handling?"
      ]
    },
    {
      "cell_type": "markdown",
      "metadata": {
        "id": "3_dDHq31DezM"
      },
      "source": [
        "\n",
        "\n",
        "Ans: In Python's exception handling, the try and except blocks play a central role in managing errors:\n",
        "\n",
        "- **Try Block**:\n",
        "The try block contains the code that might raise an exception. Python attempts to execute the code inside this block. If an error occurs during execution, the flow of control moves to the except block. If no exception occurs, the code in the except block is skipped.\n",
        "\n",
        "- **Except Block**:\n",
        "The except block defines how to handle the error. You can specify particular exception types (e.g., ValueError, ZeroDivisionError) to catch specific errors. If an error occurs in the try block that matches the exception type, the code in the except block will run, allowing the program to handle the error gracefully without crashing.\n",
        "\n",
        "Example:\n",
        "\n",
        "try:\n",
        "    \n",
        "    x = 10 / 0  # This will raise a ZeroDivisionError\n",
        "except ZeroDivisionError:\n",
        "    \n",
        "    print(\"Cannot divide by zero.\")"
      ]
    },
    {
      "cell_type": "markdown",
      "metadata": {
        "id": "AHZ3SRJXY3_I"
      },
      "source": [
        "### 15. How does Python's garbage collection system work?"
      ]
    },
    {
      "cell_type": "markdown",
      "metadata": {
        "id": "lqpSdbi7EDb-"
      },
      "source": [
        "\n",
        "\n",
        "Ans: Python’s garbage collection system automatically manages memory by reclaiming memory occupied by objects that are no longer in use. The system primarily relies on two mechanisms:\n",
        "\n",
        "1. **Reference Counting**:  \n",
        "   Python keeps track of the number of references to each object. When the reference count drops to zero (i.e., no references point to the object), it is immediately deallocated.\n",
        "\n",
        "2. **Cycle Detector**:  \n",
        "   Python’s garbage collector also detects and cleans up circular references, where two or more objects reference each other but are no longer used. Reference counting alone cannot handle this, so Python uses a cycle detector to identify and break these cycles.\n",
        "\n",
        "The garbage collection process is automatic, but you can interact with it using the \"gc\" module for manual control or tuning, such as disabling collection or triggering it explicitly."
      ]
    },
    {
      "cell_type": "markdown",
      "metadata": {
        "id": "pYkepNEEY3_J"
      },
      "source": [
        "### 16. What is the purpose of the else block in exception handling?\n"
      ]
    },
    {
      "cell_type": "markdown",
      "metadata": {
        "id": "0eYUSfNeEa5h"
      },
      "source": [
        "\n",
        "Ans: The else block in Python's exception handling is used to define code that should run only if no exception occurs in the try block. If the code in the try block executes successfully without errors, the else block will be executed. It allows for cleaner, more organized code by separating the error-handling logic (in the except block) from the logic that should run when no errors occur. The else block is optional and is typically used for tasks that should only happen if the try block is successful, such as processing data or performing actions that depend on the success of the code in the try block.\n",
        "\n",
        "Example:\n",
        "\n",
        "try:\n",
        "    \n",
        "    result = 10 / 2\n",
        "except ZeroDivisionError:\n",
        "    \n",
        "    print(\"Division by zero error.\")\n",
        "else:\n",
        "    \n",
        "    print(\"Division successful, result is:\", result)"
      ]
    },
    {
      "cell_type": "markdown",
      "metadata": {
        "id": "O8wf5IX9Y3_J"
      },
      "source": [
        "### 17. What are the common logging levels in Python?"
      ]
    },
    {
      "cell_type": "markdown",
      "metadata": {
        "id": "372BzW63Ezrk"
      },
      "source": [
        "\n",
        "\n",
        "Ans: In Python, the logging module provides several logging levels to categorize the severity of messages. The common logging levels are:\n",
        "\n",
        "- DEBUG:\n",
        "Provides detailed information, typically used for diagnosing problems. It’s the lowest level and used during development.\n",
        "\n",
        "- INFO:\n",
        "Used for general information about the program’s operation, such as confirmation that things are working as expected.\n",
        "\n",
        "- WARNING:\n",
        "Indicates a potential problem or something unusual that doesn’t stop the program but may need attention in the future.\n",
        "\n",
        "- ERROR:\n",
        "Used when an error occurs that prevents a part of the program from functioning correctly, but the program can still continue running.\n",
        "\n",
        "- CRITICAL:\n",
        "The highest level, indicating a severe problem that may cause the program to terminate or malfunction.\n",
        "\n",
        "These levels allow for filtering log messages based on their severity."
      ]
    },
    {
      "cell_type": "markdown",
      "metadata": {
        "id": "6Bqhp6UsY3_J"
      },
      "source": [
        "### 18. What is the difference between os.fork() and multiprocessing in Python?"
      ]
    },
    {
      "cell_type": "markdown",
      "metadata": {
        "id": "LCLBgtrqFPz6"
      },
      "source": [
        "\n",
        "\n",
        "Ans: The difference between os.fork() and the multiprocessing module in Python lies in how they handle process creation and management:\n",
        "\n",
        "**os.fork()**:\n",
        "\n",
        "- A low-level method to create a new process by duplicating the calling process. It works only on Unix-based systems (Linux, macOS).\n",
        "\n",
        "- After a fork(), both the parent and child processes continue executing, and they share memory space. This can lead to complexities with managing shared resources.\n",
        "\n",
        "- It does not abstract process management or handle cross-platform compatibility.\n",
        "\n",
        "**multiprocessing**:\n",
        "\n",
        "- A higher-level API that works across platforms (Linux, Windows, macOS) and creates separate processes, each with its own memory space.\n",
        "\n",
        "- It simplifies parallel programming by providing built-in features like process synchronization, inter-process communication (IPC), and process pooling.\n",
        "\n",
        "- More suitable for CPU-bound tasks, as it bypasses Python's Global Interpreter Lock (GIL).\n",
        "\n",
        "In Short, os.fork() is more low-level and Unix-specific, while multiprocessing is more versatile, higher-level, and cross-platform."
      ]
    },
    {
      "cell_type": "markdown",
      "metadata": {
        "id": "K5JDcZ0lY3_J"
      },
      "source": [
        "### 19. What is the importance of closing a file in Python?"
      ]
    },
    {
      "cell_type": "markdown",
      "metadata": {
        "id": "Cyzb8Hn4GDZW"
      },
      "source": [
        "\n",
        "\n",
        "Ans: Closing a file in Python is important for several reasons:\n",
        "\n",
        "1. **Resource Management**: When you open a file, it uses system resources like memory and file handles. If a file is not closed, these resources may not be released, leading to resource leaks and potential performance issues.\n",
        "\n",
        "2. **Data Integrity**: Closing a file ensures that all data written to the file is properly saved and flushed to disk. If a file isn't closed, some data may remain in the buffer and not be written to the file.\n",
        "\n",
        "3. **Prevents File Corruption**: Leaving files open can lead to file corruption or issues when trying to reopen them, especially if the program crashes unexpectedly.\n",
        "\n",
        "4. **Good Practice**: Closing files is considered good programming practice, ensuring that resources are managed properly and the system remains stable.\n",
        "\n",
        "\n",
        "Using the 'with' statement automatically handles closing the file, ensuring it is properly closed even if an error occurs during file operations."
      ]
    },
    {
      "cell_type": "markdown",
      "metadata": {
        "id": "GJXAefzjY3_K"
      },
      "source": [
        "#### 20. What is the difference between file.read() and file.readline() in Python?"
      ]
    },
    {
      "cell_type": "markdown",
      "metadata": {
        "id": "zw8GuG3fGwDk"
      },
      "source": [
        "\n",
        "\n",
        "Ans: In Python, 'file.read()' and 'file.readline()' are used to read data from a file, but they work differently:\n",
        "\n",
        "1. **'file.read()'**:  \n",
        "   - Reads the entire content of the file as a single string.  \n",
        "   - You can also pass an optional argument to read a specific number of characters.  \n",
        "   - Useful when you want to process the whole file at once.  \n",
        "   \n",
        "   Example:  \n",
        "    \n",
        "    \n",
        "   content = file.read()  \n",
        "\n",
        "2. **'file.readline()'**:  \n",
        "   - Reads only one line from the file at a time, ending at a newline character ('\\n').  \n",
        "   - Useful for reading large files line by line to save memory.  \n",
        "   \n",
        "   Example:  \n",
        "    \n",
        "    \n",
        "   line = file.readline()  \n",
        "   \n",
        "\n",
        "**Key Difference**: 'read()' reads the whole file, while 'readline()' reads one line at a time. Use 'readline()' for large files or when you need to process files line by line."
      ]
    },
    {
      "cell_type": "markdown",
      "metadata": {
        "id": "xVdkZ-hUY3_V"
      },
      "source": [
        "### 21. What is the logging module in Python used for?"
      ]
    },
    {
      "cell_type": "markdown",
      "metadata": {
        "id": "nC-Xm7UiHmRz"
      },
      "source": [
        "\n",
        "\n",
        "Ans: The logging module in Python is used to record messages that describe the events or errors during program execution. It helps developers track the flow of a program, detect bugs, and monitor behavior without using print() statements. The module supports multiple logging levels like DEBUG, INFO, WARNING, ERROR, and CRITICAL, allowing messages to be categorized by severity.\n",
        "\n",
        "Logs can be sent to different outputs such as the console, files, or remote servers. The logging module also allows custom formatting of messages and flexible configuration for large applications.\n",
        "\n",
        "Example:\n",
        "\n",
        "import logging\n",
        "\n",
        "logging.basicConfig(level=logging.INFO)\n",
        "\n",
        "logging.info(\"This is an info message.\")"
      ]
    },
    {
      "cell_type": "markdown",
      "metadata": {
        "id": "Ubfnund8Y3_V"
      },
      "source": [
        "### 22. What is the os module in Python used for in file handling?"
      ]
    },
    {
      "cell_type": "markdown",
      "metadata": {
        "id": "g3YsRIW5IDeO"
      },
      "source": [
        "\n",
        "\n",
        "Ans: The os module in Python is used for interacting with the operating system and plays a key role in file handling tasks. It provides functions to work with files and directories, such as creating, deleting, and renaming them. It also helps in navigating the file system, checking file existence, and getting file properties.\n",
        "\n",
        "Common uses include:\n",
        "\n",
        "- os.rename() – Rename a file or directory\n",
        "\n",
        "- os.remove() – Delete a file\n",
        "\n",
        "- os.mkdir() / os.makedirs() – Create directories\n",
        "\n",
        "- os.rmdir() / os.removedirs() – Remove directories\n",
        "\n",
        "- os.path.exists() – Check if a file or folder exists\n",
        "\n",
        "- os.getcwd() – Get the current working directory\n",
        "\n",
        "- os.chdir() – Change the current directory\n",
        "\n",
        "The os module makes file handling more powerful by allowing system-level operations in a cross-platform way."
      ]
    },
    {
      "cell_type": "markdown",
      "metadata": {
        "id": "FMvzD-SeY3_V"
      },
      "source": [
        "### 23. What are the challenges associated with memory management in Python?"
      ]
    },
    {
      "cell_type": "markdown",
      "metadata": {
        "id": "5KiqCjnbIflS"
      },
      "source": [
        "\n",
        "\n",
        "Ans: Memory management in Python is mostly automatic, but it comes with some challenges:\n",
        "\n",
        "1. **Garbage Collection Overhead**:  \n",
        "   Python uses garbage collection to clean up unused objects, which can add overhead and affect performance, especially in memory-intensive applications.\n",
        "\n",
        "2. **Circular References**:  \n",
        "   Objects that reference each other may not be collected immediately by reference counting. Though Python handles this with a cycle detector, it can delay memory release.\n",
        "\n",
        "3. **Memory Leaks**:  \n",
        "   Poor coding practices, like keeping unnecessary references or using global variables, can prevent objects from being garbage collected, causing memory leaks.\n",
        "\n",
        "4. **High Memory Usage**:  \n",
        "   Python objects consume more memory than equivalent structures in lower-level languages like C.\n",
        "\n",
        "5. **Global Interpreter Lock (GIL)**:  \n",
        "   GIL can limit multi-threaded performance, affecting how memory is managed in concurrent applications."
      ]
    },
    {
      "cell_type": "markdown",
      "metadata": {
        "id": "2pmfaAwGY3_W"
      },
      "source": [
        "### 24. How do you raise an exception manually in Python?"
      ]
    },
    {
      "cell_type": "markdown",
      "metadata": {
        "id": "JZKK3TQ5Ix6f"
      },
      "source": [
        "\n",
        "\n",
        "Ans: In Python, you can manually raise an exception using the 'raise' keyword followed by the exception type. This is useful when you want to indicate that an error has occurred based on a specific condition in your code.\n",
        "\n",
        "**Syntax**:  \n",
        "\n",
        "\n",
        "raise ExceptionType(\"Error message\")\n",
        "\n",
        "\n",
        "**Example**:  \n",
        "\n",
        "age = -5\n",
        "\n",
        "if age < 0:\n",
        "    \n",
        "    raise ValueError(\"Age cannot be negative\")\n",
        "\n",
        "In this example, if the condition is met, Python raises a 'ValueError' with a custom message. You can raise built-in exceptions like 'TypeError', 'ValueError', or define and raise custom exceptions by creating a class that inherits from 'Exception'. This allows for better error handling and cleaner debugging in complex programs."
      ]
    },
    {
      "cell_type": "markdown",
      "metadata": {
        "id": "OSoyD8zqY3_W"
      },
      "source": [
        "### 25. Why is it important to use multithreading in certain applications?"
      ]
    },
    {
      "cell_type": "markdown",
      "metadata": {
        "id": "QLHxMFuMJhUs"
      },
      "source": [
        "\n",
        "\n",
        "Ans: Multithreading is important in certain applications because it allows multiple threads to run concurrently within a single process, improving performance and responsiveness. It's especially useful in **I/O-bound** applications, such as reading files, handling user input, or making network requests, where threads can perform other tasks while waiting for I/O operations to complete.\n",
        "\n",
        "Multithreading helps in:\n",
        "- **Faster execution** by overlapping tasks.\n",
        "- **Better resource utilization** without blocking the main program.\n",
        "- **Improved user experience** in GUI applications by keeping the interface responsive.\n",
        "- **Handling multiple client requests** in servers.\n",
        "\n",
        "However, due to Python’s Global Interpreter Lock (GIL), it's less effective for **CPU-bound** tasks, where 'multiprocessing' is preferred."
      ]
    },
    {
      "cell_type": "markdown",
      "metadata": {
        "id": "-rlG3KOtJ2ZM"
      },
      "source": [
        "# **Practical Questions**"
      ]
    },
    {
      "cell_type": "markdown",
      "metadata": {
        "id": "FWSNiakhY3_W"
      },
      "source": [
        "### 1. How can you open a file for writing in Python and write a string to it?"
      ]
    },
    {
      "cell_type": "code",
      "execution_count": null,
      "metadata": {
        "id": "JSPE522uKFvh"
      },
      "outputs": [],
      "source": [
        "# Step 1: Open the file in write mode ('w' stands for write)\n",
        "f = open(\"example.txt\", \"w\")\n",
        "\n",
        "# Step 2: Write a message into the file\n",
        "f.write(\"This is a sample text written to the file.\")\n",
        "\n",
        "# Step 3: Always close the file after writing\n",
        "f.close()\n",
        "\n"
      ]
    },
    {
      "cell_type": "markdown",
      "metadata": {
        "id": "BOVec6jBY3_X"
      },
      "source": [
        "### 2.Write a Python program to read the contents of a file and print each line."
      ]
    },
    {
      "cell_type": "code",
      "execution_count": null,
      "metadata": {
        "colab": {
          "base_uri": "https://localhost:8080/"
        },
        "id": "4tVU6sypLCVH",
        "outputId": "d4ee8d75-7b9d-42e4-c34d-b428316229dd"
      },
      "outputs": [
        {
          "name": "stdout",
          "output_type": "stream",
          "text": [
            "This is a sample text written to the file."
          ]
        }
      ],
      "source": [
        "# Open the file using 'with' statement to read its content\n",
        "with open(\"example.txt\", \"r\") as f:\n",
        "    # Read and print each line one by one\n",
        "    for each_line in f:\n",
        "        print(each_line, end=\"\")  # end=\"\" avoids adding extra newline\n"
      ]
    },
    {
      "cell_type": "markdown",
      "metadata": {
        "id": "veBcLUDeY3_Y"
      },
      "source": [
        "### 3. How would you handle a case where the file doesn't exist while trying to open it for reading?"
      ]
    },
    {
      "cell_type": "code",
      "execution_count": null,
      "metadata": {
        "colab": {
          "base_uri": "https://localhost:8080/"
        },
        "id": "XvWh6PiyLZfS",
        "outputId": "8e79f376-d73f-4db9-85e2-df72b5418eae"
      },
      "outputs": [
        {
          "name": "stdout",
          "output_type": "stream",
          "text": [
            "This is a sample text written to the file."
          ]
        }
      ],
      "source": [
        "# Trying to open the file and handle the case where it might not be found\n",
        "try:\n",
        "    with open(\"example.txt\", \"r\") as f:\n",
        "        for content in f:\n",
        "            print(content, end=\"\")\n",
        "except FileNotFoundError:\n",
        "    print(\"Oops! The file you're trying to read was not found.\")\n",
        "\n",
        "\n"
      ]
    },
    {
      "cell_type": "markdown",
      "metadata": {
        "id": "nYu37pW-Y3_Z"
      },
      "source": [
        "### 4. Write a Python script that reads from one file and writes its content to another file."
      ]
    },
    {
      "cell_type": "code",
      "execution_count": 1,
      "metadata": {
        "colab": {
          "base_uri": "https://localhost:8080/"
        },
        "id": "gtsX614oL-IB",
        "outputId": "9c013101-eab7-4590-9251-47d2c6494f31"
      },
      "outputs": [
        {
          "output_type": "stream",
          "name": "stdout",
          "text": [
            "Source file not found. Please make sure it exists.\n"
          ]
        }
      ],
      "source": [
        "\n",
        "# Copying content from one file to another with error handling\n",
        "try:\n",
        "    # Open the original file to read and new file to write\n",
        "    with open(\"source.txt\", \"r\") as src:\n",
        "        with open(\"destination.txt\", \"w\") as dest:\n",
        "            # Copy line by line\n",
        "            for data in src:\n",
        "                dest.write(data)\n",
        "\n",
        "    print(\"Data has been copied from source.txt to destination.txt successfully.\")\n",
        "\n",
        "except FileNotFoundError:\n",
        "    print(\"Source file not found. Please make sure it exists.\")\n",
        "except PermissionError:\n",
        "    print(\"Permission denied. Cannot access the file.\")\n",
        "except Exception as error:\n",
        "    print(f\"Something went wrong: {error}\")\n"
      ]
    },
    {
      "cell_type": "markdown",
      "metadata": {
        "id": "OE0YPmV6Y3_Z"
      },
      "source": [
        "### 5. How would you catch and handle division by zero error in Python?"
      ]
    },
    {
      "cell_type": "code",
      "execution_count": null,
      "metadata": {
        "colab": {
          "base_uri": "https://localhost:8080/"
        },
        "id": "4zekno7vM-x7",
        "outputId": "34f73343-eead-453f-b6f5-72af386e2813"
      },
      "outputs": [
        {
          "name": "stdout",
          "output_type": "stream",
          "text": [
            "Error: Cannot divide by zero.\n"
          ]
        }
      ],
      "source": [
        "\n",
        "\n",
        "try:\n",
        "    # Attempt division\n",
        "    result = 10 / 0  # This will raise a ZeroDivisionError\n",
        "except ZeroDivisionError:\n",
        "    print(\"Error: Cannot divide by zero.\")\n",
        "else:\n",
        "    print(\"The result is:\", result)\n"
      ]
    },
    {
      "cell_type": "markdown",
      "metadata": {
        "id": "Yj1CW89QY3_Z"
      },
      "source": [
        "### 6. Write a Python program that logs an error message to a log file when a division by zero exception occurs."
      ]
    },
    {
      "cell_type": "code",
      "execution_count": null,
      "metadata": {
        "id": "8Ln00RmRNMzC"
      },
      "outputs": [],
      "source": [
        "\n",
        "\n",
        "import logging\n",
        "\n",
        "# Set up logging configuration\n",
        "logging.basicConfig(filename='error_log.txt', level=logging.ERROR, format='%(asctime)s - %(levelname)s - %(message)s')\n",
        "\n",
        "try:\n",
        "    # Attempt division by zero\n",
        "    result = 10 / 0\n",
        "except ZeroDivisionError as e:\n",
        "    # Log the error message to the log file\n",
        "    logging.error(f\"Error: {e} - Division by zero occurred.\")\n"
      ]
    },
    {
      "cell_type": "markdown",
      "metadata": {
        "id": "vMAdpb46Y3_a"
      },
      "source": [
        "### 7. How do you log information at different levels (INFO, ERROR, WARNING) in Python using the logging module?"
      ]
    },
    {
      "cell_type": "code",
      "execution_count": null,
      "metadata": {
        "id": "hyXzdZZ0N0Bt"
      },
      "outputs": [],
      "source": [
        "\n",
        "\n",
        "import logging\n",
        "\n",
        "# Set up logging configuration\n",
        "logging.basicConfig(\n",
        "    level=logging.DEBUG,  # Set the logging level to DEBUG to capture all messages\n",
        "    format='%(asctime)s - %(levelname)s - %(message)s',\n",
        "    filename='app_log.txt',  # Log messages will be written to this file\n",
        ")\n",
        "\n",
        "# Log messages at different levels\n",
        "logging.debug(\"This is a debug message.\")\n",
        "logging.info(\"This is an info message.\")\n",
        "logging.warning(\"This is a warning message.\")\n",
        "logging.error(\"This is an error message.\")\n",
        "logging.critical(\"This is a critical message.\")\n"
      ]
    },
    {
      "cell_type": "markdown",
      "metadata": {
        "id": "ULaxzowIY3_a"
      },
      "source": [
        "### 8. Write a program to handle a file opening error using exception handling."
      ]
    },
    {
      "cell_type": "code",
      "execution_count": null,
      "metadata": {
        "colab": {
          "base_uri": "https://localhost:8080/"
        },
        "id": "nmKaSc3jOIG3",
        "outputId": "c89f4d05-eba9-4c5b-dd8e-dd5179959410"
      },
      "outputs": [
        {
          "name": "stdout",
          "output_type": "stream",
          "text": [
            "Error: The file does not exist.\n"
          ]
        }
      ],
      "source": [
        "\n",
        "\n",
        "try:\n",
        "    # Attempt to open a file that may not exist\n",
        "    with open(\"non_existent_file.txt\", \"r\") as file:\n",
        "        content = file.read()\n",
        "        print(content)\n",
        "except FileNotFoundError:\n",
        "    print(\"Error: The file does not exist.\")\n",
        "except PermissionError:\n",
        "    print(\"Error: You do not have permission to open the file.\")\n",
        "except Exception as e:\n",
        "    print(f\"An unexpected error occurred: {e}\")\n"
      ]
    },
    {
      "cell_type": "markdown",
      "metadata": {
        "id": "-I5c7wAkY3_a"
      },
      "source": [
        "### 9. How can you read a file line by line and store its content in a list in Python?"
      ]
    },
    {
      "cell_type": "code",
      "execution_count": null,
      "metadata": {
        "colab": {
          "base_uri": "https://localhost:8080/"
        },
        "id": "qCc6lVk7OZCH",
        "outputId": "fae72505-623c-41de-dece-f79520af83eb"
      },
      "outputs": [
        {
          "name": "stdout",
          "output_type": "stream",
          "text": [
            "['Hello, this is a test string.']\n"
          ]
        }
      ],
      "source": [
        "\n",
        "\n",
        "# Open the file in read mode\n",
        "with open(\"example.txt\", \"r\") as file:\n",
        "    # Read each line and store it in a list\n",
        "    lines = [line.strip() for line in file]\n",
        "\n",
        "# Print the list containing file lines\n",
        "print(lines)\n",
        "\n"
      ]
    },
    {
      "cell_type": "markdown",
      "metadata": {
        "id": "SjGO3LY7Y3_b"
      },
      "source": [
        "### 10. How can you append data to an existing file in Python?"
      ]
    },
    {
      "cell_type": "code",
      "execution_count": null,
      "metadata": {
        "colab": {
          "base_uri": "https://localhost:8080/"
        },
        "id": "iuyxe7GxOxoa",
        "outputId": "522ba1f9-2e48-4681-d119-b720205e7589"
      },
      "outputs": [
        {
          "name": "stdout",
          "output_type": "stream",
          "text": [
            "Data has been successfully appended to the file.\n"
          ]
        }
      ],
      "source": [
        "\n",
        "\n",
        "try:\n",
        "    # Open the file in append mode\n",
        "    with open(\"example.txt\", \"a\") as file:\n",
        "        # Append data to the file\n",
        "        file.write(\"This is the new data being appended.\\n\")\n",
        "    print(\"Data has been successfully appended to the file.\")\n",
        "except IOError:\n",
        "    print(\"Error: Could not open or write to the file.\")\n",
        "\n",
        "\n"
      ]
    },
    {
      "cell_type": "markdown",
      "metadata": {
        "id": "IP2q512WY3_e"
      },
      "source": [
        "### 11. Write a Python program that uses a try-except block to handle an error when attempting to access a dictionary key that doesn't exist.\n",
        "\n"
      ]
    },
    {
      "cell_type": "code",
      "execution_count": null,
      "metadata": {
        "id": "nxPa-hUpY3_f",
        "outputId": "db4a2727-e23a-4abe-98e6-9900b1175ae0"
      },
      "outputs": [
        {
          "name": "stdout",
          "output_type": "stream",
          "text": [
            "Error: The key does not exist in the dictionary.\n"
          ]
        }
      ],
      "source": [
        "# Sample dictionary\n",
        "my_dict = {\"name\": \"John\", \"age\": 30}\n",
        "\n",
        "try:\n",
        "    # Attempt to access a key that may not exist\n",
        "    value = my_dict[\"address\"]\n",
        "    print(f\"The value is: {value}\")\n",
        "except KeyError:\n",
        "    print(\"Error: The key does not exist in the dictionary.\")\n"
      ]
    },
    {
      "cell_type": "markdown",
      "metadata": {
        "id": "QXbTKr0mY3_f"
      },
      "source": [
        "### 12. Write a program that demonstrates using multiple except blocks to handle different types of exceptions."
      ]
    },
    {
      "cell_type": "code",
      "execution_count": null,
      "metadata": {
        "colab": {
          "base_uri": "https://localhost:8080/"
        },
        "id": "97W14GKOQDDs",
        "outputId": "3f6800e1-37f0-4b59-c0bf-346fa3583107"
      },
      "outputs": [
        {
          "name": "stdout",
          "output_type": "stream",
          "text": [
            "Enter a number: 1000\n",
            "Enter another number: -3000\n",
            "The result of division is: -0.3333333333333333\n"
          ]
        }
      ],
      "source": [
        "\n",
        "\n",
        "try:\n",
        "    # Prompt the user for input\n",
        "    num1 = int(input(\"Enter a number: \"))\n",
        "    num2 = int(input(\"Enter another number: \"))\n",
        "\n",
        "    # Perform division\n",
        "    result = num1 / num2\n",
        "    print(f\"The result of division is: {result}\")\n",
        "\n",
        "except ValueError:\n",
        "    print(\"Error: Invalid input. Please enter valid integers.\")\n",
        "\n",
        "except ZeroDivisionError:\n",
        "    print(\"Error: Cannot divide by zero.\")\n",
        "\n",
        "except Exception as e:\n",
        "    print(f\"An unexpected error occurred: {e}\")\n"
      ]
    },
    {
      "cell_type": "markdown",
      "metadata": {
        "id": "0fKe2thhY3_g"
      },
      "source": [
        "### 13. How would you check if a file exists before attempting to read it in Python?"
      ]
    },
    {
      "cell_type": "code",
      "execution_count": null,
      "metadata": {
        "colab": {
          "base_uri": "https://localhost:8080/"
        },
        "id": "ZvFmL7dWQiB5",
        "outputId": "5b628c1c-0cd5-44db-aac8-e3cfaa7c680d"
      },
      "outputs": [
        {
          "name": "stdout",
          "output_type": "stream",
          "text": [
            "Hello, this is a test string.This is the new data being appended.\n",
            "This is the new data being appended.\n",
            "This is the new data being appended.\n",
            "\n"
          ]
        }
      ],
      "source": [
        "\n",
        "\n",
        "import os\n",
        "\n",
        "file_path = \"example.txt\"\n",
        "\n",
        "# Check if the file exists\n",
        "if os.path.exists(file_path):\n",
        "    with open(file_path, \"r\") as file:\n",
        "        content = file.read()\n",
        "        print(content)\n",
        "else:\n",
        "    print(f\"The file {file_path} does not exist.\")\n",
        "\n"
      ]
    },
    {
      "cell_type": "markdown",
      "metadata": {
        "id": "X4PggWEHY3_i"
      },
      "source": [
        "### 14. Write a program that uses the logging module to log both informational and error messages."
      ]
    },
    {
      "cell_type": "code",
      "execution_count": null,
      "metadata": {
        "colab": {
          "base_uri": "https://localhost:8080/"
        },
        "id": "GYsQexQkRB7Z",
        "outputId": "aadf0bbc-879d-40e2-d36f-ce846d8fa7e6"
      },
      "outputs": [
        {
          "name": "stderr",
          "output_type": "stream",
          "text": [
            "ERROR:root:Error occurred: division by zero\n"
          ]
        }
      ],
      "source": [
        "\n",
        "\n",
        "import logging\n",
        "\n",
        "# Set up logging configuration\n",
        "logging.basicConfig(\n",
        "    level=logging.DEBUG,  # Capture all levels of logs\n",
        "    format='%(asctime)s - %(levelname)s - %(message)s',\n",
        "    filename='app_log.txt',  # Log to a file\n",
        ")\n",
        "\n",
        "# Log an informational message\n",
        "logging.info(\"This is an informational message.\")\n",
        "\n",
        "try:\n",
        "    # Attempt to divide by zero (error)\n",
        "    result = 10 / 0\n",
        "except ZeroDivisionError as e:\n",
        "    # Log the error message\n",
        "    logging.error(f\"Error occurred: {e}\")\n"
      ]
    },
    {
      "cell_type": "markdown",
      "metadata": {
        "id": "ig0icnShY3_j"
      },
      "source": [
        "### 15. Write a Python program that prints the content of a file and handles the case when the file is empty."
      ]
    },
    {
      "cell_type": "code",
      "execution_count": null,
      "metadata": {
        "colab": {
          "base_uri": "https://localhost:8080/"
        },
        "id": "By2rnc-PRROT",
        "outputId": "86c599bd-c4a7-49d2-fef5-abf0fa441312"
      },
      "outputs": [
        {
          "name": "stdout",
          "output_type": "stream",
          "text": [
            "Hello, this is a test string.This is the new data being appended.\n",
            "This is the new data being appended.\n",
            "This is the new data being appended.\n",
            "\n"
          ]
        }
      ],
      "source": [
        "\n",
        "\n",
        "try:\n",
        "    # Open the file in read mode\n",
        "    with open(\"example.txt\", \"r\") as file:\n",
        "        content = file.read()\n",
        "\n",
        "        if content:\n",
        "            print(content)\n",
        "        else:\n",
        "            print(\"The file is empty.\")\n",
        "except FileNotFoundError:\n",
        "    print(\"Error: The file does not exist.\")\n",
        "except IOError:\n",
        "    print(\"Error: An issue occurred while reading the file.\")\n"
      ]
    },
    {
      "cell_type": "markdown",
      "metadata": {
        "id": "RpS81-kIY3_l"
      },
      "source": [
        "### 16. Demonstrate how to use memory profiling to check the memory usage of a small program."
      ]
    },
    {
      "cell_type": "code",
      "execution_count": null,
      "metadata": {
        "colab": {
          "base_uri": "https://localhost:8080/"
        },
        "id": "TwWw2rCCRi9z",
        "outputId": "2d17fd11-6987-4504-93ce-76752b8177de"
      },
      "outputs": [
        {
          "name": "stdout",
          "output_type": "stream",
          "text": [
            "Requirement already satisfied: memory-profiler in /usr/local/lib/python3.11/dist-packages (0.61.0)\n",
            "Requirement already satisfied: psutil in /usr/local/lib/python3.11/dist-packages (from memory-profiler) (5.9.5)\n",
            "Memory usage: 114.703125 MiB\n"
          ]
        }
      ],
      "source": [
        "\n",
        "\n",
        "\n",
        "\n",
        "# Install memory_profiler\n",
        "!pip install memory-profiler\n"
      ]
    },
    {
      "cell_type": "code",
      "execution_count": null,
      "metadata": {
        "colab": {
          "base_uri": "https://localhost:8080/"
        },
        "id": "C8_gXzukSW7r",
        "outputId": "0ad0220e-8fdf-4481-954b-49a6761eedd4"
      },
      "outputs": [
        {
          "name": "stdout",
          "output_type": "stream",
          "text": [
            "Memory usage: 114.76953125 MiB\n"
          ]
        }
      ],
      "source": [
        "# Importing the required memory profiling library\n",
        "from memory_profiler import memory_usage\n",
        "\n",
        "def my_function():\n",
        "    a = [i for i in range(10000)]  # Create a list of 10,000 integers\n",
        "    b = [i**2 for i in range(10000)]  # Create another list of 10,000 integers\n",
        "    return a, b\n",
        "\n",
        "# Use memory_usage to profile the function\n",
        "mem_usage = memory_usage(my_function)\n",
        "print(f\"Memory usage: {max(mem_usage)} MiB\")"
      ]
    },
    {
      "cell_type": "markdown",
      "metadata": {
        "id": "I1uAbTf8Y3_m"
      },
      "source": [
        "### 17. Write a Python program to create and write a list of numbers to a file, one number per line"
      ]
    },
    {
      "cell_type": "code",
      "execution_count": null,
      "metadata": {
        "colab": {
          "base_uri": "https://localhost:8080/"
        },
        "id": "edbMEdstSzRG",
        "outputId": "7214a6a3-0775-4007-dcc5-8a4201d710e0"
      },
      "outputs": [
        {
          "name": "stdout",
          "output_type": "stream",
          "text": [
            "written uder the file\n"
          ]
        }
      ],
      "source": [
        "\n",
        "\n",
        "# List of numbers\n",
        "numbers = [1, 2, 3, 4, 5, 6, 7, 8, 9, 10]\n",
        "\n",
        "# Open the file in write mode\n",
        "with open(\"numbers.txt\", \"w\") as file:\n",
        "    # Write each number to the file, one per line\n",
        "    for number in numbers:\n",
        "        file.write(f\"{number}\\n\")\n",
        "print(\"written uder the file\")\n"
      ]
    },
    {
      "cell_type": "markdown",
      "metadata": {
        "id": "Da_NPoBYY3_n"
      },
      "source": [
        "### 18. How would you implement a basic logging setup that logs to a file with rotation after 1MB?"
      ]
    },
    {
      "cell_type": "code",
      "execution_count": null,
      "metadata": {
        "colab": {
          "base_uri": "https://localhost:8080/"
        },
        "id": "BYbeTWJmTV_F",
        "outputId": "26bd12e2-140a-492a-913e-bedfeaaace42"
      },
      "outputs": [
        {
          "name": "stderr",
          "output_type": "stream",
          "text": [
            "INFO:MyLogger:This is an informational message.\n",
            "ERROR:MyLogger:This is an error message.\n"
          ]
        }
      ],
      "source": [
        "\n",
        "\n",
        "import logging\n",
        "from logging.handlers import RotatingFileHandler\n",
        "\n",
        "# Create a logger\n",
        "logger = logging.getLogger(\"MyLogger\")\n",
        "logger.setLevel(logging.DEBUG)\n",
        "\n",
        "# Create a rotating file handler that logs to 'app.log' and rotates after 1MB (1048576 bytes)\n",
        "handler = RotatingFileHandler(\"app.log\", maxBytes=1048576, backupCount=3)\n",
        "handler.setLevel(logging.DEBUG)\n",
        "\n",
        "# Create a formatter and set it for the handler\n",
        "formatter = logging.Formatter('%(asctime)s - %(levelname)s - %(message)s')\n",
        "handler.setFormatter(formatter)\n",
        "\n",
        "# Add the handler to the logger\n",
        "logger.addHandler(handler)\n",
        "\n",
        "# Example logging\n",
        "logger.info(\"This is an informational message.\")\n",
        "logger.error(\"This is an error message.\")\n",
        "\n"
      ]
    },
    {
      "cell_type": "markdown",
      "metadata": {
        "id": "UpUgmhd0Y3_o"
      },
      "source": [
        "### 19. Write a program that handles both IndexError and KeyError using a try-except block."
      ]
    },
    {
      "cell_type": "code",
      "execution_count": null,
      "metadata": {
        "colab": {
          "base_uri": "https://localhost:8080/"
        },
        "id": "Fd7B2rYYTtbw",
        "outputId": "5db411d3-1152-4425-c8a9-a8c2f22e9535"
      },
      "outputs": [
        {
          "name": "stdout",
          "output_type": "stream",
          "text": [
            "Error: Index is out of range in the list.\n"
          ]
        }
      ],
      "source": [
        "\n",
        "\n",
        "# Sample data\n",
        "my_list = [1, 2, 3]\n",
        "my_dict = {\"name\": \"John\", \"age\": 30}\n",
        "\n",
        "try:\n",
        "    # Attempt to access an invalid index in the list\n",
        "    print(my_list[5])  # This will raise an IndexError\n",
        "\n",
        "    # Attempt to access a key that doesn't exist in the dictionary\n",
        "    print(my_dict[\"address\"])  # This will raise a KeyError\n",
        "\n",
        "except IndexError:\n",
        "    print(\"Error: Index is out of range in the list.\")\n",
        "\n",
        "except KeyError:\n",
        "    print(\"Error: Key not found in the dictionary.\")\n"
      ]
    },
    {
      "cell_type": "markdown",
      "metadata": {
        "id": "UUlcLDhXY3_p"
      },
      "source": [
        "### 20. How would you open a file and read its contents using a context manager in Python?\n"
      ]
    },
    {
      "cell_type": "code",
      "execution_count": null,
      "metadata": {
        "colab": {
          "base_uri": "https://localhost:8080/"
        },
        "id": "uksbCI5YUCWq",
        "outputId": "aab682a3-3d2d-4c7d-be7d-95928fd4a1fe"
      },
      "outputs": [
        {
          "name": "stdout",
          "output_type": "stream",
          "text": [
            "Hello, this is a test string.This is the new data being appended.\n",
            "This is the new data being appended.\n",
            "This is the new data being appended.\n",
            "\n"
          ]
        }
      ],
      "source": [
        "\n",
        "# Open and read the file using a context manager\n",
        "with open(\"example.txt\", \"r\") as file:\n",
        "    content = file.read()\n",
        "    print(content)\n"
      ]
    },
    {
      "cell_type": "markdown",
      "metadata": {
        "id": "3D9i8W4IY3_p"
      },
      "source": [
        "### 21. Write a Python program that reads a file and prints the number of occurrences of a specific word."
      ]
    },
    {
      "cell_type": "code",
      "execution_count": null,
      "metadata": {
        "colab": {
          "base_uri": "https://localhost:8080/"
        },
        "id": "X07AvqsIUTgF",
        "outputId": "66c7539d-4ea8-4462-ced9-f84b57c1cd38"
      },
      "outputs": [
        {
          "name": "stdout",
          "output_type": "stream",
          "text": [
            "The word 'python' appears 0 times in the file.\n"
          ]
        }
      ],
      "source": [
        "\n",
        "\n",
        "def count_word_occurrences(file_path, word):\n",
        "    try:\n",
        "        with open(file_path, \"r\") as file:\n",
        "            # Read the file content\n",
        "            content = file.read()\n",
        "\n",
        "            # Count occurrences of the word (case-insensitive)\n",
        "            word_count = content.lower().split().count(word.lower())\n",
        "\n",
        "            print(f\"The word '{word}' appears {word_count} times in the file.\")\n",
        "    except FileNotFoundError:\n",
        "        print(f\"Error: The file '{file_path}' does not exist.\")\n",
        "    except IOError:\n",
        "        print(f\"Error: Could not read the file '{file_path}'.\")\n",
        "\n",
        "# Example usage\n",
        "file_path = \"example.txt\"\n",
        "word_to_count = \"python\"\n",
        "count_word_occurrences(file_path, word_to_count)\n"
      ]
    },
    {
      "cell_type": "markdown",
      "metadata": {
        "id": "pIq5MNx7Y3_p"
      },
      "source": [
        "### 22. How can you check if a file is empty before attempting to read its contents?"
      ]
    },
    {
      "cell_type": "code",
      "execution_count": null,
      "metadata": {
        "colab": {
          "base_uri": "https://localhost:8080/"
        },
        "id": "O1eIfEBlUhp5",
        "outputId": "7285308b-6b89-4bfd-cb7f-4e2191ba3df2"
      },
      "outputs": [
        {
          "name": "stdout",
          "output_type": "stream",
          "text": [
            "File content:\n",
            "Hello, this is a test string.This is the new data being appended.\n",
            "This is the new data being appended.\n",
            "This is the new data being appended.\n",
            "\n"
          ]
        }
      ],
      "source": [
        "\n",
        "\n",
        "import os\n",
        "\n",
        "file_path = \"example.txt\"\n",
        "\n",
        "# Check if file exists and is not empty\n",
        "if os.path.exists(file_path) and os.path.getsize(file_path) > 0:\n",
        "    with open(file_path, \"r\") as file:\n",
        "        content = file.read()\n",
        "        print(\"File content:\")\n",
        "        print(content)\n",
        "else:\n",
        "    print(\"The file is either empty or does not exist.\")\n"
      ]
    },
    {
      "cell_type": "markdown",
      "metadata": {
        "id": "s-wRBB2mY3_q"
      },
      "source": [
        "### 23. Write a Python program that writes to a log file when an error occurs during file handling."
      ]
    },
    {
      "cell_type": "code",
      "execution_count": null,
      "metadata": {
        "colab": {
          "base_uri": "https://localhost:8080/"
        },
        "id": "r-f4Ug93Uzte",
        "outputId": "0a797614-ba62-4abe-e0f3-9abc5d48021d"
      },
      "outputs": [
        {
          "name": "stderr",
          "output_type": "stream",
          "text": [
            "ERROR:root:File not found: nonexistent_file.txt - [Errno 2] No such file or directory: 'nonexistent_file.txt'\n"
          ]
        },
        {
          "name": "stdout",
          "output_type": "stream",
          "text": [
            "An error occurred. Check the log file for details.\n"
          ]
        }
      ],
      "source": [
        "\n",
        "\n",
        "import logging\n",
        "\n",
        "# Configure logging\n",
        "logging.basicConfig(filename='file_error.log', level=logging.ERROR,\n",
        "                    format='%(asctime)s - %(levelname)s - %(message)s')\n",
        "\n",
        "file_path = \"nonexistent_file.txt\"\n",
        "\n",
        "try:\n",
        "    with open(file_path, \"r\") as file:\n",
        "        content = file.read()\n",
        "        print(content)\n",
        "except FileNotFoundError as e:\n",
        "    logging.error(f\"File not found: {file_path} - {e}\")\n",
        "    print(\"An error occurred. Check the log file for details.\")\n",
        "except IOError as e:\n",
        "    logging.error(f\"I/O error while handling the file: {file_path} - {e}\")\n",
        "    print(\"An error occurred. Check the log file for details.\")\n"
      ]
    }
  ],
  "metadata": {
    "colab": {
      "provenance": [],
      "include_colab_link": true
    },
    "kernelspec": {
      "display_name": "Python 3 (ipykernel)",
      "language": "python",
      "name": "python3"
    },
    "language_info": {
      "codemirror_mode": {
        "name": "ipython",
        "version": 3
      },
      "file_extension": ".py",
      "mimetype": "text/x-python",
      "name": "python",
      "nbconvert_exporter": "python",
      "pygments_lexer": "ipython3",
      "version": "3.12.7"
    }
  },
  "nbformat": 4,
  "nbformat_minor": 0
}