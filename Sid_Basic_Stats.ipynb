{
  "nbformat": 4,
  "nbformat_minor": 0,
  "metadata": {
    "colab": {
      "provenance": [],
      "authorship_tag": "ABX9TyPXoYtkO9Ihr8gDLEaeN1aq",
      "include_colab_link": true
    },
    "kernelspec": {
      "name": "python3",
      "display_name": "Python 3"
    },
    "language_info": {
      "name": "python"
    }
  },
  "cells": [
    {
      "cell_type": "markdown",
      "metadata": {
        "id": "view-in-github",
        "colab_type": "text"
      },
      "source": [
        "<a href=\"https://colab.research.google.com/github/sidharth00/Python/blob/main/Sid_Basic_Stats.ipynb\" target=\"_parent\"><img src=\"https://colab.research.google.com/assets/colab-badge.svg\" alt=\"Open In Colab\"/></a>"
      ]
    },
    {
      "cell_type": "code",
      "execution_count": null,
      "metadata": {
        "id": "8qpnmyZoYisS"
      },
      "outputs": [],
      "source": [
        "1.\tWhat is statistics, and why is it important?\n",
        "\n",
        "●\tStatistics is a branch of mathematics that deals with collecting, organizing, analyzing, interpreting, and presenting data. It helps us make sense of data and draw conclusions or make decisions based on it.\n",
        "Why is Statistics Important-\n",
        "\n",
        "1.\tInformed Decision-Making:\n",
        "●\tBusinesses, governments, and individuals use statistics to make data-driven decisions (e.g., customer behavior, election predictions).\n",
        "2.\tProblem-Solving:\n",
        "●\tHelps in identifying patterns, trends, and relationships in data that can solve real-world problems.\n",
        "3.\tResearch & Development:\n",
        "●\tEssential in scientific research for analyzing experiments and validating results.\n",
        "4.\tQuality Control:\n",
        "●\tUsed in manufacturing to maintain product quality by monitoring variations.\n",
        "5.\tForecasting:\n",
        "●\tHelps predict future trends in finance, weather, healthcare, etc.\n",
        "6.\tData-Driven World:\n",
        "●\tIn today’s digital age, data is everywhere. Statistics is key to understanding and utilizing this data effectively.\n",
        "2.\tWhat are the two main types of statistics?\n",
        "\n",
        "●\tThe two main types of statistics are:\n",
        "1.\tDescriptive Statistics\n",
        "●\tDescriptive statistics are used to summarize and describe the main features of a dataset.\n",
        "2.\tInferential Statistics\n",
        "●\tInferential statistics are used to make predictions or inferences about a population based on a sample of data.\n",
        "3.\tWhat are descriptive statistics?\n",
        "\n",
        "●\tDescriptive Statistics is a branch of statistics that involves organizing, summarizing, and presenting data in an easy-to-understand way. It helps us quickly grasp the key features of a dataset without making predictions or generalizations.\n",
        "4.\tWhat is inferential statistics?\n",
        "\n",
        "●\tInferential Statistics is a branch of statistics that allows us to draw conclusions, make predictions, or test hypotheses about a larger population based on a sample of data.\n",
        "5.\tWhat is sampling in statistics?\n",
        "\n",
        "●\tSampling is the process of selecting a subset (sample) from a larger group (population) to analyze and draw conclusions about the whole group.\n"
      ]
    },
    {
      "cell_type": "markdown",
      "source": [
        "6.\tWhat are the different types of sampling methods?\n",
        "\n",
        "●\t✅ 1. Probability Sampling:-\n",
        "●\tEvery member of the population has a known and equal chance of being selected.\n",
        "\n",
        "a).\tSimple Random Sampling\n",
        "\n",
        "●\tEvery individual has an equal chance.\n",
        "●\tExample: Drawing names from a hat.\n",
        "\n",
        "b).\tSystematic Sampling\n",
        "\n",
        "●\tSelect every kth item from a list.\n",
        "●\tExample: Every 10th person on a class roll.\n",
        "\n",
        "c).\tStratified Sampling\n",
        "\n",
        "●\tDivide the population into groups (strata) and randomly sample from each.\n",
        "●\tExample: Sampling students from each year (1st year, 2nd year, etc.).\n",
        "\n",
        "d).\tCluster Sampling\n",
        "\n",
        "●\tDivide the population into clusters, randomly select some clusters, and include all members in them.\n",
        "●\tExample: Choosing 3 colleges randomly and surveying all students from each.\n",
        "❌ 2. Non-Probability Sampling:-\n",
        "\n",
        "●\tNot all members have a known or equal chance of being selected. Useful for quick or exploratory research.\n",
        "a).\tConvenience Sampling\n",
        "\n",
        "●\tChoose whoever is easiest to reach.\n",
        "●\tExample: Asking friends or classmates nearby.\n",
        "\n",
        "b).\tJudgmental/Purposive Sampling\n",
        "\n",
        "●\tResearcher selects based on their judgment.\n",
        "●\tExample: Selecting only top-performing students for a skill survey.\n",
        "\n",
        "c).\tSnowball Sampling\n",
        "\n",
        "●\tExisting participants recruit new ones.\n",
        "\n",
        "●\tExample: Used in studies involving rare populations like influencers or startup founders.\n",
        "\n",
        "d).\tQuota Sampling\n",
        "\n",
        "●\tSet quotas to ensure representation of specific characteristics.\n",
        "●\tExample: 50% male and 50% female respondents in a survey.\n",
        "7.\tWhat is the difference between random and non-random sampling?\n",
        "\n",
        "●\t1.Random Sampling (Probability Sampling):- Definition:\n",
        "●\tRandom sampling is a technique in which every member of the population has a known, non-zero, and equal chance of being selected.\n",
        "Key Features:\n",
        "\n",
        "●\tBased on the principle of probability.\n",
        "●\tReduces sampling bias.\n",
        "●\tEnsures that the sample is representative of the population.\n",
        "●\tResults are more reliable and generalizable.\n",
        "\n",
        "Examples:\n",
        "\n",
        "●\tSimple Random Sampling\n",
        "●\tSystematic Sampling\n",
        "●\tStratified Sampling\n",
        "●\tCluster Sampling\n",
        "2.\tNon-Random Sampling (Non-Probability Sampling):- Definition:\n",
        "●\tNon-random sampling is a method where not all members of the population have a known or equal chance of being selected.\n",
        "Key Features:\n",
        "\n",
        "●\tSelection is based on convenience, judgment, or other non-probabilistic factors.\n",
        "●\tHigher risk of bias.\n",
        "●\tLess generalizable to the entire population.\n",
        "●\tUseful for exploratory research or when probability sampling is not feasible.\n",
        "\n",
        "Examples:\n",
        "\n",
        "●\tConvenience Sampling\n",
        "●\tJudgmental or Purposive Sampling\n",
        "\n",
        "●\tSnowball Sampling\n",
        "●\tQuota Sampling\n",
        "8.\tDefine and give examples of qualitative and quantitative data.\n",
        "\n",
        "●\t✅ 1. Qualitative Data (Categorical Data) Definition:\n",
        "●\tQualitative data refers to non-numeric information that describes qualities or characteristics. It is used to categorize or label attributes of a population.\n",
        "Examples:\n",
        "\n",
        "●\tGender (Male, Female, Other)\n",
        "●\tEye color (Brown, Blue, Green)\n",
        "●\tBlood type (A, B, AB, O)\n",
        "●\tEducation level (High School, Bachelor's, Master's)\n",
        "●\tCustomer feedback (Satisfied, Neutral, Dissatisfied)\n",
        "✅ 2. Quantitative Data (Numerical Data) Definition:\n",
        "●\tQuantitative data refers to numerical information that can be measured and counted. It represents quantities or amounts.\n",
        "Examples:\n",
        "\n",
        "●\tAge (20 years)\n",
        "●\tHeight (170 cm)\n",
        "●\tIncome (₹25,000)\n",
        "●\tTest scores (85 out of 100)\n",
        "●\tNumber of laptops in a class (15)\n",
        "9.\tWhat are the different types of data in statistics?\n",
        "\n",
        "●\t🔹 1. Qualitative Data (Categorical Data) Definition:\n",
        "●\tData that describes qualities or characteristics, usually in words or labels.\n",
        "\n",
        "a).\tNominal Data- Definition:\n",
        "\n",
        "●\tCategories without any natural order.\n",
        "●\tExamples: Gender (Male/Female), Blood Group (A, B, AB, O), Eye color (Brown, Blue)\n",
        "\n",
        "b).\tOrdinal Data Definition:\n",
        "●\tCategories with a meaningful order, but no consistent difference between them.\n",
        "●\tExamples:Education level (High School < Bachelor's < Master's), Customer Satisfaction (Poor, Average, Good)\n",
        "🔹 2. Quantitative Data (Numerical Data) Definition:\n",
        "●\tData that represents quantities and can be measured or counted.\n",
        "\n",
        "a).\tDiscrete Data\n",
        "\n",
        "●\tDefinition: Countable numbers; values are separate and distinct.\n",
        "●\tExamples: Number of students, Number of cars, Test scores (e.g., 90 out of 100)\n",
        "\n",
        "b).\tContinuous Data Definition:\n",
        "●\tCan take any value within a range; often includes decimals.\n",
        "●\tExamples: Height, Weight, Temperature, Time, Salary\n"
      ],
      "metadata": {
        "id": "NPUU0mzwnJTN"
      }
    },
    {
      "cell_type": "markdown",
      "source": [
        "10.\tExplain nominal, ordinal, interval, and ratio levels of measurement.\n",
        "\n",
        "●\t1.Nominal Level Definition:\n",
        "●\tData is categorized into distinct groups or names without any order or ranking.\n",
        "\n",
        "Characteristics:\n",
        "\n",
        "●\tCategories are labels or names.\n",
        "●\tNo inherent numeric value or order.\n",
        "\n",
        "Examples:\n",
        "\n",
        "●\tGender (Male, Female)\n",
        "●\tBlood group (A, B, AB, O)\n",
        "\n",
        "●\tTypes of fruits (Apple, Banana, Orange)\n",
        "2.\tOrdinal Level Definition:\n",
        "●\tData is categorized into groups that have a meaningful order or ranking, but the intervals between ranks are not necessarily equal.\n",
        "Characteristics:\n",
        "\n",
        "●\tShows relative position.\n",
        "●\tDifferences between categories are not measurable or not equal.\n",
        "\n",
        "Examples:\n",
        "\n",
        "●\tEducation level (High School < Bachelor < Master)\n",
        "●\tCustomer satisfaction ratings (Poor, Fair, Good, Excellent)\n",
        "●\tClass ranks (1st, 2nd, 3rd)\n",
        "3.\tInterval Level Definition:\n",
        "●\tNumeric data with meaningful and equal intervals between values, but no true zero point (zero does not mean absence).\n",
        "Characteristics:\n",
        "\n",
        "●\tCan add and subtract values.\n",
        "●\tRatios are not meaningful (e.g., 20°C is not “twice as hot” as 10°C).\n",
        "\n",
        "Examples:\n",
        "\n",
        "●\tTemperature in Celsius or Fahrenheit\n",
        "●\tIQ scores\n",
        "●\tCalendar years (e.g., 2000, 2020)\n",
        "4.\tRatio Level\n",
        "●\tDefinition: Numeric data with meaningful intervals and a true zero point, allowing for all arithmetic operations including meaningful ratios.\n",
        "Characteristics:\n",
        "\n",
        "●\tHas an absolute zero (absence of quantity).\n",
        "●\tCan add, subtract, multiply, and divide.\n",
        "\n",
        "Examples:\n",
        "\n",
        "●\tWeight (0 kg means no weight)\n",
        "●\tHeight (0 cm means no height)\n",
        "●\tIncome (0 means no income)\n",
        "●\tAge (0 years means just born)\n",
        "11.\tWhat is the measure of central tendency?\n",
        "\n",
        "●\tMeasure of Central Tendency is a statistical concept that represents the center or typical value of a dataset. It provides a single value that summarizes the entire data by identifying the middle or average point.\n",
        "12.\tDefine mean, median, and mode.\n",
        "\n",
        "1.\tMean\n",
        "\n",
        "-The mean (or average) is the sum of all the data values divided by the number of values Example:\n",
        "●\tFor data 2, 4, 6, 8,\n",
        "●\tMean = (2 + 4 + 6 + 8) / 4 = 20 / 4 = 5\n",
        "2.\tMedian\n",
        "●\tThe median is the middle value of a dataset when the values are arranged in ascending or descending order. If there is an even number of observations, the median is the average of the two middle numbers.\n",
        "Example:\n",
        "\n",
        "●\tFor data 3, 5, 7,\n",
        "●\tMedian = 5 (middle value)\n",
        "\n",
        "For data 3, 5, 7, 9, Median = (5 + 7) / 2 = 6\n",
        "\n",
        "3.\tMode\n",
        "●\tThe mode is the value that occurs most frequently in the dataset. A dataset may have one mode, more than one mode, or no mode at all.\n",
        "Example:\n",
        "\n",
        "●\tFor data 2, 4, 4, 6, 8,\n",
        "●\tMode = 4 (occurs twice, more than any other value)\n",
        "13.\tWhat is the significance of the measure of central tendency?\n",
        "\n",
        "1.\tSummarizes Data\n",
        "●\tIt condenses large datasets into a single representative value, making it easier to understand and interpret.\n",
        "2.\tFacilitates Comparison\n",
        "\n",
        "●\tAllows comparison between different datasets or groups by comparing their central values.\n",
        "3.\tFoundation for Further Analysis\n",
        "●\tUsed as a basis for other statistical methods and tests, such as variance, standard deviation, and hypothesis testing.\n",
        "4.\tDecision Making\n",
        "●\tHelps in making informed decisions in business, research, healthcare, etc., by understanding the “average” behavior or central value.\n",
        "5.\tIdentifies Trends and Patterns\n",
        "●\tCentral tendency measures help detect trends in data, such as the average income, average score, or typical customer preference.\n",
        "14.\tWhat is variance, and how is it calculated?\n",
        "\n",
        "Variance is a measure of how much the data values spread out or deviate from the mean (average) of the dataset. It quantifies the degree of variation or dispersion in the data.\n",
        "●\tA low variance means the data points are close to the mean.\n",
        "●\tA high variance means the data points are spread out over a wider range.\n",
        "📌 Steps to Calculate Variance:\n",
        "\n",
        "●\tFind the mean of the data.\n",
        "●\tSubtract the mean from each data value to get the deviation.\n",
        "●\tSquare each deviation.\n",
        "●\tFind the average of these squared deviations.\n",
        "15.\tWhat is standard deviation, and why is it important?\n",
        "\n",
        "Standard deviation is a statistical measure that shows how spread out the values in a dataset are from the mean (average).\n",
        "●\tIt is the square root of variance, and it is expressed in the same units as the original data.\n",
        "✅ Why is Standard Deviation Important:-\n",
        "\n",
        "1.\tMeasures Data Spread\n",
        "●\tTells you how consistent or varied the data points are.\n",
        "2.\tHelps Understand Risk\n",
        "●\tIn finance or quality control, a high standard deviation indicates more risk or inconsistency.\n",
        "3.\tInterprets Normal Distribution\n",
        "●\tIn a normal (bell-shaped) curve:\n",
        "●\t~68% of data falls within ±1 standard deviation\n",
        "●\t~95% within ±2\n",
        "●\t~99.7% within ±3\n",
        "4.\tImproves Decision Making\n",
        "●\tUseful in comparing the variability of two datasets (e.g., two investments, two test scores).\n",
        "\n",
        "5.\tFoundation for Other Analysis\n",
        "●\tImportant for advanced topics like confidence intervals, z-scores, regression, and hypothesis testing.\n",
        "16.\tDefine and explain the term range in statistics.\n",
        "\n",
        "●\tRange is a basic measure of dispersion that shows the difference between the highest and lowest values in a dataset.\n",
        "✅ Definition:\n",
        "\n",
        "\n",
        "Range\n",
        "Maximum Value − Minimum Value Range=Maximum Value−Minimum Value\n",
        "\n"
      ],
      "metadata": {
        "id": "KqzLyBPxnU3f"
      }
    },
    {
      "cell_type": "markdown",
      "source": [
        "17.\tWhat is the difference between variance and standard deviation?\n",
        "\n",
        "Variance:\n",
        "\n",
        "●\tVariance is the average of the squared differences between each data value and the mean.\n",
        "●\tIt gives an idea of how much the values deviate from the average value, but the result is in squared units (not the same as the original data).\n",
        "●\tIt is useful in mathematical and theoretical analysis, especially in advanced statistics.\n",
        "\n",
        "Standard Deviation:\n",
        "\n",
        "●\tStandard deviation is the square root of the variance.\n",
        "●\tIt measures the average distance of each data point from the mean.\n",
        "●\tUnlike variance, standard deviation is expressed in the same unit as the original data, making it easier to interpret and more commonly used in practical applications.\n",
        "Key Difference:\n",
        "\n",
        "●\tVariance represents the squared dispersion, while standard deviation represents the actual average deviation.\n",
        "●\tStandard deviation is generally preferred for interpretation because it is in the same unit as the data, whereas variance is primarily used in intermediate calculations.\n",
        "18.\tWhat is skewness in a dataset?\n",
        "\n",
        "●\tSkewness indicates whether the data distribution is symmetrical or tilted to one side. In a perfectly symmetrical distribution, the skewness is zero.\n",
        "19.\tWhat does it mean if a dataset is positively or negatively skewed?\n",
        "\n",
        "🔹 1. Positively Skewed (Right-Skewed) Distribution:-\n",
        "\n",
        "●\tTail is stretched to the right (higher values).\n",
        "●\tMost data values are concentrated on the left (lower side).\n",
        "●\tMean > Median > Mode\n",
        "●\tThe mean is pulled up by a few high (extreme) values.\n",
        "📌 Example:\n",
        "\n",
        "●\tIncome distribution in a population: most people earn average incomes, but a few earn extremely high salaries.\n",
        "🔹 2. Negatively Skewed (Left-Skewed) Distribution:-\n",
        "\n",
        "●\tTail is stretched to the left (lower values).\n",
        "●\tMost data values are concentrated on the right (higher side).\n",
        "●\tMean < Median < Mode\n",
        "●\tThe mean is pulled down by a few low (extreme) values.\n",
        "📌 Example:\n",
        "\n",
        "●\tAge at retirement: most people retire around 60–65, but a few retire much earlier (30s or 40s), pulling the average down.\n",
        "20.\tDefine and explain kurtosis.\n",
        "\n",
        "●\tKurtosis measures the “tailedness” of a data distribution. In simple terms, it indicates whether the data has more or fewer extreme values (outliers) than a normal distribution.\n",
        "🔹 Types of Kurtosis:\n",
        "\n",
        "1.\tMesokurtic (Normal Kurtosis)\n",
        "●\tShape: Like a normal bell curve.\n",
        "●\tKurtosis value ≈ 3 (or 0 in excess kurtosis).\n",
        "●\tModerate tails, no extreme outliers.\n",
        "●\tExample: Heights of people in a large population.\n",
        "2.\tLeptokurtic (High Kurtosis)\n",
        "●\tShape: Tall and thin peak, fat tails.\n",
        "●\tKurtosis value > 3.\n",
        "●\tMore outliers; higher risk of extreme values.\n",
        "●\tExample: Stock market returns.\n",
        "3.\tPlatykurtic (Low Kurtosis)\n",
        "●\tShape: Flat peak, thin tails.\n",
        "●\tKurtosis value < 3.\n",
        "●\tFew or no outliers; data is evenly spread.\n",
        "●\tExample: Uniform distribution.\n",
        "\n",
        "21.\tWhat is the purpose of covariance?\n",
        "\n",
        "🎯 Purpose of Covariance:\n",
        "\n",
        "1.\tTo Measure Direction of Relationship:\n",
        "●\tPositive Covariance: Both variables move in the same direction.\n",
        "●\tNegative Covariance: Variables move in opposite directions.\n",
        "●\tZero Covariance: No relationship between variables.\n",
        "2.\tTo Understand How Variables Co-vary:\n",
        "●\tHelps identify whether changes in one variable are associated with changes in another.\n",
        "3.\tFoundation for Correlation:\n",
        "●\tCovariance is a base concept for correlation, which is a standardized version of covariance.\n",
        "4.\tUsed in Portfolio Theory (Finance):\n",
        "●\tCovariance helps measure the diversification benefit between assets (e.g., stocks) in investment.\n",
        "22.\tWhat does correlation measure in statistics?\n",
        "\n",
        "●\tCorrelation shows how closely two variables move together. It is expressed by the correlation coefficient (r), which ranges from –1 to +1.\n",
        "✅ Purpose of Correlation:\n",
        "\n",
        "1.\tIdentifies Relationships: Tells whether two variables move together (e.g., height and weight).\n",
        "2.\tHelps in Prediction: Strong correlation can be useful for predictive models.\n",
        "3.\tSimplifies Data Analysis: Detects associations that can guide deeper analysis.\n",
        "4.\tUsed in Regression Analysis: Correlation is a starting point before building regression models.\n",
        "23.\tWhat is the difference between covariance and correlation?\n",
        "\n",
        "✅ Covariance:\n",
        "\n",
        "●\tDefinition: Covariance measures the direction of the linear relationship between two variables.\n",
        "●\tIndicates: Whether variables increase or decrease together.\n",
        "●\tRange: Can take any real value (positive, negative, or zero).\n",
        "●\tUnits: The unit of covariance is the product of the units of the two variables, which makes it scale-dependent.\n",
        "●\tLimitation: The magnitude of covariance is not standardized, so it's not useful for comparing relationships across different datasets.\n",
        "✅ Correlation:\n",
        "\n",
        "●\tDefinition: Correlation measures both the strength and direction of the linear relationship between two variables.\n",
        "●\tIndicates: How strongly related the variables are.\n",
        "\n",
        "●\tRange: Always lies between –1 and +1.\n",
        "●\tUnits: It is a unitless (dimensionless) measure, because it is derived by dividing covariance by the product of standard deviations of the variables.\n",
        "●\tAdvantage: Correlation is standardized, making it suitable for comparing relationships across different datasets.\n",
        "24.\tWhat are some real-world applications of statistics?\n",
        "\n",
        "📘 Real-World Applications of Statistics\n",
        "\n",
        "●\tStatistics plays a crucial role in many fields by helping people collect, analyze, interpret, and present data to make informed decisions. Here are some common real-world applications:\n",
        "1.\tHealthcare and Medicine\n",
        "●\tDesigning and analyzing clinical trials for new drugs.\n",
        "●\tMonitoring disease outbreaks and vaccine effectiveness.\n",
        "●\tEvaluating patient outcomes and treatment methods.\n",
        "2.\tBusiness and Marketing\n",
        "●\tAnalyzing customer behavior and preferences.\n",
        "●\tForecasting sales and market trends.\n",
        "●\tQuality control and product testing.\n",
        "3.\tGovernment and Public Policy\n",
        "●\tConducting censuses and surveys to gather population data.\n",
        "●\tEvaluating the impact of policies and social programs.\n",
        "●\tCrime statistics and public safety analysis.\n",
        "4.\tEducation\n",
        "●\tAnalyzing student performance and standardized test results.\n",
        "●\tImproving teaching methods based on data.\n",
        "●\tResource allocation and policy planning.\n",
        "\n",
        "Practical\n",
        "1.\tHow do you calculate the mean, median, and mode of a dataset?\n",
        "●\t📘 1. Mean (Arithmetic Average) Steps:\n",
        "1.\tAdd all the values.\n",
        "2.\tDivide by the total number of values.\n",
        "●\t📘 2. Median (Middle Value) Steps:\n",
        "1.\tArrange the data in ascending order.\n",
        "2.\tIf the number of data points 𝑛 n is odd, median = middle value.\n",
        "3.\tIf 𝑛 n is even, median = average of the two middle values.\n",
        "●\t📘 3. Mode (Most Frequent Value)\n",
        "\n",
        "Steps:\n",
        "\n",
        "1.\tCount how many times each value appears.\n",
        "2.\tThe value with the highest frequency is the mode.\n",
        "2.\tWrite a Python program to compute the variance and standard deviation of a dataset.\n"
      ],
      "metadata": {
        "id": "rDv0d61encCv"
      }
    },
    {
      "cell_type": "code",
      "source": [
        "#2. Write a Python program to compute the variance and standard deviation of a dataset.\n",
        "\n",
        "# Dataset\n",
        "data = [10, 12, 23, 23, 16, 23, 21, 16]\n",
        "\n",
        "# Calculate mean\n",
        "mean = sum(data) / len(data)\n",
        "\n",
        "# Calculate variance\n",
        "variance = sum((x - mean) ** 2 for x in data) / len(data)\n",
        "\n",
        "# Calculate standard deviation\n",
        "standard_deviation = variance ** 0.5\n",
        "print(\"Mean:\", mean)\n",
        "print(\"Variance:\", variance)\n",
        "print(\"Standard Deviation:\", standard_deviation)\n"
      ],
      "metadata": {
        "colab": {
          "base_uri": "https://localhost:8080/"
        },
        "id": "Ku76KzbHnkwX",
        "outputId": "f5afda03-928a-44b0-de00-f211e9690df2"
      },
      "execution_count": 3,
      "outputs": [
        {
          "output_type": "stream",
          "name": "stdout",
          "text": [
            "Mean: 18.0\n",
            "Variance: 24.0\n",
            "Standard Deviation: 4.898979485566356\n"
          ]
        }
      ]
    },
    {
      "cell_type": "code",
      "source": [
        "3.\tCreate a dataset and classify it into nominal, ordinal, interval, and ratio types.\n",
        "●\tHere's a simple dataset with various types of data, and their classification into nominal, ordinal, interval, and ratio levels of measurement:\n",
        "📊 Sample Dataset: Student Information\n",
        "\n",
        "| Student ID | Gender | Grade Level | Satisfaction Rating | Exam Score (out of 100) | Temperature (°C) |\n",
        "|\t|\t|\t|\t|\n",
        "|\t|\n",
        "| 001\t| Male\t| 12th\t| Very Satisfied\t| 88\n",
        "| 36.5\t|\n",
        "| 002\t| Female | 11th\t| Satisfied\t| 74\n",
        "| 37.2\t|\n",
        "\n",
        "|\t003\t|\tMale\t|\t10th\t|\tNeutral\t|\t67\n",
        "|\t35.8\t\t|\n",
        "|\t004\t|\tFemale\t|\t12th\t|\tDissatisfied\t|\t59\n",
        "|\t36.1\t\t|\n",
        "|\t005\t|\tOther\t|\t11th\t|\tVery Dissatisfied\t|\t45\n",
        "|\t37.0\t\t|\n",
        "\n",
        "\n",
        "\n",
        "\n",
        "\n",
        "✅ Classification of Each Variable:\n",
        "\n",
        "| **Variable**\t| **Type**\t| **Explanation**\n",
        "|\n",
        "|\t|\t|\n",
        "\n",
        "|\n",
        "| **Student ID**\t| *Nominal*\t| Labels each student uniquely; no inherent order.\t\t\t|\n",
        "| **Gender**\t| *Nominal*\t| Categorical label (Male/Female/Other); no ranking or order.\t|\n",
        "| **Grade Level**\t| *Ordinal*\t| 10th, 11th, 12th show a meaningful order, but not equal intervals.\t|\n",
        "| **Satisfaction Rating** | *Ordinal*\t| Ordered categories (Very Satisfied → Very Dissatisfied), but no fixed spacing. |\n",
        "| **Exam Score**\t| *Ratio*\t| Has a true zero, and ratios make sense (80 is twice as much as 40).\t\t|\n",
        "| **Temperature (°C)**\t| *Interval* | Ordered and has equal units, but\n",
        "**no true zero** (0°C ≠ no temperature).\t|\n",
        "\n",
        "\n",
        "\n",
        "\n"
      ],
      "metadata": {
        "id": "Xetgh7qjoMCt"
      },
      "execution_count": null,
      "outputs": []
    },
    {
      "cell_type": "code",
      "source": [
        "#4. Implement sampling techniques like random sampling and stratified sampling.\n",
        "import pandas as pd\n",
        "\n",
        "# Creating a sample dataset\n",
        "data = {\n",
        "'StudentID': range(1, 21), 'Gender': ['Male', 'Female'] * 10,\n",
        "'Score': [65, 70, 80, 55, 90, 60, 75, 85, 67, 73, 88, 58, 62, 95, 79, 68,\n",
        "74, 77, 69, 81]\n",
        "}\n",
        "df = pd.DataFrame(data)\n",
        "print(df)\n",
        "\n"
      ],
      "metadata": {
        "colab": {
          "base_uri": "https://localhost:8080/"
        },
        "id": "knNCCJVko_zS",
        "outputId": "71b98529-7779-47ae-fcb8-2fb25e122dfe"
      },
      "execution_count": 6,
      "outputs": [
        {
          "output_type": "stream",
          "name": "stdout",
          "text": [
            "    StudentID  Gender  Score\n",
            "0           1    Male     65\n",
            "1           2  Female     70\n",
            "2           3    Male     80\n",
            "3           4  Female     55\n",
            "4           5    Male     90\n",
            "5           6  Female     60\n",
            "6           7    Male     75\n",
            "7           8  Female     85\n",
            "8           9    Male     67\n",
            "9          10  Female     73\n",
            "10         11    Male     88\n",
            "11         12  Female     58\n",
            "12         13    Male     62\n",
            "13         14  Female     95\n",
            "14         15    Male     79\n",
            "15         16  Female     68\n",
            "16         17    Male     74\n",
            "17         18  Female     77\n",
            "18         19    Male     69\n",
            "19         20  Female     81\n"
          ]
        }
      ]
    },
    {
      "cell_type": "code",
      "source": [
        "#5. Write a Python function to calculate the range of a dataset.\n",
        "def calculate_range(data):\n",
        "  if not data:\n",
        "    return None\n",
        "    return max(data) - min(data)\n",
        "\n",
        "# Example usage\n",
        "dataset = [12, 5, 18, 7, 25, 10]\n",
        "data_range = calculate_range(dataset)\n",
        "print(\"Range of the dataset:\", data_range)\n"
      ],
      "metadata": {
        "colab": {
          "base_uri": "https://localhost:8080/"
        },
        "id": "1-G_OyPdpODV",
        "outputId": "76be573e-0427-46c8-dd92-73b135d3564a"
      },
      "execution_count": 9,
      "outputs": [
        {
          "output_type": "stream",
          "name": "stdout",
          "text": [
            "Range of the dataset: None\n"
          ]
        }
      ]
    },
    {
      "cell_type": "code",
      "source": [
        "#6. Create a dataset and plot its histogram to visualize skewness.\n",
        "import numpy as np\n",
        "import matplotlib.pyplot as plt\n",
        "from scipy.stats import skew\n",
        "\n",
        "# Step 1: Create a right-skewed dataset\n",
        "data = np.random.exponential(scale=2, size=1000)\n",
        "\n",
        "# Step 2: Plot histogram\n",
        "plt.figure(figsize=(8, 5))\n",
        "plt.hist(data, bins=30, color='skyblue', edgecolor='black')\n",
        "plt.title(\"Histogram of Skewed Data\")\n",
        "plt.xlabel(\"Value\")\n",
        "plt.ylabel(\"Frequency\")\n",
        "plt.grid(True)\n",
        "plt.show()\n",
        "\n",
        "# Step 3: Measure skewness\n",
        "skewness = skew(data)\n",
        "print(f\"Skewness of the dataset: {skewness:.2f}\")\n"
      ],
      "metadata": {
        "colab": {
          "base_uri": "https://localhost:8080/",
          "height": 504
        },
        "id": "SJ6c_BDOph7S",
        "outputId": "e371f0f0-8fe7-4b92-930b-fab1bec3c4cd"
      },
      "execution_count": 13,
      "outputs": [
        {
          "output_type": "display_data",
          "data": {
            "text/plain": [
              "<Figure size 800x500 with 1 Axes>"
            ],
            "image/png": "[encoded data removed]"
          },
          "metadata": {}
        },
        {
          "output_type": "stream",
          "name": "stdout",
          "text": [
            "Skewness of the dataset: 1.78\n"
          ]
        }
      ]
    },
    {
      "cell_type": "code",
      "source": [
        "#7. Calculate skewness and kurtosis of a dataset using Python libraries.\n",
        "import numpy as np\n",
        "import pandas as pd\n",
        "from scipy.stats import skew, kurtosis\n",
        "\n",
        "# Create a sample dataset (e.g., exam scores)\n",
        "data = [55, 62, 67, 70, 72, 75, 80, 85, 90, 95, 100, 105, 110]\n",
        "\n",
        "# Using SciPy\n",
        "skewness = skew(data)\n",
        "kurt = kurtosis(data) # Default is Fisher's definition (normal dist = 0)\n",
        "\n",
        "# Using Pandas (kurtosis returns Fisher's definition by default)\n",
        "series = pd.Series(data)\n",
        "skewness_pd = series.skew()\n",
        "kurtosis_pd = series.kurt()\n",
        "\n",
        "# Print results\n",
        "print(\"Using SciPy:\")\n",
        "print(f\"Skewness: {skewness:.2f}\")\n",
        "print(f\"Kurtosis: {kurt:.2f}\")\n",
        "print(\"\\nUsing Pandas:\")\n",
        "print(f\"Skewness: {skewness_pd:.2f}\")\n",
        "print(f\"Kurtosis: {kurtosis_pd:.2f}\")\n",
        "\n"
      ],
      "metadata": {
        "colab": {
          "base_uri": "https://localhost:8080/"
        },
        "id": "_nkpFsyWqI48",
        "outputId": "64aaab02-527e-4fb4-8bd5-25ffc19a36a3"
      },
      "execution_count": 15,
      "outputs": [
        {
          "output_type": "stream",
          "name": "stdout",
          "text": [
            "Using SciPy:\n",
            "Skewness: 0.15\n",
            "Kurtosis: -1.11\n",
            "\n",
            "Using Pandas:\n",
            "Skewness: 0.17\n",
            "Kurtosis: -1.05\n"
          ]
        }
      ]
    },
    {
      "cell_type": "code",
      "source": [
        "#8. Generate a dataset and demonstrate positive and negative skewness.\n",
        "import numpy as np\n",
        "import matplotlib.pyplot as plt\n",
        "from scipy.stats import skew\n",
        "\n",
        "# Generate positively skewed data (e.g., exponential distribution)\n",
        "pos_skewed = np.random.exponential(scale=2.0, size=1000)\n",
        "\n",
        "# Generate negatively skewed data (flip exponential)\n",
        "neg_skewed = -np.random.exponential(scale=2.0, size=1000) + 10\n",
        "\n",
        "# Calculate skewness\n",
        "pos_skewness = skew(pos_skewed)\n",
        "neg_skewness = skew(neg_skewed)\n",
        "\n",
        "# Plot histograms\n",
        "plt.figure(figsize=(12, 5))\n",
        "\n",
        "# Positive skew\n",
        "plt.subplot(1, 2, 1)\n",
        "plt.hist(pos_skewed, bins=30, color='lightgreen', edgecolor='black')\n",
        "plt.title(f\"Positive Skew\\nSkewness = {pos_skewness:.2f}\")\n",
        "plt.xlabel(\"Value\")\n",
        "plt.ylabel(\"Frequency\")\n",
        "\n",
        "# Negative skew\n",
        "plt.subplot(1, 2, 2)\n",
        "plt.hist(neg_skewed, bins=30, color='salmon', edgecolor='black')\n",
        "plt.title(f\"Negative Skew\\nSkewness = {neg_skewness:.2f}\")\n",
        "plt.xlabel(\"Value\")\n",
        "plt.ylabel(\"Frequency\")\n",
        "plt.tight_layout()\n",
        "plt.show()\n"
      ],
      "metadata": {
        "colab": {
          "base_uri": "https://localhost:8080/",
          "height": 326
        },
        "id": "PaDcC3sNqqZY",
        "outputId": "4afdcffa-7105-4433-da61-52fd5c4def34"
      },
      "execution_count": 18,
      "outputs": [
        {
          "output_type": "display_data",
          "data": {
            "text/plain": [
              "<Figure size 1200x500 with 2 Axes>"
            ],
            "image/png": "[encoded data removed]"
          },
          "metadata": {}
        }
      ]
    },
    {
      "cell_type": "code",
      "source": [
        "#9. Write a Python script to calculate covariance between two datasets.\n",
        "def calculate_covariance(x, y):\n",
        "  if len(x) != len(y):\n",
        "    raise ValueError(\"Datasets must have the same length.\")\n",
        "\n",
        "  # If lengths are equal, proceed with calculation\n",
        "  n = len(x)\n",
        "  mean_x = sum(x) / n\n",
        "  mean_y = sum(y) / n\n",
        "\n",
        "  # Calculate covariance\n",
        "  covariance = sum((x[i] - mean_x) * (y[i] - mean_y) for i in range(n)) / (n - 1)\n",
        "  return covariance\n",
        "\n",
        "# Example usage\n",
        "dataset_x = [2, 4, 6, 8, 10]\n",
        "dataset_y = [1, 3, 2, 5, 7]\n",
        "\n",
        "cov = calculate_covariance(dataset_x, dataset_y)\n",
        "print(f\"Covariance between the datasets:{cov:.2f}\")"
      ],
      "metadata": {
        "colab": {
          "base_uri": "https://localhost:8080/"
        },
        "id": "vjoeQPxfsjVE",
        "outputId": "f0ed1e14-a16b-4850-fc5d-2ab3ece17d21"
      },
      "execution_count": 26,
      "outputs": [
        {
          "output_type": "stream",
          "name": "stdout",
          "text": [
            "Covariance between the datasets:7.00\n"
          ]
        }
      ]
    },
    {
      "cell_type": "code",
      "source": [
        "#10. Write a Python script to calculate the correlation coefficient between two datasets.\n",
        "import numpy as np\n",
        "from scipy.stats import pearsonr\n",
        "\n",
        "# Sample datasets\n",
        "x = [10, 20, 30, 40, 50]\n",
        "y = [12, 24, 33, 45, 55]\n",
        "\n",
        "# Manual calculation of Pearson correlation coefficient\n",
        "def manual_pearson_corr(x, y):\n",
        "  n = len(x)\n",
        "  mean_x = sum(x) / n\n",
        "  mean_y = sum(y) / n\n",
        "  numerator = sum((xi - mean_x) * (yi - mean_y)\n",
        "  for xi, yi in zip(x, y))\n",
        "  denominator_x = sum((xi - mean_x)**2 for xi in x)\n",
        "  denominator_y = sum((yi - mean_y)**2 for yi in y)\n",
        "  denominator = (denominator_x * denominator_y) ** 0.5\n",
        "  return numerator / denominator\n",
        "  manual_corr = manual_pearson_corr(x, y)\n",
        "  print(f\"Manual Pearson Correlation: {manual_corr:.4f}\")\n",
        "  np_corr = np.corrcoef(x, y)[0, 1]\n",
        "  print(f\"Numpy Pearson Correlation: {np_corr:.4f}\")\n",
        "  scipy_corr, p_value = pearsonr(x, y)\n",
        "  print(f\"Scipy Pearson Correlation: {scipy_corr:.4f} (p-value: {p_value:.4f})\")\n"
      ],
      "metadata": {
        "id": "3oiCQNVHsmIj"
      },
      "execution_count": 31,
      "outputs": []
    },
    {
      "cell_type": "code",
      "source": [
        "#11. Create a scatter plot to visualize the relationship between two variables.\n",
        "\n",
        "import matplotlib.pyplot as plt\n",
        "\n",
        "# Sample data\n",
        "x = [5, 7, 8, 7, 2, 17, 2, 9, 4, 11]\n",
        "y = [99, 86, 87, 88, 100, 86, 103, 87, 94, 78]\n",
        "\n",
        "# Create scatter plot\n",
        "plt.scatter(x, y, color='blue', marker='o')\n",
        "\n",
        "# Add titles and labels\n",
        "plt.title(\"Scatter Plot: Relationship between X and Y\")\n",
        "plt.xlabel(\"Variable X\")\n",
        "plt.ylabel(\"Variable Y\")\n",
        "\n",
        "# Show grid\n",
        "plt.grid(True)\n",
        "\n",
        "# Show plot\n",
        "plt.show()\n"
      ],
      "metadata": {
        "colab": {
          "base_uri": "https://localhost:8080/",
          "height": 472
        },
        "id": "ISFSDbbrtVqW",
        "outputId": "a2224f58-da72-4bda-80d5-e361114d2b38"
      },
      "execution_count": 33,
      "outputs": [
        {
          "output_type": "display_data",
          "data": {
            "text/plain": [
              "<Figure size 640x480 with 1 Axes>"
            ],
            "image/png": "[encoded data removed]"
          },
          "metadata": {}
        }
      ]
    },
    {
      "cell_type": "code",
      "source": [
        "#12.Implement and compare simple random sampling and systematic sampling.\n",
        "import pandas as pd\n",
        "import random\n",
        "\n",
        "# Create a dataset of 20 items\n",
        "data = pd.DataFrame({ 'ID': range(1, 21),\n",
        "'Value': [23, 45, 12, 67, 34, 89, 28, 76, 54, 31,\n",
        "38, 47, 59, 61, 72, 85, 90, 14, 55, 66]\n",
        "})\n",
        "\n",
        "def simple_random_sampling(df, n):\n",
        "  return df.sample(n=n, random_state=42)\n",
        "\n",
        "# Unindent systematic_sampling function\n",
        "def systematic_sampling(df, n):\n",
        "  N = len(df)\n",
        "  k = N // n # sampling interval\n",
        "  start = random.randint(0, k - 1) # random start index\n",
        "  indices = list(range(start, N, k))\n",
        "  sampled_df = df.iloc[indices]\n",
        "  return sampled_df\n",
        "\n",
        "# Number of samples to pick\n",
        "n_samples = 5\n",
        "\n",
        "# Perform sampling\n",
        "sample_srs = simple_random_sampling(data, n_samples)\n",
        "sample_sys = systematic_sampling(data, n_samples)\n",
        "\n",
        "print(\"Original Dataset:\\n\", data, \"\\n\")\n",
        "print(\"Simple Random Sampling (n=5):\\n\", sample_srs, \"\\n\")\n",
        "print(\"Systematic Sampling (n=5):\\n\", sample_sys)"
      ],
      "metadata": {
        "colab": {
          "base_uri": "https://localhost:8080/"
        },
        "id": "TKst6Fs3vSS5",
        "outputId": "f0be50d8-09fd-4814-c947-80213a0e73d9"
      },
      "execution_count": 37,
      "outputs": [
        {
          "output_type": "stream",
          "name": "stdout",
          "text": [
            "Original Dataset:\n",
            "     ID  Value\n",
            "0    1     23\n",
            "1    2     45\n",
            "2    3     12\n",
            "3    4     67\n",
            "4    5     34\n",
            "5    6     89\n",
            "6    7     28\n",
            "7    8     76\n",
            "8    9     54\n",
            "9   10     31\n",
            "10  11     38\n",
            "11  12     47\n",
            "12  13     59\n",
            "13  14     61\n",
            "14  15     72\n",
            "15  16     85\n",
            "16  17     90\n",
            "17  18     14\n",
            "18  19     55\n",
            "19  20     66 \n",
            "\n",
            "Simple Random Sampling (n=5):\n",
            "     ID  Value\n",
            "0    1     23\n",
            "17  18     14\n",
            "15  16     85\n",
            "1    2     45\n",
            "8    9     54 \n",
            "\n",
            "Systematic Sampling (n=5):\n",
            "     ID  Value\n",
            "2    3     12\n",
            "6    7     28\n",
            "10  11     38\n",
            "14  15     72\n",
            "18  19     55\n"
          ]
        }
      ]
    },
    {
      "cell_type": "code",
      "source": [
        "#13. Calculate the mean, median, and mode of grouped data.\n",
        "import numpy as np\n",
        "\n",
        "# Grouped data\n",
        "class_intervals = [(10, 20), (20, 30), (30, 40), (40, 50), (50, 60)]\n",
        "frequencies = [5, 8, 12, 20, 10]\n",
        "\n",
        "# Calculate midpoints\n",
        "midpoints = [(low + high) / 2 for (low, high) in class_intervals]\n",
        "\n",
        "# Total frequency\n",
        "N = sum(frequencies)\n",
        "\n",
        "# Mean calculation\n",
        "mean = sum(f * m for f, m in zip(frequencies, midpoints)) / N\n",
        "\n",
        "# Cumulative frequency\n",
        "cum_freq = np.cumsum(frequencies)\n",
        "\n",
        "# Median calculation\n",
        "median_class_index = np.where(cum_freq >= N/2)[0][0]\n",
        "L = class_intervals[median_class_index][0] # lower boundary of median class\n",
        "F = 0 if median_class_index == 0 else cum_freq[median_class_index - 1]\n",
        "f_m = frequencies[median_class_index]\n",
        "h = class_intervals[0][1] - class_intervals[0][0] # class width (assuming equal width)\n",
        "\n",
        "median = L + ((N/2 - F) / f_m) * h\n",
        "\n",
        "# Mode calculation\n",
        "modal_class_index = frequencies.index(max(frequencies))\n",
        "L_modal = class_intervals[modal_class_index][0]\n",
        "f1 = frequencies[modal_class_index]\n",
        "f0 = frequencies[modal_class_index - 1] if modal_class_index > 0 else 0\n",
        "f2 = frequencies[modal_class_index + 1] if modal_class_index < len(frequencies)- 1 else 0\n",
        "mode = L_modal + ((f1 - f0) / (2*f1 - f0 - f2)) * h\n",
        "# Results\n",
        "print(f\"Mean: {mean:.2f}\")\n",
        "print(f\"Median: {median:.2f}\")\n",
        "print(f\"Mode: {mode:.2f}\")\n"
      ],
      "metadata": {
        "colab": {
          "base_uri": "https://localhost:8080/"
        },
        "id": "OlUEtRiIvUW3",
        "outputId": "13040bec-2b49-41d2-aa13-57fd8f84e4bd"
      },
      "execution_count": 46,
      "outputs": [
        {
          "output_type": "stream",
          "name": "stdout",
          "text": [
            "Mean: 39.00\n",
            "Median: 41.25\n",
            "Mode: 44.44\n"
          ]
        }
      ]
    },
    {
      "cell_type": "code",
      "source": [
        "#14. Simulate data using Python and calculate its central tendency and dispersion.\n",
        "import numpy as np\n",
        "from scipy import stats\n",
        "\n",
        "# Simulate data - let's create a normal distribution with mean=50, std=10, size=1000\n",
        "data = np.random.normal(loc=50, scale=10, size=1000)\n",
        "\n",
        "# Central Tendency\n",
        "mean = np.mean(data)\n",
        "median = np.median(data)\n",
        "mode_result = stats.mode(data, keepdims=True)\n",
        "mode = mode_result.mode[0]\n",
        "\n",
        "# Dispersion\n",
        "variance = np.var(data, ddof=1)\n",
        "# variance (ddof=1)\n",
        "std_dev = np.std(data, ddof=1)\n",
        "# standard deviation data_range = np.ptp(data)\n",
        "data_range = np.ptp(data)\n",
        "# range = max - min\n",
        "# Print results\n",
        "print(f\"Mean: {mean:.2f}\")\n",
        "print(f\"Median: {median:.2f}\")\n",
        "print(f\"Mode: {mode:.2f}\")\n",
        "print(f\"Variance: {variance:.2f}\")\n",
        "print(f\"Standard Deviation:{std_dev:.2f}\")\n",
        "print(f\"Range: {data_range:.2f}\")\n"
      ],
      "metadata": {
        "colab": {
          "base_uri": "https://localhost:8080/"
        },
        "id": "ZoPkrj06wTH2",
        "outputId": "3ad18958-29d9-463c-9ed5-68e4a8f9bd29"
      },
      "execution_count": 52,
      "outputs": [
        {
          "output_type": "stream",
          "name": "stdout",
          "text": [
            "Mean: 50.23\n",
            "Median: 50.46\n",
            "Mode: 19.56\n",
            "Variance: 94.68\n",
            "Standard Deviation:9.73\n",
            "Range: 66.11\n"
          ]
        }
      ]
    },
    {
      "cell_type": "code",
      "source": [
        "#15. Use NumPy or pandas to summarize a dataset’s descriptive statistics.\n",
        "import pandas as pd\n",
        "import numpy as np\n",
        "\n",
        "# Create a sample dataset\n",
        "data = {\n",
        "'Age': [23, 45, 31, 35, 62, 41, 29, 37, 55, 43],\n",
        "'Income': [50000, 64000, 58000, 60000, 72000, 65000, 52000, 61000, 69000,\n",
        "63000]\n",
        "}\n",
        "\n",
        "df = pd.DataFrame(data)\n",
        "\n",
        "# Get descriptive statistics\n",
        "summary = df.describe()\n",
        "print(summary)\n"
      ],
      "metadata": {
        "colab": {
          "base_uri": "https://localhost:8080/"
        },
        "id": "HD-zheY1xIAj",
        "outputId": "e428997d-660e-4f4f-e277-7e6a9d4c98b5"
      },
      "execution_count": 53,
      "outputs": [
        {
          "output_type": "stream",
          "name": "stdout",
          "text": [
            "             Age        Income\n",
            "count  10.000000     10.000000\n",
            "mean   40.100000  61400.000000\n",
            "std    11.873874   6866.990284\n",
            "min    23.000000  50000.000000\n",
            "25%    32.000000  58500.000000\n",
            "50%    39.000000  62000.000000\n",
            "75%    44.500000  64750.000000\n",
            "max    62.000000  72000.000000\n"
          ]
        }
      ]
    },
    {
      "cell_type": "code",
      "source": [
        "#16. Plot a boxplot to understand the spread and identify outliers.\n",
        "import matplotlib.pyplot as plt\n",
        "import seaborn as sns\n",
        "import numpy as np\n",
        "\n",
        "# Simulate a dataset with potential outliers\n",
        "np.random.seed(42)\n",
        "data = np.append(np.random.normal(50, 10, 100), [100, 105, 110]) # Adding some outliers\n",
        "\n",
        "# Plot using seaborn plt.figure(figsize=(8, 5)) sns.boxplot(x=data, color='skyblue')\n",
        "\n",
        "# Add title and labels\n",
        "#16. Plot a boxplot to understand the spread and identify outliers.\n",
        "import matplotlib.pyplot as plt\n",
        "import seaborn as sns\n",
        "import numpy as np\n",
        "\n",
        "# Simulate a dataset with potential outliers\n",
        "np.random.seed(42)\n",
        "data = np.append(np.random.normal(50, 10, 100), [100, 105, 110]) # Adding some outliers\n",
        "\n",
        "# Plot using seaborn\n",
        "plt.figure(figsize=(8, 5))\n",
        "sns.boxplot(x=data, color='skyblue')\n",
        "\n",
        "# Add title and labels\n",
        "plt.title(\"Boxplot to Visualize Spread and Outliers\", fontsize=14)\n",
        "plt.xlabel(\"Value\", fontsize=12)\n",
        "# Show plot\n",
        "plt.grid(True)\n",
        "plt.show()"
      ],
      "metadata": {
        "colab": {
          "base_uri": "https://localhost:8080/",
          "height": 492
        },
        "id": "XECazz7rxSGm",
        "outputId": "3b410806-f93f-4ae6-905a-8506008467d5"
      },
      "execution_count": 55,
      "outputs": [
        {
          "output_type": "display_data",
          "data": {
            "text/plain": [
              "<Figure size 800x500 with 1 Axes>"
            ],
            "image/png": "[encoded data removed]"
          },
          "metadata": {}
        }
      ]
    },
    {
      "cell_type": "code",
      "source": [
        "#17. Calculate the interquartile range (IQR) of a dataset.\n",
        "import numpy as np\n",
        "\n",
        "# Sample dataset\n",
        "data = [45, 50, 47, 52, 60, 53, 48, 56, 62, 75, 85]\n",
        "\n",
        "# Calculate Q1 (25th percentile) and Q3 (75th percentile)\n",
        "Q1 = np.percentile(data, 25)\n",
        "Q3 = np.percentile(data, 75)\n",
        "\n",
        "# Calculate IQR\n",
        "IQR = Q3 - Q1\n",
        "\n",
        "# Print results\n",
        "print(f\"Q1 (25th percentile): {Q1}\")\n",
        "\n",
        "print(f\"Q3 (75th percentile): {Q3}\")\n",
        "print(f\"Interquartile Range (IQR): {IQR}\")\n"
      ],
      "metadata": {
        "colab": {
          "base_uri": "https://localhost:8080/"
        },
        "id": "iWNjniG6ypzc",
        "outputId": "17e23ea2-83a8-4a80-e825-d970a53641da"
      },
      "execution_count": 56,
      "outputs": [
        {
          "output_type": "stream",
          "name": "stdout",
          "text": [
            "Q1 (25th percentile): 49.0\n",
            "Q3 (75th percentile): 61.0\n",
            "Interquartile Range (IQR): 12.0\n"
          ]
        }
      ]
    },
    {
      "cell_type": "code",
      "source": [
        "#18. Implement Z-score normalization and explain its significance.\n",
        "import numpy as np\n",
        "# Original dataset\n",
        "data = np.array([10, 12, 15, 18, 20, 22, 25])\n",
        "# Step 1: Calculate mean and standard deviation\n",
        "mean = np.mean(data)\n",
        "std_dev = np.std(data)\n",
        "# Step 2: Apply Z-score normalization\n",
        "z_scores = (data - mean) / std_dev\n",
        "# Step 3: Print results print(\"Original Data:\", data) print(\"Mean:\", round(mean, 2))\n",
        "print(\"Standard Deviation:\", round(std_dev, 2))\n",
        "print(\"Z-score Normalized Data:\", np.round(z_scores, 2))\n"
      ],
      "metadata": {
        "colab": {
          "base_uri": "https://localhost:8080/"
        },
        "id": "_oAs99J9y2W3",
        "outputId": "ea369532-699c-48e7-a5da-a9667b26ce2d"
      },
      "execution_count": 1,
      "outputs": [
        {
          "output_type": "stream",
          "name": "stdout",
          "text": [
            "Standard Deviation: 5.01\n",
            "Z-score Normalized Data: [-1.48 -1.08 -0.48  0.11  0.51  0.91  1.51]\n"
          ]
        }
      ]
    },
    {
      "cell_type": "code",
      "source": [
        "#19. Compare two datasets using their standard deviations.\n",
        "import numpy as np\n",
        "# Dataset A (less variation)\n",
        "data_a = np.array([45, 47, 46, 48, 46, 45, 47, 46])\n",
        "# Dataset B (more variation)\n",
        "data_b = np.array([30, 50, 40, 60, 20, 70, 25, 65])\n",
        "# Calculate standard deviation\n",
        "\n",
        "std_a = np.std(data_a, ddof=1) # sample std dev\n",
        "std_b = np.std(data_b, ddof=1)\n",
        "\n",
        "# Print results\n",
        "print(\"Dataset A:\", data_a)\n",
        "print(\"Standard Deviation of Dataset A:\", round(std_a, 2))\n",
        "\n",
        "print(\"\\nDataset B:\", data_b)\n",
        "print(\"Standard Deviation of Dataset B:\", round(std_b, 2))\n",
        "\n",
        "# Interpretation\n",
        "#19. Compare two datasets using their standard deviations.\n",
        "import numpy as np\n",
        "# Dataset A (less variation)\n",
        "data_a = np.array([45, 47, 46, 48, 46, 45, 47, 46])\n",
        "# Dataset B (more variation)\n",
        "data_b = np.array([30, 50, 40, 60, 20, 70, 25, 65])\n",
        "# Calculate standard deviation\n",
        "\n",
        "std_a = np.std(data_a, ddof=1) # sample std dev\n",
        "std_b = np.std(data_b, ddof=1)\n",
        "\n",
        "# Print results\n",
        "print(\"Dataset A:\", data_a)\n",
        "print(\"Standard Deviation of Dataset A:\", round(std_a, 2))\n",
        "\n",
        "print(\"\\nDataset B:\", data_b)\n",
        "print(\"Standard Deviation of Dataset B:\", round(std_b, 2))\n",
        "\n",
        "# Interpretation\n",
        "if std_a > std_b:\n",
        "  print(\"\\nDataset A is more spread out than Dataset B.\")\n",
        "elif std_b > std_a:\n",
        "  print(\"\\nDataset B is more spread out than Dataset A.\")\n",
        "else:\n",
        "  print(\"\\nBoth datasets have the same spread.\")\n",
        "\n",
        "\n"
      ],
      "metadata": {
        "colab": {
          "base_uri": "https://localhost:8080/"
        },
        "id": "FGijmsIsWJFb",
        "outputId": "c15afada-64c0-4a8c-9a43-cf6fce7fdfb7"
      },
      "execution_count": 8,
      "outputs": [
        {
          "output_type": "stream",
          "name": "stdout",
          "text": [
            "Dataset A: [45 47 46 48 46 45 47 46]\n",
            "Standard Deviation of Dataset A: 1.04\n",
            "\n",
            "Dataset B: [30 50 40 60 20 70 25 65]\n",
            "Standard Deviation of Dataset B: 19.09\n",
            "Dataset A: [45 47 46 48 46 45 47 46]\n",
            "Standard Deviation of Dataset A: 1.04\n",
            "\n",
            "Dataset B: [30 50 40 60 20 70 25 65]\n",
            "Standard Deviation of Dataset B: 19.09\n",
            "\n",
            "Dataset B is more spread out than Dataset A.\n"
          ]
        }
      ]
    },
    {
      "cell_type": "code",
      "source": [
        "#20. Write a Python program to visualize covariance using a heatmap.\n",
        "import numpy as np\n",
        "import pandas as pd\n",
        "import seaborn as sns\n",
        "import matplotlib.pyplot as plt\n",
        "\n",
        "# Step 1: Create a sample dataset\n",
        "data = {\n",
        "'Height': [160, 165, 170, 175, 180, 185],\n",
        "'Weight': [55, 60, 65, 70, 75, 80],\n",
        "'Age': [22, 25, 30, 35, 40, 45]\n",
        "}\n",
        "\n",
        "df = pd.DataFrame(data)\n",
        "\n",
        "# Step 2: Compute covariance matrix\n",
        "cov_matrix = df.cov()\n",
        "\n",
        "# Step 3: Plot heatmap\n",
        "plt.figure(figsize=(8, 6))\n",
        "\n",
        "sns.heatmap(cov_matrix, annot=True, cmap='coolwarm', fmt=\".2f\")\n",
        "plt.title(\"Covariance Matrix Heatmap\")\n",
        "plt.show()\n",
        "\n",
        "\n"
      ],
      "metadata": {
        "colab": {
          "base_uri": "https://localhost:8080/",
          "height": 545
        },
        "id": "TxaYfpuIWq2n",
        "outputId": "b37e7352-0397-4a98-c843-efdb987f5545"
      },
      "execution_count": 9,
      "outputs": [
        {
          "output_type": "display_data",
          "data": {
            "text/plain": [
              "<Figure size 800x600 with 2 Axes>"
            ],
            "image/png": "[encoded data removed]"
          },
          "metadata": {}
        }
      ]
    },
    {
      "cell_type": "code",
      "source": [
        "#21. Use seaborn to create a correlation matrix for a dataset.\n",
        "import pandas as pd\n",
        "import seaborn as sns\n",
        "import matplotlib.pyplot as plt\n",
        "\n",
        "# Step 1: Create a sample dataset\n",
        "data = {\n",
        "'Height': [160, 165, 170, 175, 180, 185],\n",
        "'Weight': [55, 60, 65, 70, 75, 80],\n",
        "'Age': [22, 25, 30, 35, 40, 45],\n",
        "'Score': [88, 85, 90, 92, 95, 89]\n",
        "\n",
        "}\n",
        "\n",
        "df = pd.DataFrame(data)\n",
        "\n",
        "# Step 2: Compute correlation matrix\n",
        "corr_matrix = df.corr()\n",
        "\n",
        "# Step 3: Plot heatmap\n",
        "plt.figure(figsize=(8, 6))\n",
        "sns.heatmap(corr_matrix, annot=True, cmap='YlGnBu', fmt=\".2f\")\n",
        "plt.title(\"Correlation Matrix Heatmap\")\n",
        "plt.show()\n",
        "\n"
      ],
      "metadata": {
        "colab": {
          "base_uri": "https://localhost:8080/",
          "height": 545
        },
        "id": "UD6H40BqW34L",
        "outputId": "0cf8fa77-dc70-4736-ff68-c957b1c60955"
      },
      "execution_count": 10,
      "outputs": [
        {
          "output_type": "display_data",
          "data": {
            "text/plain": [
              "<Figure size 800x600 with 2 Axes>"
            ],
            "image/png": "[encoded data removed]"
          },
          "metadata": {}
        }
      ]
    },
    {
      "cell_type": "code",
      "source": [
        "#22. Generate a dataset and implement both variance and standard deviation computations.\n",
        "\n",
        "import numpy as np\n",
        "\n",
        "# Step 1: Generate a sample dataset\n",
        "data = np.array([12, 15, 18, 21, 24, 27, 30])\n",
        "\n",
        "# Step 2: Compute Mean\n",
        "mean = np.mean(data)\n",
        "\n",
        "# Step 3: Compute Variance (manual & NumPy)\n",
        "manual_variance = sum((x - mean)**2 for x in data) / len(data)\t# Population variance\n",
        "numpy_variance = np.var(data)\n",
        "# Step 4: Compute Standard Deviation (manual & NumPy)\n",
        "manual_std_dev = manual_variance ** 0.5\n",
        "numpy_std_dev = np.std(data)\n",
        "\n",
        "# Step 5: Print the results print(\"Dataset:\", data) print(\"Mean:\", mean)\n",
        "print(\"\\nManual Variance:\", round(manual_variance, 2))\n",
        "print(\"NumPy Variance:\", round(numpy_variance, 2))\n",
        "print(\"\\nManual Standard Deviation:\", round(manual_std_dev, 2))\n",
        "print(\"NumPy Standard Deviation:\", round(numpy_std_dev, 2))\n",
        "\n"
      ],
      "metadata": {
        "colab": {
          "base_uri": "https://localhost:8080/"
        },
        "id": "-qrzQB97XHQC",
        "outputId": "52c54d92-f85f-4cba-d39e-73940a590aa5"
      },
      "execution_count": 13,
      "outputs": [
        {
          "output_type": "stream",
          "name": "stdout",
          "text": [
            "\n",
            "Manual Variance: 36.0\n",
            "NumPy Variance: 36.0\n",
            "\n",
            "Manual Standard Deviation: 6.0\n",
            "NumPy Standard Deviation: 6.0\n"
          ]
        }
      ]
    },
    {
      "cell_type": "code",
      "source": [
        "#23. Visualize skewness and kurtosis using Python libraries like matplotlib or seaborn.\n",
        "import numpy as np\n",
        "import seaborn as sns\n",
        "import matplotlib.pyplot as plt\n",
        "from scipy.stats import skew, kurtosis\n",
        "\n",
        "# Step 1: Generate a dataset (positively skewed example)\n",
        "data = np.random.exponential(scale=2, size=1000)\n",
        "\n",
        "# Step 2: Calculate skewness and kurtosis\n",
        "data_skewness = skew(data)\n",
        "data_kurtosis = kurtosis(data) # Fisher’s definition: normal = 0\n",
        "\n",
        "# Step 3: Plot histogram + KDE\n",
        "plt.figure(figsize=(10, 6))\n",
        "sns.histplot(data, kde=True, bins=30, color='skyblue')\n",
        "plt.title(\"Histogram with KDE: Skewness & Kurtosis Visualization\")\n",
        "plt.xlabel(\"Values\")\n",
        "plt.ylabel(\"Frequency\")\n",
        "\n",
        "# Step 4: Show skewness and kurtosis in plot plt.axvline(np.mean(data), color='red', linestyle='--', label='Mean') plt.legend()\n",
        "plt.text(x=max(data)*0.5, y=100,\n",
        "s=f\"Skewness: {data_skewness:.2f}\\nKurtosis: {data_kurtosis:.2f}\", fontsize=12, bbox=dict(facecolor='white', edgecolor='black'))\n",
        "\n",
        "plt.show()\n",
        "\n"
      ],
      "metadata": {
        "colab": {
          "base_uri": "https://localhost:8080/",
          "height": 500
        },
        "id": "MvzLW-weXvi8",
        "outputId": "5f1d63e8-6ed7-47ad-e9fc-cadf0f300b9d"
      },
      "execution_count": 14,
      "outputs": [
        {
          "output_type": "display_data",
          "data": {
            "text/plain": [
              "<Figure size 1000x600 with 1 Axes>"
            ],
            "image/png": "[encoded data removed]"
          },
          "metadata": {}
        }
      ]
    },
    {
      "cell_type": "code",
      "source": [
        "#24. Implement the Pearson and Spearman correlation coefficients for a dataset.\n",
        "\n",
        "import pandas as pd\n",
        "from scipy.stats import pearsonr, spearmanr\n",
        "\n",
        "# Sample dataset\n",
        "data = {\n",
        "'X': [10, 20, 30, 40, 50, 60, 70],\n",
        "'Y': [15, 24, 33, 45, 52, 63, 72]\n",
        "}\n",
        "\n",
        "df = pd.DataFrame(data)\n",
        "\n",
        "# Calculate Pearson correlation\n",
        "pearson_corr, pearson_p = pearsonr(df['X'], df['Y'])\n",
        "\n",
        "# Calculate Spearman correlation\n",
        "spearman_corr, spearman_p = spearmanr(df['X'], df['Y'])\n",
        "\n",
        "print(f\"Pearson Correlation: {pearson_corr:.3f}, p-value: {pearson_p:.3f}\")\n",
        "print(f\"Spearman Correlation: {spearman_corr:.3f}, p-value: {spearman_p:.3f}\")\n"
      ],
      "metadata": {
        "colab": {
          "base_uri": "https://localhost:8080/"
        },
        "id": "12WLlX1bX437",
        "outputId": "63b2899a-cb7b-4c41-90a9-0d1712543f5b"
      },
      "execution_count": 15,
      "outputs": [
        {
          "output_type": "stream",
          "name": "stdout",
          "text": [
            "Pearson Correlation: 0.999, p-value: 0.000\n",
            "Spearman Correlation: 1.000, p-value: 0.000\n"
          ]
        }
      ]
    }
  ]
}